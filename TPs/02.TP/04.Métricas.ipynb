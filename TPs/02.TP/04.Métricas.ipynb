{
 "cells": [
  {
   "cell_type": "markdown",
   "metadata": {},
   "source": [
    "# TP 2 - algoritmos de ensambles "
   ]
  },
  {
   "cell_type": "markdown",
   "metadata": {},
   "source": [
    "El objetivo de este trabajo práctico es analizar las particularidades de la utilización de algoritmos de ensambles aplicados en casos casi reales. El mismo pretende fijar conceptos estudiados en la teoría: métodos de ensamble; random forests; boosting; sobreajuste; tolerancia al ruido. El material básico para la elaboración del presente trabajo se encuentra en las teóricas y prácticas presentadas hasta el momento y en las próximas clases y en las referencias bibliográficas indicadas [1,2,3]. Podrá utilizarse cualquier otra fuente siempre que esté correctamente referenciada.\n",
    "El presente trabajo será grupal. El grupo deberá estar compuesto por exactamente tres integrantes. Se evaluarán los contenidos del Trabajo Práctico durante el coloquio posterior a la entrega del TP junto al material teórico y práctico enseñado en las clases de toda la materia. Todos los integrantes deben tener conocimiento del desarrollo del TP."
   ]
  },
  {
   "cell_type": "markdown",
   "metadata": {},
   "source": [
    "**Opcionales (dan puntos extra)**:\n",
    "\n",
    "* Sumar al punto c) un modelo de perceptrón multicapa.\n",
    "* Evaluar el desempeño de los modelos al utilizar el conjunto de atributos ComParE 2016."
   ]
  },
  {
   "cell_type": "markdown",
   "metadata": {},
   "source": [
    "**La fecha límite de entrega es el lunes 28 de junio a las 17:00 hs.**"
   ]
  },
  {
   "cell_type": "markdown",
   "metadata": {},
   "source": [
    "**tbd** \n",
    "* Sacar a otro notebook la búsqueda de hiperparámetros de adabost, randomforest y bagging\n",
    "* Sacar a otro notebook el entrenamiento del perceptron"
   ]
  },
  {
   "cell_type": "markdown",
   "metadata": {},
   "source": [
    "## Cargar librerias\n"
   ]
  },
  {
   "cell_type": "code",
   "execution_count": 64,
   "metadata": {},
   "outputs": [],
   "source": [
    "import datetime\n",
    "import IPython\n",
    "import math\n",
    "import numpy as np\n",
    "import matplotlib.pyplot as plt\n",
    "import pandas as pd\n",
    "import seaborn as sns\n",
    "import sweetviz as sv\n",
    "import time\n",
    "from matplotlib import pyplot\n",
    "from numpy import mean\n",
    "from numpy import std\n",
    "from urllib.parse import urlparse"
   ]
  },
  {
   "cell_type": "code",
   "execution_count": 65,
   "metadata": {},
   "outputs": [],
   "source": [
    "from sklearn.feature_extraction.text import CountVectorizer, TfidfVectorizer\n",
    "from sklearn.model_selection import train_test_split\n",
    "from sklearn.naive_bayes import MultinomialNB, GaussianNB\n",
    "from sklearn.metrics import classification_report\n",
    "import matplotlib.pyplot as plt"
   ]
  },
  {
   "cell_type": "code",
   "execution_count": 66,
   "metadata": {},
   "outputs": [],
   "source": [
    "from scipy import stats\n",
    "from scipy.stats import chi2_contingency\n",
    "from sklearn.calibration import calibration_curve\n",
    "from sklearn.impute import KNNImputer\n",
    "from sklearn.feature_selection import RFE\n",
    "from sklearn.metrics import (\n",
    "    roc_curve,\n",
    "    make_scorer,\n",
    "    accuracy_score,\n",
    "    fbeta_score,\n",
    "    precision_score,\n",
    "    recall_score,\n",
    "    f1_score,\n",
    "    classification_report,\n",
    "    confusion_matrix,\n",
    ")\n",
    "from sklearn.model_selection import (\n",
    "    train_test_split,\n",
    "    cross_val_score,\n",
    "    StratifiedKFold,\n",
    "    KFold,\n",
    "    GridSearchCV,\n",
    "    RandomizedSearchCV,\n",
    "    RepeatedStratifiedKFold,\n",
    ")\n",
    "from sklearn.pipeline import Pipeline\n",
    "from sklearn.preprocessing import OneHotEncoder\n",
    "from sklearn.tree import DecisionTreeClassifier, plot_tree\n",
    "from sklearn import tree\n",
    "import pickle\n",
    "from sklearn.model_selection import LeaveOneGroupOut\n",
    "\n",
    "from sklearn.ensemble import BaggingClassifier\n",
    "from sklearn.model_selection import KFold, cross_val_score"
   ]
  },
  {
   "cell_type": "code",
   "execution_count": 67,
   "metadata": {},
   "outputs": [],
   "source": [
    "# # Observación: Descomentar en caso de que quieran versionar los modelos y la búsqueda de hiperparámetros.\n",
    "# import mlflow\n",
    "# import mlflow.sklearn\n",
    "# from mlflow.tracking import MlflowClient"
   ]
  },
  {
   "cell_type": "markdown",
   "metadata": {},
   "source": [
    "## Cargar dataset"
   ]
  },
  {
   "cell_type": "code",
   "execution_count": 68,
   "metadata": {},
   "outputs": [
    {
     "data": {
      "text/html": [
       "<div>\n",
       "<style scoped>\n",
       "    .dataframe tbody tr th:only-of-type {\n",
       "        vertical-align: middle;\n",
       "    }\n",
       "\n",
       "    .dataframe tbody tr th {\n",
       "        vertical-align: top;\n",
       "    }\n",
       "\n",
       "    .dataframe thead th {\n",
       "        text-align: right;\n",
       "    }\n",
       "</style>\n",
       "<table border=\"1\" class=\"dataframe\">\n",
       "  <thead>\n",
       "    <tr style=\"text-align: right;\">\n",
       "      <th></th>\n",
       "      <th>Unnamed: 0</th>\n",
       "      <th>file_path</th>\n",
       "      <th>modality</th>\n",
       "      <th>vocal_channel</th>\n",
       "      <th>emotion</th>\n",
       "      <th>emotional_intensity</th>\n",
       "      <th>statement</th>\n",
       "      <th>repetition</th>\n",
       "      <th>actor</th>\n",
       "      <th>start</th>\n",
       "      <th>...</th>\n",
       "      <th>slopeUV0-500_sma3nz_amean</th>\n",
       "      <th>slopeUV500-1500_sma3nz_amean</th>\n",
       "      <th>spectralFluxUV_sma3nz_amean</th>\n",
       "      <th>loudnessPeaksPerSec</th>\n",
       "      <th>VoicedSegmentsPerSec</th>\n",
       "      <th>MeanVoicedSegmentLengthSec</th>\n",
       "      <th>StddevVoicedSegmentLengthSec</th>\n",
       "      <th>MeanUnvoicedSegmentLength</th>\n",
       "      <th>StddevUnvoicedSegmentLength</th>\n",
       "      <th>equivalentSoundLevel_dBp</th>\n",
       "    </tr>\n",
       "  </thead>\n",
       "  <tbody>\n",
       "    <tr>\n",
       "      <th>0</th>\n",
       "      <td>0</td>\n",
       "      <td>./audios/ravdess/Actor_23/03-01-07-02-02-01-23...</td>\n",
       "      <td>3</td>\n",
       "      <td>1</td>\n",
       "      <td>7</td>\n",
       "      <td>2</td>\n",
       "      <td>2</td>\n",
       "      <td>1</td>\n",
       "      <td>23</td>\n",
       "      <td>0 days 00:00:00</td>\n",
       "      <td>...</td>\n",
       "      <td>0.075190</td>\n",
       "      <td>0.014015</td>\n",
       "      <td>0.022255</td>\n",
       "      <td>2.150538</td>\n",
       "      <td>1.089918</td>\n",
       "      <td>0.2825</td>\n",
       "      <td>0.126763</td>\n",
       "      <td>0.4900</td>\n",
       "      <td>0.397291</td>\n",
       "      <td>-36.658245</td>\n",
       "    </tr>\n",
       "    <tr>\n",
       "      <th>1</th>\n",
       "      <td>1</td>\n",
       "      <td>./audios/ravdess/Actor_23/03-02-03-02-02-01-23...</td>\n",
       "      <td>3</td>\n",
       "      <td>2</td>\n",
       "      <td>3</td>\n",
       "      <td>2</td>\n",
       "      <td>2</td>\n",
       "      <td>1</td>\n",
       "      <td>23</td>\n",
       "      <td>0 days 00:00:00</td>\n",
       "      <td>...</td>\n",
       "      <td>0.020998</td>\n",
       "      <td>0.009869</td>\n",
       "      <td>0.018871</td>\n",
       "      <td>1.492537</td>\n",
       "      <td>0.646552</td>\n",
       "      <td>0.8200</td>\n",
       "      <td>0.277248</td>\n",
       "      <td>0.5275</td>\n",
       "      <td>0.438770</td>\n",
       "      <td>-29.391884</td>\n",
       "    </tr>\n",
       "    <tr>\n",
       "      <th>2</th>\n",
       "      <td>2</td>\n",
       "      <td>./audios/ravdess/Actor_23/03-01-04-01-02-01-23...</td>\n",
       "      <td>3</td>\n",
       "      <td>1</td>\n",
       "      <td>4</td>\n",
       "      <td>1</td>\n",
       "      <td>2</td>\n",
       "      <td>1</td>\n",
       "      <td>23</td>\n",
       "      <td>0 days 00:00:00</td>\n",
       "      <td>...</td>\n",
       "      <td>0.047365</td>\n",
       "      <td>0.011048</td>\n",
       "      <td>0.011381</td>\n",
       "      <td>2.247191</td>\n",
       "      <td>0.569801</td>\n",
       "      <td>0.5900</td>\n",
       "      <td>0.160000</td>\n",
       "      <td>0.7600</td>\n",
       "      <td>0.296985</td>\n",
       "      <td>-43.332924</td>\n",
       "    </tr>\n",
       "    <tr>\n",
       "      <th>3</th>\n",
       "      <td>3</td>\n",
       "      <td>./audios/ravdess/Actor_23/03-02-04-02-02-01-23...</td>\n",
       "      <td>3</td>\n",
       "      <td>2</td>\n",
       "      <td>4</td>\n",
       "      <td>2</td>\n",
       "      <td>2</td>\n",
       "      <td>1</td>\n",
       "      <td>23</td>\n",
       "      <td>0 days 00:00:00</td>\n",
       "      <td>...</td>\n",
       "      <td>0.041743</td>\n",
       "      <td>0.012340</td>\n",
       "      <td>0.007390</td>\n",
       "      <td>1.394422</td>\n",
       "      <td>0.603622</td>\n",
       "      <td>0.9300</td>\n",
       "      <td>0.885701</td>\n",
       "      <td>0.5275</td>\n",
       "      <td>0.420260</td>\n",
       "      <td>-37.549572</td>\n",
       "    </tr>\n",
       "    <tr>\n",
       "      <th>4</th>\n",
       "      <td>4</td>\n",
       "      <td>./audios/ravdess/Actor_23/03-01-02-02-02-02-23...</td>\n",
       "      <td>3</td>\n",
       "      <td>1</td>\n",
       "      <td>2</td>\n",
       "      <td>2</td>\n",
       "      <td>2</td>\n",
       "      <td>2</td>\n",
       "      <td>23</td>\n",
       "      <td>0 days 00:00:00</td>\n",
       "      <td>...</td>\n",
       "      <td>0.053580</td>\n",
       "      <td>0.011590</td>\n",
       "      <td>0.005245</td>\n",
       "      <td>1.535088</td>\n",
       "      <td>0.886918</td>\n",
       "      <td>0.3875</td>\n",
       "      <td>0.206079</td>\n",
       "      <td>0.5740</td>\n",
       "      <td>0.424999</td>\n",
       "      <td>-43.261425</td>\n",
       "    </tr>\n",
       "  </tbody>\n",
       "</table>\n",
       "<p>5 rows × 99 columns</p>\n",
       "</div>"
      ],
      "text/plain": [
       "   Unnamed: 0                                          file_path  modality  \\\n",
       "0           0  ./audios/ravdess/Actor_23/03-01-07-02-02-01-23...         3   \n",
       "1           1  ./audios/ravdess/Actor_23/03-02-03-02-02-01-23...         3   \n",
       "2           2  ./audios/ravdess/Actor_23/03-01-04-01-02-01-23...         3   \n",
       "3           3  ./audios/ravdess/Actor_23/03-02-04-02-02-01-23...         3   \n",
       "4           4  ./audios/ravdess/Actor_23/03-01-02-02-02-02-23...         3   \n",
       "\n",
       "   vocal_channel  emotion  emotional_intensity  statement  repetition  actor  \\\n",
       "0              1        7                    2          2           1     23   \n",
       "1              2        3                    2          2           1     23   \n",
       "2              1        4                    1          2           1     23   \n",
       "3              2        4                    2          2           1     23   \n",
       "4              1        2                    2          2           2     23   \n",
       "\n",
       "             start  ... slopeUV0-500_sma3nz_amean  \\\n",
       "0  0 days 00:00:00  ...                  0.075190   \n",
       "1  0 days 00:00:00  ...                  0.020998   \n",
       "2  0 days 00:00:00  ...                  0.047365   \n",
       "3  0 days 00:00:00  ...                  0.041743   \n",
       "4  0 days 00:00:00  ...                  0.053580   \n",
       "\n",
       "   slopeUV500-1500_sma3nz_amean  spectralFluxUV_sma3nz_amean  \\\n",
       "0                      0.014015                     0.022255   \n",
       "1                      0.009869                     0.018871   \n",
       "2                      0.011048                     0.011381   \n",
       "3                      0.012340                     0.007390   \n",
       "4                      0.011590                     0.005245   \n",
       "\n",
       "   loudnessPeaksPerSec  VoicedSegmentsPerSec  MeanVoicedSegmentLengthSec  \\\n",
       "0             2.150538              1.089918                      0.2825   \n",
       "1             1.492537              0.646552                      0.8200   \n",
       "2             2.247191              0.569801                      0.5900   \n",
       "3             1.394422              0.603622                      0.9300   \n",
       "4             1.535088              0.886918                      0.3875   \n",
       "\n",
       "   StddevVoicedSegmentLengthSec  MeanUnvoicedSegmentLength  \\\n",
       "0                      0.126763                     0.4900   \n",
       "1                      0.277248                     0.5275   \n",
       "2                      0.160000                     0.7600   \n",
       "3                      0.885701                     0.5275   \n",
       "4                      0.206079                     0.5740   \n",
       "\n",
       "   StddevUnvoicedSegmentLength  equivalentSoundLevel_dBp  \n",
       "0                     0.397291                -36.658245  \n",
       "1                     0.438770                -29.391884  \n",
       "2                     0.296985                -43.332924  \n",
       "3                     0.420260                -37.549572  \n",
       "4                     0.424999                -43.261425  \n",
       "\n",
       "[5 rows x 99 columns]"
      ]
     },
     "execution_count": 68,
     "metadata": {},
     "output_type": "execute_result"
    }
   ],
   "source": [
    "df_original = pd.read_csv(\"01.df.procesado.csv\")\n",
    "# df_original = pd.read_csv(\"https://raw.githubusercontent.com/blukitas/AA-2021/main/TPs/02.TP/01.df.procesado.csv\")\n",
    "df_original.head()"
   ]
  },
  {
   "cell_type": "code",
   "execution_count": 69,
   "metadata": {
    "scrolled": true
   },
   "outputs": [
    {
     "data": {
      "text/plain": [
       "['Unnamed: 0',\n",
       " 'modality',\n",
       " 'vocal_channel',\n",
       " 'emotion',\n",
       " 'emotional_intensity',\n",
       " 'statement',\n",
       " 'repetition',\n",
       " 'actor',\n",
       " 'F0semitoneFrom27.5Hz_sma3nz_amean',\n",
       " 'F0semitoneFrom27.5Hz_sma3nz_stddevNorm',\n",
       " 'F0semitoneFrom27.5Hz_sma3nz_percentile20.0',\n",
       " 'F0semitoneFrom27.5Hz_sma3nz_percentile50.0',\n",
       " 'F0semitoneFrom27.5Hz_sma3nz_percentile80.0',\n",
       " 'F0semitoneFrom27.5Hz_sma3nz_pctlrange0-2',\n",
       " 'F0semitoneFrom27.5Hz_sma3nz_meanRisingSlope',\n",
       " 'F0semitoneFrom27.5Hz_sma3nz_stddevRisingSlope',\n",
       " 'F0semitoneFrom27.5Hz_sma3nz_meanFallingSlope',\n",
       " 'F0semitoneFrom27.5Hz_sma3nz_stddevFallingSlope',\n",
       " 'loudness_sma3_amean',\n",
       " 'loudness_sma3_stddevNorm',\n",
       " 'loudness_sma3_percentile20.0',\n",
       " 'loudness_sma3_percentile50.0',\n",
       " 'loudness_sma3_percentile80.0',\n",
       " 'loudness_sma3_pctlrange0-2',\n",
       " 'loudness_sma3_meanRisingSlope',\n",
       " 'loudness_sma3_stddevRisingSlope',\n",
       " 'loudness_sma3_meanFallingSlope',\n",
       " 'loudness_sma3_stddevFallingSlope',\n",
       " 'spectralFlux_sma3_amean',\n",
       " 'spectralFlux_sma3_stddevNorm',\n",
       " 'mfcc1_sma3_amean',\n",
       " 'mfcc1_sma3_stddevNorm',\n",
       " 'mfcc2_sma3_amean',\n",
       " 'mfcc2_sma3_stddevNorm',\n",
       " 'mfcc3_sma3_amean',\n",
       " 'mfcc3_sma3_stddevNorm',\n",
       " 'mfcc4_sma3_amean',\n",
       " 'mfcc4_sma3_stddevNorm',\n",
       " 'jitterLocal_sma3nz_amean',\n",
       " 'jitterLocal_sma3nz_stddevNorm',\n",
       " 'shimmerLocaldB_sma3nz_amean',\n",
       " 'shimmerLocaldB_sma3nz_stddevNorm',\n",
       " 'HNRdBACF_sma3nz_amean',\n",
       " 'HNRdBACF_sma3nz_stddevNorm',\n",
       " 'logRelF0-H1-H2_sma3nz_amean',\n",
       " 'logRelF0-H1-H2_sma3nz_stddevNorm',\n",
       " 'logRelF0-H1-A3_sma3nz_amean',\n",
       " 'logRelF0-H1-A3_sma3nz_stddevNorm',\n",
       " 'F1frequency_sma3nz_amean',\n",
       " 'F1frequency_sma3nz_stddevNorm',\n",
       " 'F1bandwidth_sma3nz_amean',\n",
       " 'F1bandwidth_sma3nz_stddevNorm',\n",
       " 'F1amplitudeLogRelF0_sma3nz_amean',\n",
       " 'F1amplitudeLogRelF0_sma3nz_stddevNorm',\n",
       " 'F2frequency_sma3nz_amean',\n",
       " 'F2frequency_sma3nz_stddevNorm',\n",
       " 'F2bandwidth_sma3nz_amean',\n",
       " 'F2bandwidth_sma3nz_stddevNorm',\n",
       " 'F2amplitudeLogRelF0_sma3nz_amean',\n",
       " 'F2amplitudeLogRelF0_sma3nz_stddevNorm',\n",
       " 'F3frequency_sma3nz_amean',\n",
       " 'F3frequency_sma3nz_stddevNorm',\n",
       " 'F3bandwidth_sma3nz_amean',\n",
       " 'F3bandwidth_sma3nz_stddevNorm',\n",
       " 'F3amplitudeLogRelF0_sma3nz_amean',\n",
       " 'F3amplitudeLogRelF0_sma3nz_stddevNorm',\n",
       " 'alphaRatioV_sma3nz_amean',\n",
       " 'alphaRatioV_sma3nz_stddevNorm',\n",
       " 'hammarbergIndexV_sma3nz_amean',\n",
       " 'hammarbergIndexV_sma3nz_stddevNorm',\n",
       " 'slopeV0-500_sma3nz_amean',\n",
       " 'slopeV0-500_sma3nz_stddevNorm',\n",
       " 'slopeV500-1500_sma3nz_amean',\n",
       " 'slopeV500-1500_sma3nz_stddevNorm',\n",
       " 'spectralFluxV_sma3nz_amean',\n",
       " 'spectralFluxV_sma3nz_stddevNorm',\n",
       " 'mfcc1V_sma3nz_amean',\n",
       " 'mfcc1V_sma3nz_stddevNorm',\n",
       " 'mfcc2V_sma3nz_amean',\n",
       " 'mfcc2V_sma3nz_stddevNorm',\n",
       " 'mfcc3V_sma3nz_amean',\n",
       " 'mfcc3V_sma3nz_stddevNorm',\n",
       " 'mfcc4V_sma3nz_amean',\n",
       " 'mfcc4V_sma3nz_stddevNorm',\n",
       " 'alphaRatioUV_sma3nz_amean',\n",
       " 'hammarbergIndexUV_sma3nz_amean',\n",
       " 'slopeUV0-500_sma3nz_amean',\n",
       " 'slopeUV500-1500_sma3nz_amean',\n",
       " 'spectralFluxUV_sma3nz_amean',\n",
       " 'loudnessPeaksPerSec',\n",
       " 'VoicedSegmentsPerSec',\n",
       " 'MeanVoicedSegmentLengthSec',\n",
       " 'StddevVoicedSegmentLengthSec',\n",
       " 'MeanUnvoicedSegmentLength',\n",
       " 'StddevUnvoicedSegmentLength',\n",
       " 'equivalentSoundLevel_dBp']"
      ]
     },
     "execution_count": 69,
     "metadata": {},
     "output_type": "execute_result"
    }
   ],
   "source": [
    "num_columns = [col for col in df_original.columns if df_original[col].dtype != \"object\"]\n",
    "num_columns"
   ]
  },
  {
   "cell_type": "code",
   "execution_count": 70,
   "metadata": {
    "scrolled": true
   },
   "outputs": [
    {
     "data": {
      "text/plain": [
       "['emotion',\n",
       " 'actor',\n",
       " 'F0semitoneFrom27.5Hz_sma3nz_amean',\n",
       " 'F0semitoneFrom27.5Hz_sma3nz_stddevNorm',\n",
       " 'F0semitoneFrom27.5Hz_sma3nz_percentile20.0',\n",
       " 'F0semitoneFrom27.5Hz_sma3nz_percentile50.0',\n",
       " 'F0semitoneFrom27.5Hz_sma3nz_percentile80.0',\n",
       " 'F0semitoneFrom27.5Hz_sma3nz_pctlrange0-2',\n",
       " 'F0semitoneFrom27.5Hz_sma3nz_meanRisingSlope',\n",
       " 'F0semitoneFrom27.5Hz_sma3nz_stddevRisingSlope',\n",
       " 'F0semitoneFrom27.5Hz_sma3nz_meanFallingSlope',\n",
       " 'F0semitoneFrom27.5Hz_sma3nz_stddevFallingSlope',\n",
       " 'loudness_sma3_amean',\n",
       " 'loudness_sma3_stddevNorm',\n",
       " 'loudness_sma3_percentile20.0',\n",
       " 'loudness_sma3_percentile50.0',\n",
       " 'loudness_sma3_percentile80.0',\n",
       " 'loudness_sma3_pctlrange0-2',\n",
       " 'loudness_sma3_meanRisingSlope',\n",
       " 'loudness_sma3_stddevRisingSlope',\n",
       " 'loudness_sma3_meanFallingSlope',\n",
       " 'loudness_sma3_stddevFallingSlope',\n",
       " 'spectralFlux_sma3_amean',\n",
       " 'spectralFlux_sma3_stddevNorm',\n",
       " 'mfcc1_sma3_amean',\n",
       " 'mfcc1_sma3_stddevNorm',\n",
       " 'mfcc2_sma3_amean',\n",
       " 'mfcc2_sma3_stddevNorm',\n",
       " 'mfcc3_sma3_amean',\n",
       " 'mfcc3_sma3_stddevNorm',\n",
       " 'mfcc4_sma3_amean',\n",
       " 'mfcc4_sma3_stddevNorm',\n",
       " 'jitterLocal_sma3nz_amean',\n",
       " 'jitterLocal_sma3nz_stddevNorm',\n",
       " 'shimmerLocaldB_sma3nz_amean',\n",
       " 'shimmerLocaldB_sma3nz_stddevNorm',\n",
       " 'HNRdBACF_sma3nz_amean',\n",
       " 'HNRdBACF_sma3nz_stddevNorm',\n",
       " 'logRelF0-H1-H2_sma3nz_amean',\n",
       " 'logRelF0-H1-H2_sma3nz_stddevNorm',\n",
       " 'logRelF0-H1-A3_sma3nz_amean',\n",
       " 'logRelF0-H1-A3_sma3nz_stddevNorm',\n",
       " 'F1frequency_sma3nz_amean',\n",
       " 'F1frequency_sma3nz_stddevNorm',\n",
       " 'F1bandwidth_sma3nz_amean',\n",
       " 'F1bandwidth_sma3nz_stddevNorm',\n",
       " 'F1amplitudeLogRelF0_sma3nz_amean',\n",
       " 'F1amplitudeLogRelF0_sma3nz_stddevNorm',\n",
       " 'F2frequency_sma3nz_amean',\n",
       " 'F2frequency_sma3nz_stddevNorm',\n",
       " 'F2bandwidth_sma3nz_amean',\n",
       " 'F2bandwidth_sma3nz_stddevNorm',\n",
       " 'F2amplitudeLogRelF0_sma3nz_amean',\n",
       " 'F2amplitudeLogRelF0_sma3nz_stddevNorm',\n",
       " 'F3frequency_sma3nz_amean',\n",
       " 'F3frequency_sma3nz_stddevNorm',\n",
       " 'F3bandwidth_sma3nz_amean',\n",
       " 'F3bandwidth_sma3nz_stddevNorm',\n",
       " 'F3amplitudeLogRelF0_sma3nz_amean',\n",
       " 'F3amplitudeLogRelF0_sma3nz_stddevNorm',\n",
       " 'alphaRatioV_sma3nz_amean',\n",
       " 'alphaRatioV_sma3nz_stddevNorm',\n",
       " 'hammarbergIndexV_sma3nz_amean',\n",
       " 'hammarbergIndexV_sma3nz_stddevNorm',\n",
       " 'slopeV0-500_sma3nz_amean',\n",
       " 'slopeV0-500_sma3nz_stddevNorm',\n",
       " 'slopeV500-1500_sma3nz_amean',\n",
       " 'slopeV500-1500_sma3nz_stddevNorm',\n",
       " 'spectralFluxV_sma3nz_amean',\n",
       " 'spectralFluxV_sma3nz_stddevNorm',\n",
       " 'mfcc1V_sma3nz_amean',\n",
       " 'mfcc1V_sma3nz_stddevNorm',\n",
       " 'mfcc2V_sma3nz_amean',\n",
       " 'mfcc2V_sma3nz_stddevNorm',\n",
       " 'mfcc3V_sma3nz_amean',\n",
       " 'mfcc3V_sma3nz_stddevNorm',\n",
       " 'mfcc4V_sma3nz_amean',\n",
       " 'mfcc4V_sma3nz_stddevNorm',\n",
       " 'alphaRatioUV_sma3nz_amean',\n",
       " 'hammarbergIndexUV_sma3nz_amean',\n",
       " 'slopeUV0-500_sma3nz_amean',\n",
       " 'slopeUV500-1500_sma3nz_amean',\n",
       " 'spectralFluxUV_sma3nz_amean',\n",
       " 'loudnessPeaksPerSec',\n",
       " 'VoicedSegmentsPerSec',\n",
       " 'MeanVoicedSegmentLengthSec',\n",
       " 'StddevVoicedSegmentLengthSec',\n",
       " 'MeanUnvoicedSegmentLength',\n",
       " 'StddevUnvoicedSegmentLength',\n",
       " 'equivalentSoundLevel_dBp']"
      ]
     },
     "execution_count": 70,
     "metadata": {},
     "output_type": "execute_result"
    }
   ],
   "source": [
    "drop_columns = [\n",
    "    \"file_path\",\n",
    "    \"Unnamed: 0\",\n",
    "    \"modality\",\n",
    "    \"vocal_channel\",\n",
    "#     \"emotion\",\n",
    "    \"emotional_intensity\",\n",
    "    \"statement\",\n",
    "    \"repetition\",\n",
    "#     \"actor\",\n",
    "]\n",
    "num_columns = [x for x in num_columns if x not in drop_columns]\n",
    "num_columns"
   ]
  },
  {
   "cell_type": "code",
   "execution_count": 71,
   "metadata": {},
   "outputs": [],
   "source": [
    "df_proc = df_original[num_columns] #.head(10000)"
   ]
  },
  {
   "cell_type": "markdown",
   "metadata": {},
   "source": [
    "## Split del dataset"
   ]
  },
  {
   "cell_type": "code",
   "execution_count": 72,
   "metadata": {},
   "outputs": [],
   "source": [
    "from sklearn.model_selection import train_test_split\n",
    "\n",
    "X_train, X_test, y_train, y_test = train_test_split(\n",
    "    df_proc.loc[:, df_proc.columns != \"emotion\"],\n",
    "    df_proc[\"emotion\"],\n",
    "    stratify=df_proc[\"emotion\"],\n",
    "    random_state=66,\n",
    ")"
   ]
  },
  {
   "cell_type": "code",
   "execution_count": 73,
   "metadata": {},
   "outputs": [],
   "source": [
    "groups = (X_train.actor // 2) + 1"
   ]
  },
  {
   "cell_type": "code",
   "execution_count": 74,
   "metadata": {},
   "outputs": [],
   "source": [
    "labels_cm = ['Neu.', 'Calm','Hap.','Sad','Angry','Fear.','Disg.','Surpr.']"
   ]
  },
  {
   "cell_type": "markdown",
   "metadata": {},
   "source": [
    "## Desarrollo de modelos de ensamble\n",
    "\n",
    "B) Elegir un modelo de ensamble visto durante las clases y entrenarlo para predecir emociones dividiendo el dataset de las siguientes maneras:\n",
    "    i) 12-fold cross validation armando los folds de forma aleatoria.\n",
    "    ii) Leave-2-speakers out. Es decir, 12 folds conteniendo cada uno 2 actores distintos. Se recomienda utilizar la función de sklearn LeaveOneGroupOut\n",
    "\n",
    "Reportar los resultados obtenidos y realizar un análisis de los mismos, teniendo en cuenta las características del dataset utilizado."
   ]
  },
  {
   "cell_type": "markdown",
   "metadata": {},
   "source": [
    "### Métricas\n",
    "\n",
    "f1. \n",
    "\n",
    "Si no está desbalanceado accuracy puede ser bien. \n",
    "\n",
    "F1 es un poco más robusta, pensando en que tiene en cuenta recall y precision."
   ]
  },
  {
   "cell_type": "code",
   "execution_count": 10,
   "metadata": {
    "scrolled": true
   },
   "outputs": [
    {
     "data": {
      "text/plain": [
       "<BarContainer object of 8 artists>"
      ]
     },
     "execution_count": 10,
     "metadata": {},
     "output_type": "execute_result"
    },
    {
     "data": {
      "image/png": "[encoded data removed]",
      "text/plain": [
       "<Figure size 432x288 with 1 Axes>"
      ]
     },
     "metadata": {
      "needs_background": "light"
     },
     "output_type": "display_data"
    }
   ],
   "source": [
    "plt.bar(\n",
    "    df_proc.groupby([\"emotion\"]).loudness_sma3_amean.count().index,\n",
    "    df_proc.groupby([\"emotion\"]).loudness_sma3_amean.count(),\n",
    ")"
   ]
  },
  {
   "cell_type": "markdown",
   "metadata": {},
   "source": [
    "### Método elegido\n",
    "\n",
    "Bagging con n árboles\n"
   ]
  },
  {
   "cell_type": "markdown",
   "metadata": {},
   "source": [
    "### Árboles y búsqueda de hiperparámetros\n",
    "\n",
    "Random search en 5000 árboles. Guardar esos 5000 en un pickle/csv para recuperarlo rápido. Quedarnos con el top 100."
   ]
  },
  {
   "cell_type": "markdown",
   "metadata": {},
   "source": [
    "#### Setup mlflow\n",
    "Mlflow es una herramienta para versionado de modelos. Permite registrar paramétros, métricas y guardar los modelos entrenados asociados a una iteración.\n",
    "\n",
    "En caso de no ser necesario comentar estas lineas."
   ]
  },
  {
   "cell_type": "code",
   "execution_count": 25,
   "metadata": {},
   "outputs": [
    {
     "name": "stdout",
     "output_type": "stream",
     "text": [
      "Current tracking uri: http://mlflow_server:5000\n"
     ]
    }
   ],
   "source": [
    "# # now = datetime.datetime.now()\n",
    "# mlflow.set_tracking_uri(\"http://mlflow_server:5000\")\n",
    "# tracking_uri = mlflow.get_tracking_uri()\n",
    "# print(\"Current tracking uri: {}\".format(tracking_uri))"
   ]
  },
  {
   "cell_type": "code",
   "execution_count": 26,
   "metadata": {},
   "outputs": [
    {
     "name": "stdout",
     "output_type": "stream",
     "text": [
      "INFO: 'AA.TP2.RandomizedSearchCV.2021-06-24' does not exist. Creating a new experiment\n"
     ]
    }
   ],
   "source": [
    "# # No hace falta el create, el set lo crea si no existe\n",
    "# experiment = mlflow.set_experiment(\n",
    "#     \"AA.TP2.RandomizedSearchCV.{0}\".format(now.strftime(\"%Y-%m-%d\"))\n",
    "# )"
   ]
  },
  {
   "cell_type": "markdown",
   "metadata": {},
   "source": [
    "### Bagging propiamente dicho"
   ]
  },
  {
   "cell_type": "markdown",
   "metadata": {},
   "source": [
    "Combinan strong learners, los cuales tienen varianza alta, para reducir su varianza. El bagging consiste en utilizar distintos subsets de los datos de entrenamiento para entrenar cada learner. Los subsets se generan tomando muestras con reemplazo. Si no se hace reemplazo se denomina **pasting**, y si en lugar de tomar subsets sobre los datos, los tomamos sobre los atributos, se denomina **random subspaces**. La combinación de bagging y random subspaces se denomina **random patches**.\n",
    "\n",
    "https://www.pluralsight.com/guides/ensemble-methods:-bagging-versus-boosting\n",
    "\n",
    "Scikit Learn cuenta un tipo de objetos llamados meta-estimadores para representar a los ensambles. Este nombre se debe a que estos meta-estimadores necesitan definir estimadores base que van a ser justamente los modelos que se ajusten en cada uno de los pasos de bootstrapping. Como modelos/estimadores base podemos instanciar cualquier estimador de sklearn. Para el caso de Bagging, el meta-estimador para clasificación es:\n",
    "\n",
    "https://scikit-learn.org/stable/modules/generated/sklearn.ensemble.BaggingClassifier.html\n",
    "\n",
    "Este objeto tiene como principal parámetro a base_estimator en el cual instanciaremos un modelo. Veamos un pequeño ejemplo:"
   ]
  },
  {
   "cell_type": "markdown",
   "metadata": {},
   "source": [
    "**tbd** Acomodarlo a los árboles que usamos"
   ]
  },
  {
   "cell_type": "code",
   "execution_count": 24,
   "metadata": {},
   "outputs": [
    {
     "data": {
      "text/plain": [
       "BaggingClassifier(base_estimator=DecisionTreeClassifier(), n_estimators=1000,\n",
       "                  random_state=42)"
      ]
     },
     "execution_count": 24,
     "metadata": {},
     "output_type": "execute_result"
    }
   ],
   "source": [
    "# Version 0 del árbol\n",
    "\n",
    "# kfold = KFold(n_splits = 12,\n",
    "#                        random_state = 42, shuffle=True)\n",
    "  \n",
    "# # initialize the base classifier\n",
    "# # TBD: Inicializar con el mejor árbol\n",
    "# #      ¿Se puede inicializar con n arboles?\n",
    "# # TBD: Hacer un par y compararlos? Tiene sentido?\n",
    "# base_cls = DecisionTreeClassifier()\n",
    "  \n",
    "# # no. of base classifier\n",
    "# num_trees = 1000\n",
    "  \n",
    "# # bagging classifier\n",
    "# model = BaggingClassifier(base_estimator = base_cls,\n",
    "#                           n_estimators = num_trees,\n",
    "#                           random_state = 42)\n",
    "  \n",
    "# # max_samples en float nos dice que porcentaje del training set queremos remuestrear\n",
    "# # max_features nos da un grado mas de aleatorizacion, muestreo en las columnas/features del conjunto de datos\n",
    "# results = cross_val_score(model, X_train, y_train, cv = kfold)\n",
    "\n",
    "# # fit\n",
    "# model.fit(X_train, y_train)"
   ]
  },
  {
   "cell_type": "code",
   "execution_count": 54,
   "metadata": {},
   "outputs": [
    {
     "name": "stderr",
     "output_type": "stream",
     "text": [
      "[Parallel(n_jobs=10)]: Using backend LokyBackend with 10 concurrent workers.\n",
      "[Parallel(n_jobs=10)]: Done   2 out of  10 | elapsed:   21.6s remaining:  1.4min\n"
     ]
    },
    {
     "name": "stdout",
     "output_type": "stream",
     "text": [
      "Tiempo: 275.89 segundos\n"
     ]
    },
    {
     "name": "stderr",
     "output_type": "stream",
     "text": [
      "[Parallel(n_jobs=10)]: Done  10 out of  10 | elapsed:   22.8s finished\n"
     ]
    }
   ],
   "source": [
    "start = time.time()\n",
    "\n",
    "kfold = StratifiedKFold(n_splits=12, random_state=42, shuffle=True)\n",
    "scorer_fn = make_scorer(\n",
    "    f1_score, average=\"weighted\"\n",
    ")  # seteamos una metrica apropiada al problema multiclase\n",
    "\n",
    "base_cls = DecisionTreeClassifier(class_weight=\"balanced\")\n",
    "\n",
    "# no. of base classifier\n",
    "num_trees = 1000\n",
    "\n",
    "# bagging classifier\n",
    "model = BaggingClassifier(\n",
    "    base_estimator=base_cls,\n",
    "    n_estimators=num_trees,\n",
    "    random_state=123,\n",
    "    # shuffle=True,\n",
    "    n_jobs=10,\n",
    "    verbose=True,\n",
    ")\n",
    "\n",
    "results_f1 = cross_val_score(\n",
    "    estimator=model, X=X_train, y=y_train, cv=kfold, n_jobs=10, scoring=scorer_fn\n",
    ")\n",
    "model.fit(X_train, y_train)\n",
    "\n",
    "end = time.time()\n",
    "print(f\"Tiempo: { round(end - start, 2) } segundos\")"
   ]
  },
  {
   "cell_type": "code",
   "execution_count": 55,
   "metadata": {},
   "outputs": [],
   "source": [
    "# Ref: https://machinelearningmastery.com/save-load-machine-learning-models-python-scikit-learn/\n",
    "# pickle.dump(model, open('03.02.Bagging_stratified_balanced.pkl', 'wb'))"
   ]
  },
  {
   "cell_type": "code",
   "execution_count": 56,
   "metadata": {},
   "outputs": [],
   "source": [
    "# En caso de estar reejecutando => load model\n",
    "# loaded_model = pickle.load(open('03.02.Bagging_balanced.pkl', 'rb'))\n",
    "loaded_model = pickle.load(open('03.02.Bagging_stratified_balanced.pkl', 'rb'))"
   ]
  },
  {
   "cell_type": "code",
   "execution_count": 57,
   "metadata": {},
   "outputs": [
    {
     "name": "stderr",
     "output_type": "stream",
     "text": [
      "[Parallel(n_jobs=10)]: Using backend LokyBackend with 10 concurrent workers.\n",
      "[Parallel(n_jobs=10)]: Done   2 out of  10 | elapsed:    0.2s remaining:    0.7s\n",
      "[Parallel(n_jobs=10)]: Done  10 out of  10 | elapsed:    0.6s finished\n",
      "[Parallel(n_jobs=10)]: Using backend LokyBackend with 10 concurrent workers.\n",
      "[Parallel(n_jobs=10)]: Done   2 out of  10 | elapsed:    0.2s remaining:    0.8s\n",
      "[Parallel(n_jobs=10)]: Done  10 out of  10 | elapsed:    0.6s finished\n",
      "[Parallel(n_jobs=10)]: Using backend LokyBackend with 10 concurrent workers.\n",
      "[Parallel(n_jobs=10)]: Done   2 out of  10 | elapsed:    0.2s remaining:    0.8s\n",
      "[Parallel(n_jobs=10)]: Done  10 out of  10 | elapsed:    0.6s finished\n",
      "[Parallel(n_jobs=10)]: Using backend LokyBackend with 10 concurrent workers.\n",
      "[Parallel(n_jobs=10)]: Done   2 out of  10 | elapsed:    0.1s remaining:    0.6s\n"
     ]
    },
    {
     "name": "stdout",
     "output_type": "stream",
     "text": [
      "Accuracy training : 1.000\n",
      "Accuracy test: 0.682\n",
      "Train acc: 1.0\n",
      "Test acc: 0.6818923327895595\n",
      "Test recall: 0.6818923327895595\n",
      "Test F1: 0.6796129964914231\n",
      "Test F2: 0.6805313701798359\n"
     ]
    },
    {
     "name": "stderr",
     "output_type": "stream",
     "text": [
      "[Parallel(n_jobs=10)]: Done  10 out of  10 | elapsed:    0.6s finished\n"
     ]
    }
   ],
   "source": [
    "y_pred_test = loaded_model.predict(X_test)\n",
    "y_pred_train = loaded_model.predict(X_train)\n",
    "# evaluación\n",
    "print(\"Accuracy training : {:.3f}\".format(loaded_model.score(X_train, y_train)))\n",
    "print(\"Accuracy test: {:.3f}\".format(loaded_model.score(X_test, y_test)))\n",
    "\n",
    "print(\"Train acc: {}\".format(accuracy_score(y_train, y_pred_train)))\n",
    "print(\"Test acc: {}\".format(accuracy_score(y_test, y_pred_test)))\n",
    "print(\"Test recall: {}\".format(recall_score(y_test, y_pred_test, average=\"weighted\")))\n",
    "print(\n",
    "    \"Test F1: {}\".format(fbeta_score(y_test, y_pred_test, beta=1, average=\"weighted\"))\n",
    ")\n",
    "print(\n",
    "    \"Test F2: {}\".format(fbeta_score(y_test, y_pred_test, beta=2, average=\"weighted\"))\n",
    ")"
   ]
  },
  {
   "cell_type": "markdown",
   "metadata": {},
   "source": [
    "En esta implementación del *BaggingClassifier* no es necesario usar estimadores base que sean *strong learners*, podemos usar cualquier tipo de estimador. Sin embargo, para que bagging performe mejor que el modelo base, si es necesaria esta condición. "
   ]
  },
  {
   "cell_type": "markdown",
   "metadata": {},
   "source": [
    "### 12-fold cross validation"
   ]
  },
  {
   "cell_type": "code",
   "execution_count": 58,
   "metadata": {},
   "outputs": [],
   "source": [
    "# scores = cross_val_score(estimator=loaded_model, X=X_train, y=y_train, cv=12, n_jobs=4)"
   ]
  },
  {
   "cell_type": "code",
   "execution_count": 136,
   "metadata": {},
   "outputs": [],
   "source": [
    "all_metrics = []\n",
    "metric_labels = []"
   ]
  },
  {
   "cell_type": "code",
   "execution_count": 137,
   "metadata": {},
   "outputs": [],
   "source": [
    "k_folds_accs = []\n",
    "k_folds_precisions = []\n",
    "k_folds_recalls = []\n",
    "k_folds_f1 = []\n",
    "k_folds_f2 = []"
   ]
  },
  {
   "cell_type": "code",
   "execution_count": 138,
   "metadata": {},
   "outputs": [
    {
     "name": "stdout",
     "output_type": "stream",
     "text": [
      "Tiempo: 1658.97 segundos\n"
     ]
    }
   ],
   "source": [
    "\n",
    "start = time.time()\n",
    "\n",
    "k_folds_accs = cross_val_score(estimator=loaded_model, X=X_train, y=y_train, cv=12, n_jobs=4)\n",
    "scorer_precision = make_scorer(precision_score, average='weighted')\n",
    "k_folds_precisions = cross_val_score(\n",
    "    estimator=loaded_model, X=X_train, y=y_train, cv=12, n_jobs=4, scoring=scorer_precision\n",
    ")\n",
    "scorer_recall = make_scorer(recall_score, average='weighted')\n",
    "k_folds_recalls = cross_val_score(\n",
    "    estimator=loaded_model, X=X_train, y=y_train, cv=12, n_jobs=4, scoring=scorer_recall\n",
    ")\n",
    "scorer_f1 = make_scorer(fbeta_score, beta=1, average='weighted')\n",
    "k_folds_f1 = cross_val_score(\n",
    "    estimator=loaded_model, X=X_train, y=y_train, cv=12, n_jobs=4, scoring=scorer_f1\n",
    ")\n",
    "# Scorer que vamos a usar durante el notebook\n",
    "scorer_f2 = make_scorer(fbeta_score, beta=2, average='weighted')\n",
    "k_folds_f2.append(\n",
    "    cross_val_score(\n",
    "        estimator=loaded_model, X=X_train, y=y_train, cv=12, n_jobs=4, scoring=scorer_f2\n",
    "    )\n",
    ")\n",
    "\n",
    "end = time.time()\n",
    "print(f\"Tiempo: { round(end - start, 2) } segundos\")"
   ]
  },
  {
   "cell_type": "code",
   "execution_count": 139,
   "metadata": {},
   "outputs": [],
   "source": [
    "all_metrics = (\n",
    "    all_metrics\n",
    "    + list(k_folds_accs)\n",
    "    + list(k_folds_precisions)\n",
    "    + list(k_folds_recalls)\n",
    "    + list(k_folds_f1)\n",
    "    + list(k_folds_f2[0])\n",
    ")\n",
    "metric_labels = (\n",
    "    metric_labels\n",
    "    + [\"Accuracy\"] * len(k_folds_accs)\n",
    "    + [\"Precision\"] * len(k_folds_precisions)\n",
    "    + [\"Recall\"] * len(k_folds_recalls)\n",
    "    + [\"F1 Score\"] * len(k_folds_f1)\n",
    "    + [\"F2 Score\"] * len(k_folds_f2[0])\n",
    ")"
   ]
  },
  {
   "cell_type": "code",
   "execution_count": 140,
   "metadata": {},
   "outputs": [
    {
     "data": {
      "text/plain": [
       "60"
      ]
     },
     "execution_count": 140,
     "metadata": {},
     "output_type": "execute_result"
    }
   ],
   "source": [
    "len(all_metrics)"
   ]
  },
  {
   "cell_type": "code",
   "execution_count": 141,
   "metadata": {
    "scrolled": true
   },
   "outputs": [
    {
     "data": {
      "text/plain": [
       "[0.6558441558441559,\n",
       " 0.6688311688311688,\n",
       " 0.6818181818181818,\n",
       " 0.6339869281045751,\n",
       " 0.6209150326797386,\n",
       " 0.6013071895424836,\n",
       " 0.6405228758169934,\n",
       " 0.5947712418300654,\n",
       " 0.6797385620915033,\n",
       " 0.7124183006535948,\n",
       " 0.6339869281045751,\n",
       " 0.6862745098039216,\n",
       " 0.666643709825528,\n",
       " 0.6700252895291381,\n",
       " 0.6819815109812464,\n",
       " 0.6366526437460694,\n",
       " 0.6197476162182045,\n",
       " 0.6216083286052326,\n",
       " 0.6444914445243486,\n",
       " 0.593683457924944,\n",
       " 0.6804927929204017,\n",
       " 0.7187359275519347,\n",
       " 0.646358637906131,\n",
       " 0.6921507595681171,\n",
       " 0.6558441558441559,\n",
       " 0.6688311688311688,\n",
       " 0.6818181818181818,\n",
       " 0.6339869281045751,\n",
       " 0.6209150326797386,\n",
       " 0.6013071895424836,\n",
       " 0.6405228758169934,\n",
       " 0.5947712418300654,\n",
       " 0.6797385620915033,\n",
       " 0.7124183006535948,\n",
       " 0.6339869281045751,\n",
       " 0.6862745098039216,\n",
       " 0.6575788566937191,\n",
       " 0.6680898236729005,\n",
       " 0.6770787653904536,\n",
       " 0.6206360340380751,\n",
       " 0.6182391319646222,\n",
       " 0.5939544625636062,\n",
       " 0.6404996681342113,\n",
       " 0.5882711598034358,\n",
       " 0.6757959147380868,\n",
       " 0.7081093186749774,\n",
       " 0.6252878460364366,\n",
       " 0.6803601731472355,\n",
       " 0.6557120301060114,\n",
       " 0.6682365958005194,\n",
       " 0.6786280712543908,\n",
       " 0.6248679134926164,\n",
       " 0.6193392954908572,\n",
       " 0.595985462338554,\n",
       " 0.6400363026689978,\n",
       " 0.5908975941299656,\n",
       " 0.6771082365638029,\n",
       " 0.7091246244943874,\n",
       " 0.6270142074403967,\n",
       " 0.6814760858651218]"
      ]
     },
     "execution_count": 141,
     "metadata": {},
     "output_type": "execute_result"
    }
   ],
   "source": [
    "all_metrics"
   ]
  },
  {
   "cell_type": "markdown",
   "metadata": {},
   "source": [
    "### Leave-2-speakers out."
   ]
  },
  {
   "cell_type": "code",
   "execution_count": 143,
   "metadata": {
    "scrolled": true
   },
   "outputs": [
    {
     "data": {
      "text/plain": [
       "[1,\n",
       " 2,\n",
       " 3,\n",
       " 4,\n",
       " 5,\n",
       " 6,\n",
       " 7,\n",
       " 8,\n",
       " 9,\n",
       " 10,\n",
       " 11,\n",
       " 12,\n",
       " 13,\n",
       " 14,\n",
       " 15,\n",
       " 16,\n",
       " 17,\n",
       " 18,\n",
       " 19,\n",
       " 20,\n",
       " 21,\n",
       " 22,\n",
       " 23,\n",
       " 24]"
      ]
     },
     "execution_count": 143,
     "metadata": {},
     "output_type": "execute_result"
    }
   ],
   "source": [
    "sorted(X_train.actor.unique())"
   ]
  },
  {
   "cell_type": "code",
   "execution_count": 144,
   "metadata": {},
   "outputs": [],
   "source": [
    "groups = (X_train.actor // 2) + (X_train.actor % 2)"
   ]
  },
  {
   "cell_type": "code",
   "execution_count": 146,
   "metadata": {},
   "outputs": [
    {
     "data": {
      "text/plain": [
       "12    162\n",
       "7     161\n",
       "2     160\n",
       "11    158\n",
       "3     158\n",
       "6     157\n",
       "5     156\n",
       "1     154\n",
       "8     151\n",
       "4     147\n",
       "10    143\n",
       "9     132\n",
       "Name: actor, dtype: int64"
      ]
     },
     "execution_count": 146,
     "metadata": {},
     "output_type": "execute_result"
    }
   ],
   "source": [
    "# sorted(groups)\n",
    "sorted(groups.unique())\n",
    "groups.value_counts()"
   ]
  },
  {
   "cell_type": "code",
   "execution_count": 116,
   "metadata": {},
   "outputs": [
    {
     "data": {
      "text/plain": [
       "<AxesSubplot:>"
      ]
     },
     "execution_count": 116,
     "metadata": {},
     "output_type": "execute_result"
    },
    {
     "data": {
      "image/png": "[encoded data removed]",
      "text/plain": [
       "<Figure size 432x288 with 1 Axes>"
      ]
     },
     "metadata": {
      "needs_background": "light"
     },
     "output_type": "display_data"
    }
   ],
   "source": [
    "groups.sort_values().plot(kind='bar')"
   ]
  },
  {
   "cell_type": "code",
   "execution_count": 147,
   "metadata": {},
   "outputs": [
    {
     "name": "stdout",
     "output_type": "stream",
     "text": [
      "count: 1839\n",
      "count: 1839\n",
      "count: 1839\n"
     ]
    }
   ],
   "source": [
    "print(f'count: {len(X_train)}')\n",
    "print(f'count: {len(y_train)}')\n",
    "print(f'count: {len(groups)}')"
   ]
  },
  {
   "cell_type": "code",
   "execution_count": 148,
   "metadata": {},
   "outputs": [
    {
     "name": "stdout",
     "output_type": "stream",
     "text": [
      "count: (1839, 89)\n",
      "count: (1839,)\n",
      "count: (1839,)\n"
     ]
    }
   ],
   "source": [
    "print(f'count: {X_train.shape}')\n",
    "print(f'count: {y_train.shape}')\n",
    "print(f'count: {groups.shape}')"
   ]
  },
  {
   "cell_type": "code",
   "execution_count": 149,
   "metadata": {
    "scrolled": true
   },
   "outputs": [
    {
     "data": {
      "text/html": [
       "<div>\n",
       "<style scoped>\n",
       "    .dataframe tbody tr th:only-of-type {\n",
       "        vertical-align: middle;\n",
       "    }\n",
       "\n",
       "    .dataframe tbody tr th {\n",
       "        vertical-align: top;\n",
       "    }\n",
       "\n",
       "    .dataframe thead th {\n",
       "        text-align: right;\n",
       "    }\n",
       "</style>\n",
       "<table border=\"1\" class=\"dataframe\">\n",
       "  <thead>\n",
       "    <tr style=\"text-align: right;\">\n",
       "      <th></th>\n",
       "      <th>actor</th>\n",
       "      <th>F0semitoneFrom27.5Hz_sma3nz_amean</th>\n",
       "      <th>F0semitoneFrom27.5Hz_sma3nz_stddevNorm</th>\n",
       "      <th>F0semitoneFrom27.5Hz_sma3nz_percentile20.0</th>\n",
       "      <th>F0semitoneFrom27.5Hz_sma3nz_percentile50.0</th>\n",
       "      <th>F0semitoneFrom27.5Hz_sma3nz_percentile80.0</th>\n",
       "      <th>F0semitoneFrom27.5Hz_sma3nz_pctlrange0-2</th>\n",
       "      <th>F0semitoneFrom27.5Hz_sma3nz_meanRisingSlope</th>\n",
       "      <th>F0semitoneFrom27.5Hz_sma3nz_stddevRisingSlope</th>\n",
       "      <th>F0semitoneFrom27.5Hz_sma3nz_meanFallingSlope</th>\n",
       "      <th>...</th>\n",
       "      <th>slopeUV0-500_sma3nz_amean</th>\n",
       "      <th>slopeUV500-1500_sma3nz_amean</th>\n",
       "      <th>spectralFluxUV_sma3nz_amean</th>\n",
       "      <th>loudnessPeaksPerSec</th>\n",
       "      <th>VoicedSegmentsPerSec</th>\n",
       "      <th>MeanVoicedSegmentLengthSec</th>\n",
       "      <th>StddevVoicedSegmentLengthSec</th>\n",
       "      <th>MeanUnvoicedSegmentLength</th>\n",
       "      <th>StddevUnvoicedSegmentLength</th>\n",
       "      <th>equivalentSoundLevel_dBp</th>\n",
       "    </tr>\n",
       "  </thead>\n",
       "  <tbody>\n",
       "    <tr>\n",
       "      <th>1565</th>\n",
       "      <td>13</td>\n",
       "      <td>23.715792</td>\n",
       "      <td>0.108936</td>\n",
       "      <td>21.457080</td>\n",
       "      <td>22.595602</td>\n",
       "      <td>26.867820</td>\n",
       "      <td>5.410740</td>\n",
       "      <td>37.066345</td>\n",
       "      <td>21.306484</td>\n",
       "      <td>13.475658</td>\n",
       "      <td>...</td>\n",
       "      <td>0.009731</td>\n",
       "      <td>0.009047</td>\n",
       "      <td>0.008891</td>\n",
       "      <td>2.564103</td>\n",
       "      <td>1.302932</td>\n",
       "      <td>0.212500</td>\n",
       "      <td>0.075952</td>\n",
       "      <td>0.426000</td>\n",
       "      <td>0.469110</td>\n",
       "      <td>-50.482838</td>\n",
       "    </tr>\n",
       "    <tr>\n",
       "      <th>1198</th>\n",
       "      <td>4</td>\n",
       "      <td>38.684685</td>\n",
       "      <td>0.141354</td>\n",
       "      <td>36.641376</td>\n",
       "      <td>40.478252</td>\n",
       "      <td>41.777330</td>\n",
       "      <td>5.135952</td>\n",
       "      <td>333.182900</td>\n",
       "      <td>441.709560</td>\n",
       "      <td>80.349670</td>\n",
       "      <td>...</td>\n",
       "      <td>0.091830</td>\n",
       "      <td>0.014368</td>\n",
       "      <td>0.034532</td>\n",
       "      <td>2.255639</td>\n",
       "      <td>1.015229</td>\n",
       "      <td>0.385000</td>\n",
       "      <td>0.105238</td>\n",
       "      <td>0.466000</td>\n",
       "      <td>0.451469</td>\n",
       "      <td>-30.984960</td>\n",
       "    </tr>\n",
       "    <tr>\n",
       "      <th>806</th>\n",
       "      <td>14</td>\n",
       "      <td>39.257828</td>\n",
       "      <td>0.156558</td>\n",
       "      <td>32.223980</td>\n",
       "      <td>41.646080</td>\n",
       "      <td>44.347458</td>\n",
       "      <td>12.123478</td>\n",
       "      <td>434.143200</td>\n",
       "      <td>611.218700</td>\n",
       "      <td>70.409325</td>\n",
       "      <td>...</td>\n",
       "      <td>0.110851</td>\n",
       "      <td>0.012034</td>\n",
       "      <td>0.013643</td>\n",
       "      <td>2.486188</td>\n",
       "      <td>1.680672</td>\n",
       "      <td>0.163333</td>\n",
       "      <td>0.103064</td>\n",
       "      <td>0.351429</td>\n",
       "      <td>0.423773</td>\n",
       "      <td>-48.948000</td>\n",
       "    </tr>\n",
       "    <tr>\n",
       "      <th>749</th>\n",
       "      <td>14</td>\n",
       "      <td>44.627735</td>\n",
       "      <td>0.046538</td>\n",
       "      <td>43.338448</td>\n",
       "      <td>43.977160</td>\n",
       "      <td>46.344580</td>\n",
       "      <td>3.006134</td>\n",
       "      <td>23.526870</td>\n",
       "      <td>8.470963</td>\n",
       "      <td>5.809296</td>\n",
       "      <td>...</td>\n",
       "      <td>0.130181</td>\n",
       "      <td>0.013983</td>\n",
       "      <td>0.013337</td>\n",
       "      <td>1.716738</td>\n",
       "      <td>1.301518</td>\n",
       "      <td>0.333333</td>\n",
       "      <td>0.182087</td>\n",
       "      <td>0.348571</td>\n",
       "      <td>0.437637</td>\n",
       "      <td>-44.207767</td>\n",
       "    </tr>\n",
       "    <tr>\n",
       "      <th>1979</th>\n",
       "      <td>18</td>\n",
       "      <td>35.964610</td>\n",
       "      <td>0.127061</td>\n",
       "      <td>33.296497</td>\n",
       "      <td>37.072433</td>\n",
       "      <td>39.491047</td>\n",
       "      <td>6.194550</td>\n",
       "      <td>170.219330</td>\n",
       "      <td>243.882420</td>\n",
       "      <td>44.904800</td>\n",
       "      <td>...</td>\n",
       "      <td>0.083365</td>\n",
       "      <td>0.012733</td>\n",
       "      <td>0.012592</td>\n",
       "      <td>1.834862</td>\n",
       "      <td>0.696056</td>\n",
       "      <td>0.493333</td>\n",
       "      <td>0.033993</td>\n",
       "      <td>0.690000</td>\n",
       "      <td>0.335857</td>\n",
       "      <td>-36.959030</td>\n",
       "    </tr>\n",
       "    <tr>\n",
       "      <th>...</th>\n",
       "      <td>...</td>\n",
       "      <td>...</td>\n",
       "      <td>...</td>\n",
       "      <td>...</td>\n",
       "      <td>...</td>\n",
       "      <td>...</td>\n",
       "      <td>...</td>\n",
       "      <td>...</td>\n",
       "      <td>...</td>\n",
       "      <td>...</td>\n",
       "      <td>...</td>\n",
       "      <td>...</td>\n",
       "      <td>...</td>\n",
       "      <td>...</td>\n",
       "      <td>...</td>\n",
       "      <td>...</td>\n",
       "      <td>...</td>\n",
       "      <td>...</td>\n",
       "      <td>...</td>\n",
       "      <td>...</td>\n",
       "      <td>...</td>\n",
       "    </tr>\n",
       "    <tr>\n",
       "      <th>2363</th>\n",
       "      <td>22</td>\n",
       "      <td>43.837837</td>\n",
       "      <td>0.085998</td>\n",
       "      <td>43.263270</td>\n",
       "      <td>44.117203</td>\n",
       "      <td>45.623250</td>\n",
       "      <td>2.359978</td>\n",
       "      <td>121.327140</td>\n",
       "      <td>118.337270</td>\n",
       "      <td>22.902458</td>\n",
       "      <td>...</td>\n",
       "      <td>0.065560</td>\n",
       "      <td>0.009460</td>\n",
       "      <td>0.016360</td>\n",
       "      <td>2.118644</td>\n",
       "      <td>1.070664</td>\n",
       "      <td>0.462000</td>\n",
       "      <td>0.291712</td>\n",
       "      <td>0.317143</td>\n",
       "      <td>0.438918</td>\n",
       "      <td>-29.691824</td>\n",
       "    </tr>\n",
       "    <tr>\n",
       "      <th>1924</th>\n",
       "      <td>5</td>\n",
       "      <td>25.633873</td>\n",
       "      <td>0.077243</td>\n",
       "      <td>24.808853</td>\n",
       "      <td>25.584507</td>\n",
       "      <td>27.265623</td>\n",
       "      <td>2.456770</td>\n",
       "      <td>100.396360</td>\n",
       "      <td>101.545060</td>\n",
       "      <td>-1.188688</td>\n",
       "      <td>...</td>\n",
       "      <td>0.000233</td>\n",
       "      <td>0.009673</td>\n",
       "      <td>0.010072</td>\n",
       "      <td>2.380952</td>\n",
       "      <td>1.208459</td>\n",
       "      <td>0.255000</td>\n",
       "      <td>0.139553</td>\n",
       "      <td>0.440000</td>\n",
       "      <td>0.463249</td>\n",
       "      <td>-47.880962</td>\n",
       "    </tr>\n",
       "    <tr>\n",
       "      <th>1922</th>\n",
       "      <td>5</td>\n",
       "      <td>26.447557</td>\n",
       "      <td>0.053437</td>\n",
       "      <td>25.874830</td>\n",
       "      <td>26.891346</td>\n",
       "      <td>27.354876</td>\n",
       "      <td>1.480045</td>\n",
       "      <td>41.591408</td>\n",
       "      <td>30.699524</td>\n",
       "      <td>14.224546</td>\n",
       "      <td>...</td>\n",
       "      <td>0.011561</td>\n",
       "      <td>0.001854</td>\n",
       "      <td>0.008453</td>\n",
       "      <td>1.680672</td>\n",
       "      <td>0.636943</td>\n",
       "      <td>0.213333</td>\n",
       "      <td>0.188562</td>\n",
       "      <td>1.000000</td>\n",
       "      <td>0.762758</td>\n",
       "      <td>-56.550495</td>\n",
       "    </tr>\n",
       "    <tr>\n",
       "      <th>1159</th>\n",
       "      <td>4</td>\n",
       "      <td>44.600105</td>\n",
       "      <td>0.034302</td>\n",
       "      <td>43.579810</td>\n",
       "      <td>43.953285</td>\n",
       "      <td>46.773098</td>\n",
       "      <td>3.193287</td>\n",
       "      <td>14.296405</td>\n",
       "      <td>5.922609</td>\n",
       "      <td>9.079408</td>\n",
       "      <td>...</td>\n",
       "      <td>0.132378</td>\n",
       "      <td>0.010170</td>\n",
       "      <td>0.005693</td>\n",
       "      <td>1.502146</td>\n",
       "      <td>0.650759</td>\n",
       "      <td>0.836667</td>\n",
       "      <td>0.595781</td>\n",
       "      <td>0.673333</td>\n",
       "      <td>0.457117</td>\n",
       "      <td>-36.843030</td>\n",
       "    </tr>\n",
       "    <tr>\n",
       "      <th>1830</th>\n",
       "      <td>6</td>\n",
       "      <td>39.617115</td>\n",
       "      <td>0.070204</td>\n",
       "      <td>38.337460</td>\n",
       "      <td>40.279877</td>\n",
       "      <td>41.305480</td>\n",
       "      <td>2.968021</td>\n",
       "      <td>251.244020</td>\n",
       "      <td>337.964500</td>\n",
       "      <td>541.792360</td>\n",
       "      <td>...</td>\n",
       "      <td>0.053151</td>\n",
       "      <td>0.001114</td>\n",
       "      <td>0.005391</td>\n",
       "      <td>2.528090</td>\n",
       "      <td>0.854701</td>\n",
       "      <td>0.500000</td>\n",
       "      <td>0.138804</td>\n",
       "      <td>0.490000</td>\n",
       "      <td>0.435718</td>\n",
       "      <td>-45.619736</td>\n",
       "    </tr>\n",
       "  </tbody>\n",
       "</table>\n",
       "<p>1839 rows × 89 columns</p>\n",
       "</div>"
      ],
      "text/plain": [
       "      actor  F0semitoneFrom27.5Hz_sma3nz_amean  \\\n",
       "1565     13                          23.715792   \n",
       "1198      4                          38.684685   \n",
       "806      14                          39.257828   \n",
       "749      14                          44.627735   \n",
       "1979     18                          35.964610   \n",
       "...     ...                                ...   \n",
       "2363     22                          43.837837   \n",
       "1924      5                          25.633873   \n",
       "1922      5                          26.447557   \n",
       "1159      4                          44.600105   \n",
       "1830      6                          39.617115   \n",
       "\n",
       "      F0semitoneFrom27.5Hz_sma3nz_stddevNorm  \\\n",
       "1565                                0.108936   \n",
       "1198                                0.141354   \n",
       "806                                 0.156558   \n",
       "749                                 0.046538   \n",
       "1979                                0.127061   \n",
       "...                                      ...   \n",
       "2363                                0.085998   \n",
       "1924                                0.077243   \n",
       "1922                                0.053437   \n",
       "1159                                0.034302   \n",
       "1830                                0.070204   \n",
       "\n",
       "      F0semitoneFrom27.5Hz_sma3nz_percentile20.0  \\\n",
       "1565                                   21.457080   \n",
       "1198                                   36.641376   \n",
       "806                                    32.223980   \n",
       "749                                    43.338448   \n",
       "1979                                   33.296497   \n",
       "...                                          ...   \n",
       "2363                                   43.263270   \n",
       "1924                                   24.808853   \n",
       "1922                                   25.874830   \n",
       "1159                                   43.579810   \n",
       "1830                                   38.337460   \n",
       "\n",
       "      F0semitoneFrom27.5Hz_sma3nz_percentile50.0  \\\n",
       "1565                                   22.595602   \n",
       "1198                                   40.478252   \n",
       "806                                    41.646080   \n",
       "749                                    43.977160   \n",
       "1979                                   37.072433   \n",
       "...                                          ...   \n",
       "2363                                   44.117203   \n",
       "1924                                   25.584507   \n",
       "1922                                   26.891346   \n",
       "1159                                   43.953285   \n",
       "1830                                   40.279877   \n",
       "\n",
       "      F0semitoneFrom27.5Hz_sma3nz_percentile80.0  \\\n",
       "1565                                   26.867820   \n",
       "1198                                   41.777330   \n",
       "806                                    44.347458   \n",
       "749                                    46.344580   \n",
       "1979                                   39.491047   \n",
       "...                                          ...   \n",
       "2363                                   45.623250   \n",
       "1924                                   27.265623   \n",
       "1922                                   27.354876   \n",
       "1159                                   46.773098   \n",
       "1830                                   41.305480   \n",
       "\n",
       "      F0semitoneFrom27.5Hz_sma3nz_pctlrange0-2  \\\n",
       "1565                                  5.410740   \n",
       "1198                                  5.135952   \n",
       "806                                  12.123478   \n",
       "749                                   3.006134   \n",
       "1979                                  6.194550   \n",
       "...                                        ...   \n",
       "2363                                  2.359978   \n",
       "1924                                  2.456770   \n",
       "1922                                  1.480045   \n",
       "1159                                  3.193287   \n",
       "1830                                  2.968021   \n",
       "\n",
       "      F0semitoneFrom27.5Hz_sma3nz_meanRisingSlope  \\\n",
       "1565                                    37.066345   \n",
       "1198                                   333.182900   \n",
       "806                                    434.143200   \n",
       "749                                     23.526870   \n",
       "1979                                   170.219330   \n",
       "...                                           ...   \n",
       "2363                                   121.327140   \n",
       "1924                                   100.396360   \n",
       "1922                                    41.591408   \n",
       "1159                                    14.296405   \n",
       "1830                                   251.244020   \n",
       "\n",
       "      F0semitoneFrom27.5Hz_sma3nz_stddevRisingSlope  \\\n",
       "1565                                      21.306484   \n",
       "1198                                     441.709560   \n",
       "806                                      611.218700   \n",
       "749                                        8.470963   \n",
       "1979                                     243.882420   \n",
       "...                                             ...   \n",
       "2363                                     118.337270   \n",
       "1924                                     101.545060   \n",
       "1922                                      30.699524   \n",
       "1159                                       5.922609   \n",
       "1830                                     337.964500   \n",
       "\n",
       "      F0semitoneFrom27.5Hz_sma3nz_meanFallingSlope  ...  \\\n",
       "1565                                     13.475658  ...   \n",
       "1198                                     80.349670  ...   \n",
       "806                                      70.409325  ...   \n",
       "749                                       5.809296  ...   \n",
       "1979                                     44.904800  ...   \n",
       "...                                            ...  ...   \n",
       "2363                                     22.902458  ...   \n",
       "1924                                     -1.188688  ...   \n",
       "1922                                     14.224546  ...   \n",
       "1159                                      9.079408  ...   \n",
       "1830                                    541.792360  ...   \n",
       "\n",
       "      slopeUV0-500_sma3nz_amean  slopeUV500-1500_sma3nz_amean  \\\n",
       "1565                   0.009731                      0.009047   \n",
       "1198                   0.091830                      0.014368   \n",
       "806                    0.110851                      0.012034   \n",
       "749                    0.130181                      0.013983   \n",
       "1979                   0.083365                      0.012733   \n",
       "...                         ...                           ...   \n",
       "2363                   0.065560                      0.009460   \n",
       "1924                   0.000233                      0.009673   \n",
       "1922                   0.011561                      0.001854   \n",
       "1159                   0.132378                      0.010170   \n",
       "1830                   0.053151                      0.001114   \n",
       "\n",
       "      spectralFluxUV_sma3nz_amean  loudnessPeaksPerSec  VoicedSegmentsPerSec  \\\n",
       "1565                     0.008891             2.564103              1.302932   \n",
       "1198                     0.034532             2.255639              1.015229   \n",
       "806                      0.013643             2.486188              1.680672   \n",
       "749                      0.013337             1.716738              1.301518   \n",
       "1979                     0.012592             1.834862              0.696056   \n",
       "...                           ...                  ...                   ...   \n",
       "2363                     0.016360             2.118644              1.070664   \n",
       "1924                     0.010072             2.380952              1.208459   \n",
       "1922                     0.008453             1.680672              0.636943   \n",
       "1159                     0.005693             1.502146              0.650759   \n",
       "1830                     0.005391             2.528090              0.854701   \n",
       "\n",
       "      MeanVoicedSegmentLengthSec  StddevVoicedSegmentLengthSec  \\\n",
       "1565                    0.212500                      0.075952   \n",
       "1198                    0.385000                      0.105238   \n",
       "806                     0.163333                      0.103064   \n",
       "749                     0.333333                      0.182087   \n",
       "1979                    0.493333                      0.033993   \n",
       "...                          ...                           ...   \n",
       "2363                    0.462000                      0.291712   \n",
       "1924                    0.255000                      0.139553   \n",
       "1922                    0.213333                      0.188562   \n",
       "1159                    0.836667                      0.595781   \n",
       "1830                    0.500000                      0.138804   \n",
       "\n",
       "      MeanUnvoicedSegmentLength  StddevUnvoicedSegmentLength  \\\n",
       "1565                   0.426000                     0.469110   \n",
       "1198                   0.466000                     0.451469   \n",
       "806                    0.351429                     0.423773   \n",
       "749                    0.348571                     0.437637   \n",
       "1979                   0.690000                     0.335857   \n",
       "...                         ...                          ...   \n",
       "2363                   0.317143                     0.438918   \n",
       "1924                   0.440000                     0.463249   \n",
       "1922                   1.000000                     0.762758   \n",
       "1159                   0.673333                     0.457117   \n",
       "1830                   0.490000                     0.435718   \n",
       "\n",
       "      equivalentSoundLevel_dBp  \n",
       "1565                -50.482838  \n",
       "1198                -30.984960  \n",
       "806                 -48.948000  \n",
       "749                 -44.207767  \n",
       "1979                -36.959030  \n",
       "...                        ...  \n",
       "2363                -29.691824  \n",
       "1924                -47.880962  \n",
       "1922                -56.550495  \n",
       "1159                -36.843030  \n",
       "1830                -45.619736  \n",
       "\n",
       "[1839 rows x 89 columns]"
      ]
     },
     "execution_count": 149,
     "metadata": {},
     "output_type": "execute_result"
    }
   ],
   "source": [
    "X_train"
   ]
  },
  {
   "cell_type": "code",
   "execution_count": 150,
   "metadata": {},
   "outputs": [],
   "source": [
    "groups_accs = []\n",
    "groups_precisions = []\n",
    "groups_recalls = []\n",
    "groups_f1 = []\n",
    "groups_f2 = []"
   ]
  },
  {
   "cell_type": "code",
   "execution_count": 151,
   "metadata": {
    "scrolled": true
   },
   "outputs": [
    {
     "name": "stdout",
     "output_type": "stream",
     "text": [
      "TRAIN: [   0    1    2 ... 1836 1837 1838] TEST: [  10   17   21   38   44   62   64  106  109  115  117  118  129  131\n",
      "  152  153  161  162  163  176  184  189  205  222  233  234  243  269\n",
      "  298  299  302  339  358  361  379  395  400  433  481  482  490  491\n",
      "  531  533  549  555  575  610  651  656  669  699  710  727  743  764\n",
      "  794  803  808  827  840  843  848  853  862  870  872  877  886  897\n",
      "  903  906  915  919  927  928  952  969  976  993 1003 1018 1072 1081\n",
      " 1093 1094 1114 1120 1128 1133 1135 1154 1170 1175 1176 1190 1203 1226\n",
      " 1234 1246 1267 1269 1270 1323 1342 1346 1353 1356 1358 1376 1377 1385\n",
      " 1387 1394 1399 1408 1410 1423 1424 1436 1453 1455 1457 1458 1461 1464\n",
      " 1474 1482 1491 1497 1498 1542 1543 1547 1561 1570 1586 1595 1596 1629\n",
      " 1643 1665 1667 1688 1694 1697 1731 1743 1757 1773 1787 1807 1816 1823]\n",
      "x_train\n",
      "y_train\n"
     ]
    },
    {
     "name": "stderr",
     "output_type": "stream",
     "text": [
      "[Parallel(n_jobs=10)]: Using backend LokyBackend with 10 concurrent workers.\n",
      "[Parallel(n_jobs=10)]: Done   2 out of  10 | elapsed:   16.0s remaining:  1.1min\n",
      "[Parallel(n_jobs=10)]: Done  10 out of  10 | elapsed:   17.5s finished\n",
      "[Parallel(n_jobs=10)]: Using backend LokyBackend with 10 concurrent workers.\n",
      "[Parallel(n_jobs=10)]: Done   2 out of  10 | elapsed:    0.3s remaining:    1.0s\n",
      "[Parallel(n_jobs=10)]: Done  10 out of  10 | elapsed:    0.7s finished\n",
      "[Parallel(n_jobs=10)]: Using backend LokyBackend with 10 concurrent workers.\n",
      "[Parallel(n_jobs=10)]: Done   2 out of  10 | elapsed:    0.2s remaining:    0.9s\n",
      "[Parallel(n_jobs=10)]: Done  10 out of  10 | elapsed:    0.7s finished\n",
      "[Parallel(n_jobs=10)]: Using backend LokyBackend with 10 concurrent workers.\n",
      "[Parallel(n_jobs=10)]: Done   2 out of  10 | elapsed:    0.3s remaining:    1.3s\n",
      "[Parallel(n_jobs=10)]: Done  10 out of  10 | elapsed:    0.8s finished\n",
      "[Parallel(n_jobs=10)]: Using backend LokyBackend with 10 concurrent workers.\n"
     ]
    },
    {
     "name": "stdout",
     "output_type": "stream",
     "text": [
      "Accuracy training : 1.000\n"
     ]
    },
    {
     "name": "stderr",
     "output_type": "stream",
     "text": [
      "[Parallel(n_jobs=10)]: Done   2 out of  10 | elapsed:    0.2s remaining:    0.9s\n",
      "[Parallel(n_jobs=10)]: Done  10 out of  10 | elapsed:    0.8s finished\n",
      "[Parallel(n_jobs=10)]: Using backend LokyBackend with 10 concurrent workers.\n"
     ]
    },
    {
     "name": "stdout",
     "output_type": "stream",
     "text": [
      "Accuracy test: 0.558\n",
      "Train acc: 1.0\n",
      "Test acc: 0.5584415584415584\n",
      "Test recall: 0.5584415584415584\n",
      "Test F1: 0.5495263346805443\n",
      "Test F2: 0.5496871678689274\n",
      "TRAIN: [   0    2    3 ... 1835 1836 1838] TEST: [   1   19   31   40   71   89   96   97  114  122  125  141  146  149\n",
      "  157  159  168  169  174  179  212  248  257  274  277  279  283  315\n",
      "  336  348  368  378  380  383  384  393  403  411  417  426  429  451\n",
      "  458  483  508  520  529  534  547  557  558  560  570  577  578  590\n",
      "  597  624  633  638  644  653  662  683  694  700  701  703  720  740\n",
      "  771  784  786  806  807  813  825  830  851  854  856  868  882  891\n",
      "  893  907  918  938  946  951  963  979  994 1021 1025 1028 1030 1031\n",
      " 1044 1051 1052 1061 1068 1073 1132 1173 1182 1197 1202 1209 1225 1230\n",
      " 1237 1240 1245 1251 1258 1294 1308 1340 1350 1359 1362 1374 1388 1393\n",
      " 1422 1432 1438 1446 1465 1477 1496 1502 1508 1546 1558 1581 1585 1589\n",
      " 1592 1597 1627 1637 1648 1654 1686 1691 1700 1705 1718 1720 1726 1749\n",
      " 1762 1800 1811 1820 1830 1837]\n",
      "x_train\n",
      "y_train\n"
     ]
    },
    {
     "name": "stderr",
     "output_type": "stream",
     "text": [
      "[Parallel(n_jobs=10)]: Done   2 out of  10 | elapsed:   14.8s remaining:   59.4s\n",
      "[Parallel(n_jobs=10)]: Done  10 out of  10 | elapsed:   15.9s finished\n",
      "[Parallel(n_jobs=10)]: Using backend LokyBackend with 10 concurrent workers.\n",
      "[Parallel(n_jobs=10)]: Done   2 out of  10 | elapsed:    0.2s remaining:    0.8s\n",
      "[Parallel(n_jobs=10)]: Done  10 out of  10 | elapsed:    0.6s finished\n",
      "[Parallel(n_jobs=10)]: Using backend LokyBackend with 10 concurrent workers.\n",
      "[Parallel(n_jobs=10)]: Done   2 out of  10 | elapsed:    0.3s remaining:    1.1s\n",
      "[Parallel(n_jobs=10)]: Done  10 out of  10 | elapsed:    0.7s finished\n",
      "[Parallel(n_jobs=10)]: Using backend LokyBackend with 10 concurrent workers.\n",
      "[Parallel(n_jobs=10)]: Done   2 out of  10 | elapsed:    0.2s remaining:    1.0s\n",
      "[Parallel(n_jobs=10)]: Done  10 out of  10 | elapsed:    0.7s finished\n",
      "[Parallel(n_jobs=10)]: Using backend LokyBackend with 10 concurrent workers.\n"
     ]
    },
    {
     "name": "stdout",
     "output_type": "stream",
     "text": [
      "Accuracy training : 1.000\n"
     ]
    },
    {
     "name": "stderr",
     "output_type": "stream",
     "text": [
      "[Parallel(n_jobs=10)]: Done   2 out of  10 | elapsed:    0.2s remaining:    0.8s\n",
      "[Parallel(n_jobs=10)]: Done  10 out of  10 | elapsed:    0.6s finished\n",
      "[Parallel(n_jobs=10)]: Using backend LokyBackend with 10 concurrent workers.\n"
     ]
    },
    {
     "name": "stdout",
     "output_type": "stream",
     "text": [
      "Accuracy test: 0.531\n",
      "Train acc: 1.0\n",
      "Test acc: 0.53125\n",
      "Test recall: 0.53125\n",
      "Test F1: 0.5373327788389023\n",
      "Test F2: 0.5278777719873246\n",
      "TRAIN: [   0    1    2 ... 1832 1834 1837] TEST: [   8   11   20   39   70   75   80   87   95  134  136  148  164  195\n",
      "  204  207  208  246  247  254  262  263  309  310  314  330  340  344\n",
      "  351  360  362  365  372  385  389  390  394  401  409  423  435  439\n",
      "  449  454  459  462  467  489  501  504  507  509  516  559  564  565\n",
      "  580  585  618  623  658  667  685  690  702  704  712  759  774  778\n",
      "  780  789  797  811  866  875  878  904  905  924  930  937  944  950\n",
      "  955  957  970  978  986  990 1001 1006 1010 1011 1043 1047 1053 1067\n",
      " 1076 1079 1089 1098 1099 1105 1112 1121 1127 1149 1152 1169 1174 1184\n",
      " 1192 1198 1199 1231 1238 1283 1285 1298 1299 1304 1306 1321 1325 1328\n",
      " 1332 1334 1344 1380 1415 1416 1447 1456 1467 1468 1471 1472 1553 1611\n",
      " 1625 1626 1632 1633 1647 1653 1673 1703 1713 1721 1735 1821 1822 1825\n",
      " 1833 1835 1836 1838]\n",
      "x_train\n",
      "y_train\n"
     ]
    },
    {
     "name": "stderr",
     "output_type": "stream",
     "text": [
      "[Parallel(n_jobs=10)]: Done   2 out of  10 | elapsed:   16.7s remaining:  1.1min\n",
      "[Parallel(n_jobs=10)]: Done  10 out of  10 | elapsed:   17.9s finished\n",
      "[Parallel(n_jobs=10)]: Using backend LokyBackend with 10 concurrent workers.\n",
      "[Parallel(n_jobs=10)]: Done   2 out of  10 | elapsed:    0.2s remaining:    0.8s\n",
      "[Parallel(n_jobs=10)]: Done  10 out of  10 | elapsed:    0.6s finished\n",
      "[Parallel(n_jobs=10)]: Using backend LokyBackend with 10 concurrent workers.\n",
      "[Parallel(n_jobs=10)]: Done   2 out of  10 | elapsed:    0.2s remaining:    0.9s\n",
      "[Parallel(n_jobs=10)]: Done  10 out of  10 | elapsed:    0.7s finished\n",
      "[Parallel(n_jobs=10)]: Using backend LokyBackend with 10 concurrent workers.\n",
      "[Parallel(n_jobs=10)]: Done   2 out of  10 | elapsed:    0.3s remaining:    1.0s\n",
      "[Parallel(n_jobs=10)]: Done  10 out of  10 | elapsed:    0.7s finished\n",
      "[Parallel(n_jobs=10)]: Using backend LokyBackend with 10 concurrent workers.\n",
      "[Parallel(n_jobs=10)]: Done   2 out of  10 | elapsed:    0.2s remaining:    0.7s\n"
     ]
    },
    {
     "name": "stdout",
     "output_type": "stream",
     "text": [
      "Accuracy training : 1.000\n"
     ]
    },
    {
     "name": "stderr",
     "output_type": "stream",
     "text": [
      "[Parallel(n_jobs=10)]: Done  10 out of  10 | elapsed:    0.6s finished\n",
      "[Parallel(n_jobs=10)]: Using backend LokyBackend with 10 concurrent workers.\n"
     ]
    },
    {
     "name": "stdout",
     "output_type": "stream",
     "text": [
      "Accuracy test: 0.475\n",
      "Train acc: 1.0\n",
      "Test acc: 0.47468354430379744\n",
      "Test recall: 0.47468354430379744\n",
      "Test F1: 0.45944892805479176\n",
      "Test F2: 0.46451349024150956\n",
      "TRAIN: [   0    1    2 ... 1836 1837 1838] TEST: [   7   12   16   18   23   24   36   47   50   52   55   78   94  102\n",
      "  104  107  111  124  143  155  166  171  175  181  182  200  220  228\n",
      "  232  265  275  301  338  342  354  374  377  405  420  421  428  456\n",
      "  488  497  518  548  569  576  593  598  603  609  619  622  627  641\n",
      "  643  673  698  706  716  728  729  738  748  779  788  793  802  818\n",
      "  831  833  842  857  871  899  910  913  929  934  971  980  987  995\n",
      "  999 1013 1015 1022 1045 1064 1069 1077 1088 1096 1103 1126 1138 1163\n",
      " 1165 1206 1215 1228 1235 1244 1248 1249 1259 1276 1277 1278 1289 1296\n",
      " 1311 1347 1360 1364 1386 1400 1428 1430 1466 1483 1505 1522 1523 1531\n",
      " 1541 1549 1556 1557 1559 1560 1564 1578 1583 1600 1601 1622 1630 1646\n",
      " 1657 1681 1738 1746 1747 1758 1808]\n",
      "x_train\n",
      "y_train\n"
     ]
    },
    {
     "name": "stderr",
     "output_type": "stream",
     "text": [
      "[Parallel(n_jobs=10)]: Done   2 out of  10 | elapsed:   16.6s remaining:  1.1min\n",
      "[Parallel(n_jobs=10)]: Done  10 out of  10 | elapsed:   17.6s finished\n",
      "[Parallel(n_jobs=10)]: Using backend LokyBackend with 10 concurrent workers.\n",
      "[Parallel(n_jobs=10)]: Done   2 out of  10 | elapsed:    0.2s remaining:    0.9s\n",
      "[Parallel(n_jobs=10)]: Done  10 out of  10 | elapsed:    0.6s finished\n",
      "[Parallel(n_jobs=10)]: Using backend LokyBackend with 10 concurrent workers.\n",
      "[Parallel(n_jobs=10)]: Done   2 out of  10 | elapsed:    0.3s remaining:    1.1s\n",
      "[Parallel(n_jobs=10)]: Done  10 out of  10 | elapsed:    0.7s finished\n",
      "[Parallel(n_jobs=10)]: Using backend LokyBackend with 10 concurrent workers.\n",
      "[Parallel(n_jobs=10)]: Done   2 out of  10 | elapsed:    0.3s remaining:    1.1s\n",
      "[Parallel(n_jobs=10)]: Done  10 out of  10 | elapsed:    0.7s finished\n",
      "[Parallel(n_jobs=10)]: Using backend LokyBackend with 10 concurrent workers.\n"
     ]
    },
    {
     "name": "stdout",
     "output_type": "stream",
     "text": [
      "Accuracy training : 1.000\n"
     ]
    },
    {
     "name": "stderr",
     "output_type": "stream",
     "text": [
      "[Parallel(n_jobs=10)]: Done   2 out of  10 | elapsed:    0.2s remaining:    0.9s\n",
      "[Parallel(n_jobs=10)]: Done  10 out of  10 | elapsed:    0.7s finished\n",
      "[Parallel(n_jobs=10)]: Using backend LokyBackend with 10 concurrent workers.\n"
     ]
    },
    {
     "name": "stdout",
     "output_type": "stream",
     "text": [
      "Accuracy test: 0.626\n",
      "Train acc: 1.0\n",
      "Test acc: 0.6258503401360545\n",
      "Test recall: 0.6258503401360545\n",
      "Test F1: 0.6167138111519305\n",
      "Test F2: 0.6160343544002327\n",
      "TRAIN: [   0    1    2 ... 1836 1837 1838] TEST: [  41   45   68   73   90  120  133  173  180  188  199  235  237  241\n",
      "  245  259  271  280  297  303  313  325  329  334  346  347  363  364\n",
      "  370  373  381  396  397  416  418  424  430  432  448  457  470  484\n",
      "  495  502  503  532  535  536  541  553  556  586  594  606  607  617\n",
      "  640  657  659  687  725  735  772  776  777  787  810  824  829  837\n",
      "  860  864  869  881  889  890  895  908  909  911  914  923  953  954\n",
      "  966  998 1008 1026 1034 1040 1059 1065 1071 1086 1090 1106 1113 1137\n",
      " 1145 1158 1167 1177 1188 1195 1214 1232 1239 1281 1292 1309 1310 1315\n",
      " 1316 1322 1326 1361 1363 1365 1375 1390 1404 1421 1429 1439 1444 1445\n",
      " 1460 1463 1481 1489 1495 1512 1535 1538 1551 1568 1602 1607 1620 1650\n",
      " 1663 1675 1678 1682 1684 1685 1709 1725 1748 1751 1763 1775 1803 1806\n",
      " 1810 1829]\n",
      "x_train\n",
      "y_train\n"
     ]
    },
    {
     "name": "stderr",
     "output_type": "stream",
     "text": [
      "[Parallel(n_jobs=10)]: Done   2 out of  10 | elapsed:   16.1s remaining:  1.1min\n",
      "[Parallel(n_jobs=10)]: Done  10 out of  10 | elapsed:   17.6s finished\n",
      "[Parallel(n_jobs=10)]: Using backend LokyBackend with 10 concurrent workers.\n",
      "[Parallel(n_jobs=10)]: Done   2 out of  10 | elapsed:    0.2s remaining:    0.8s\n",
      "[Parallel(n_jobs=10)]: Done  10 out of  10 | elapsed:    0.6s finished\n",
      "[Parallel(n_jobs=10)]: Using backend LokyBackend with 10 concurrent workers.\n",
      "[Parallel(n_jobs=10)]: Done   2 out of  10 | elapsed:    0.2s remaining:    0.9s\n",
      "[Parallel(n_jobs=10)]: Done  10 out of  10 | elapsed:    0.6s finished\n",
      "[Parallel(n_jobs=10)]: Using backend LokyBackend with 10 concurrent workers.\n",
      "[Parallel(n_jobs=10)]: Done   2 out of  10 | elapsed:    0.3s remaining:    1.2s\n",
      "[Parallel(n_jobs=10)]: Done  10 out of  10 | elapsed:    0.7s finished\n",
      "[Parallel(n_jobs=10)]: Using backend LokyBackend with 10 concurrent workers.\n"
     ]
    },
    {
     "name": "stdout",
     "output_type": "stream",
     "text": [
      "Accuracy training : 1.000\n"
     ]
    },
    {
     "name": "stderr",
     "output_type": "stream",
     "text": [
      "[Parallel(n_jobs=10)]: Done   2 out of  10 | elapsed:    0.2s remaining:    0.7s\n",
      "[Parallel(n_jobs=10)]: Done  10 out of  10 | elapsed:    0.7s finished\n",
      "[Parallel(n_jobs=10)]: Using backend LokyBackend with 10 concurrent workers.\n"
     ]
    },
    {
     "name": "stdout",
     "output_type": "stream",
     "text": [
      "Accuracy test: 0.346\n",
      "Train acc: 1.0\n",
      "Test acc: 0.34615384615384615\n",
      "Test recall: 0.34615384615384615\n",
      "Test F1: 0.3285231931573395\n",
      "Test F2: 0.3361430572183748\n",
      "TRAIN: [   0    1    2 ... 1836 1837 1838] TEST: [  14   27   37   43   56   57   59   63   77   79   83   88   91   98\n",
      "  100  110  112  113  138  147  185  194  197  242  244  258  276  287\n",
      "  292  306  319  327  331  335  345  369  392  402  415  422  441  442\n",
      "  460  465  473  474  476  478  485  492  513  522  524  566  582  591\n",
      "  595  611  612  615  616  635  654  675  684  691  714  750  756  758\n",
      "  768  773  782  798  801  822  828  847  861  865  867  892  902  912\n",
      "  916  932  936  947  948  960  985  997 1002 1004 1014 1024 1027 1038\n",
      " 1039 1054 1056 1057 1063 1118 1122 1136 1139 1146 1178 1185 1186 1201\n",
      " 1219 1220 1224 1229 1260 1291 1301 1307 1320 1330 1351 1357 1367 1370\n",
      " 1383 1427 1437 1450 1451 1478 1480 1487 1503 1511 1567 1574 1582 1588\n",
      " 1624 1670 1683 1693 1698 1710 1714 1717 1719 1733 1750 1752 1778 1785\n",
      " 1813 1818 1832]\n",
      "x_train\n",
      "y_train\n"
     ]
    },
    {
     "name": "stderr",
     "output_type": "stream",
     "text": [
      "[Parallel(n_jobs=10)]: Done   2 out of  10 | elapsed:   16.3s remaining:  1.1min\n",
      "[Parallel(n_jobs=10)]: Done  10 out of  10 | elapsed:   17.2s finished\n",
      "[Parallel(n_jobs=10)]: Using backend LokyBackend with 10 concurrent workers.\n",
      "[Parallel(n_jobs=10)]: Done   2 out of  10 | elapsed:    0.2s remaining:    0.8s\n",
      "[Parallel(n_jobs=10)]: Done  10 out of  10 | elapsed:    0.6s finished\n",
      "[Parallel(n_jobs=10)]: Using backend LokyBackend with 10 concurrent workers.\n",
      "[Parallel(n_jobs=10)]: Done   2 out of  10 | elapsed:    0.2s remaining:    0.9s\n",
      "[Parallel(n_jobs=10)]: Done  10 out of  10 | elapsed:    0.7s finished\n",
      "[Parallel(n_jobs=10)]: Using backend LokyBackend with 10 concurrent workers.\n",
      "[Parallel(n_jobs=10)]: Done   2 out of  10 | elapsed:    0.3s remaining:    1.0s\n",
      "[Parallel(n_jobs=10)]: Done  10 out of  10 | elapsed:    0.7s finished\n",
      "[Parallel(n_jobs=10)]: Using backend LokyBackend with 10 concurrent workers.\n"
     ]
    },
    {
     "name": "stdout",
     "output_type": "stream",
     "text": [
      "Accuracy training : 1.000\n"
     ]
    },
    {
     "name": "stderr",
     "output_type": "stream",
     "text": [
      "[Parallel(n_jobs=10)]: Done   2 out of  10 | elapsed:    0.2s remaining:    0.8s\n",
      "[Parallel(n_jobs=10)]: Done  10 out of  10 | elapsed:    0.6s finished\n",
      "[Parallel(n_jobs=10)]: Using backend LokyBackend with 10 concurrent workers.\n"
     ]
    },
    {
     "name": "stdout",
     "output_type": "stream",
     "text": [
      "Accuracy test: 0.490\n",
      "Train acc: 1.0\n",
      "Test acc: 0.49044585987261147\n",
      "Test recall: 0.49044585987261147\n",
      "Test F1: 0.47635751419516964\n",
      "Test F2: 0.47545176776902176\n",
      "TRAIN: [   1    4    5 ... 1836 1837 1838] TEST: [   0    2    3   15   28   34   42   46   51   58   65   66   69   85\n",
      "  158  183  192  206  215  226  255  290  291  296  307  318  333  349\n",
      "  350  382  413  414  425  437  440  447  468  472  479  493  494  521\n",
      "  525  528  537  538  539  545  551  563  571  574  584  621  628  629\n",
      "  631  639  647  648  665  693  705  711  723  730  733  734  754  761\n",
      "  790  792  800  804  821  836  849  876  885  896  898  939  945  972\n",
      "  974  975  977  981  991 1016 1032 1048 1050 1055 1074 1075 1078 1083\n",
      " 1147 1150 1151 1156 1157 1159 1160 1180 1204 1207 1213 1263 1286 1290\n",
      " 1293 1297 1336 1339 1341 1343 1371 1402 1414 1417 1419 1431 1434 1448\n",
      " 1452 1473 1485 1493 1501 1521 1528 1550 1563 1571 1579 1593 1614 1616\n",
      " 1619 1634 1638 1644 1664 1679 1687 1689 1701 1716 1722 1724 1754 1756\n",
      " 1759 1774 1777 1781 1790 1794 1801]\n",
      "x_train\n",
      "y_train\n"
     ]
    },
    {
     "name": "stderr",
     "output_type": "stream",
     "text": [
      "[Parallel(n_jobs=10)]: Done   2 out of  10 | elapsed:   16.7s remaining:  1.1min\n",
      "[Parallel(n_jobs=10)]: Done  10 out of  10 | elapsed:   17.2s finished\n",
      "[Parallel(n_jobs=10)]: Using backend LokyBackend with 10 concurrent workers.\n",
      "[Parallel(n_jobs=10)]: Done   2 out of  10 | elapsed:    0.2s remaining:    0.9s\n",
      "[Parallel(n_jobs=10)]: Done  10 out of  10 | elapsed:    0.7s finished\n",
      "[Parallel(n_jobs=10)]: Using backend LokyBackend with 10 concurrent workers.\n",
      "[Parallel(n_jobs=10)]: Done   2 out of  10 | elapsed:    0.3s remaining:    1.1s\n",
      "[Parallel(n_jobs=10)]: Done  10 out of  10 | elapsed:    0.7s finished\n",
      "[Parallel(n_jobs=10)]: Using backend LokyBackend with 10 concurrent workers.\n",
      "[Parallel(n_jobs=10)]: Done   2 out of  10 | elapsed:    0.3s remaining:    1.1s\n",
      "[Parallel(n_jobs=10)]: Done  10 out of  10 | elapsed:    0.7s finished\n",
      "[Parallel(n_jobs=10)]: Using backend LokyBackend with 10 concurrent workers.\n"
     ]
    },
    {
     "name": "stdout",
     "output_type": "stream",
     "text": [
      "Accuracy training : 1.000\n"
     ]
    },
    {
     "name": "stderr",
     "output_type": "stream",
     "text": [
      "[Parallel(n_jobs=10)]: Done   2 out of  10 | elapsed:    0.2s remaining:    0.7s\n",
      "[Parallel(n_jobs=10)]: Done  10 out of  10 | elapsed:    0.6s finished\n",
      "[Parallel(n_jobs=10)]: Using backend LokyBackend with 10 concurrent workers.\n"
     ]
    },
    {
     "name": "stdout",
     "output_type": "stream",
     "text": [
      "Accuracy test: 0.491\n",
      "Train acc: 1.0\n",
      "Test acc: 0.4906832298136646\n",
      "Test recall: 0.4906832298136646\n",
      "Test F1: 0.49144194254368295\n",
      "Test F2: 0.4869499707185703\n",
      "TRAIN: [   0    1    2 ... 1836 1837 1838] TEST: [  30   33   35  150  165  170  177  178  190  201  202  223  224  225\n",
      "  260  270  282  288  289  294  305  311  323  324  328  341  355  359\n",
      "  367  371  387  407  408  410  419  434  443  455  463  464  487  500\n",
      "  506  511  523  543  550  567  592  599  613  626  642  646  671  708\n",
      "  731  739  746  762  814  815  816  820  839  874  888  900  942  959\n",
      "  967 1017 1023 1029 1037 1041 1062 1085 1087 1092 1097 1101 1119 1125\n",
      " 1129 1148 1171 1179 1187 1189 1196 1205 1236 1250 1256 1262 1271 1274\n",
      " 1288 1295 1305 1318 1324 1329 1348 1366 1396 1407 1409 1418 1420 1469\n",
      " 1470 1476 1515 1517 1519 1524 1534 1544 1552 1562 1569 1575 1576 1580\n",
      " 1603 1609 1617 1618 1635 1652 1655 1662 1668 1671 1672 1696 1708 1732\n",
      " 1769 1776 1779 1791 1792 1793 1799 1805 1826 1828 1831]\n",
      "x_train\n",
      "y_train\n"
     ]
    },
    {
     "name": "stderr",
     "output_type": "stream",
     "text": [
      "[Parallel(n_jobs=10)]: Done   2 out of  10 | elapsed:   16.8s remaining:  1.1min\n",
      "[Parallel(n_jobs=10)]: Done  10 out of  10 | elapsed:   17.4s finished\n",
      "[Parallel(n_jobs=10)]: Using backend LokyBackend with 10 concurrent workers.\n",
      "[Parallel(n_jobs=10)]: Done   2 out of  10 | elapsed:    0.2s remaining:    0.8s\n",
      "[Parallel(n_jobs=10)]: Done  10 out of  10 | elapsed:    0.6s finished\n",
      "[Parallel(n_jobs=10)]: Using backend LokyBackend with 10 concurrent workers.\n",
      "[Parallel(n_jobs=10)]: Done   2 out of  10 | elapsed:    0.2s remaining:    0.9s\n",
      "[Parallel(n_jobs=10)]: Done  10 out of  10 | elapsed:    0.7s finished\n",
      "[Parallel(n_jobs=10)]: Using backend LokyBackend with 10 concurrent workers.\n",
      "[Parallel(n_jobs=10)]: Done   2 out of  10 | elapsed:    0.3s remaining:    1.1s\n",
      "[Parallel(n_jobs=10)]: Done  10 out of  10 | elapsed:    0.7s finished\n",
      "[Parallel(n_jobs=10)]: Using backend LokyBackend with 10 concurrent workers.\n"
     ]
    },
    {
     "name": "stdout",
     "output_type": "stream",
     "text": [
      "Accuracy training : 1.000\n"
     ]
    },
    {
     "name": "stderr",
     "output_type": "stream",
     "text": [
      "[Parallel(n_jobs=10)]: Done   2 out of  10 | elapsed:    0.2s remaining:    0.9s\n",
      "[Parallel(n_jobs=10)]: Done  10 out of  10 | elapsed:    0.7s finished\n",
      "[Parallel(n_jobs=10)]: Using backend LokyBackend with 10 concurrent workers.\n"
     ]
    },
    {
     "name": "stdout",
     "output_type": "stream",
     "text": [
      "Accuracy test: 0.642\n",
      "Train acc: 1.0\n",
      "Test acc: 0.6423841059602649\n",
      "Test recall: 0.6423841059602649\n",
      "Test F1: 0.6423289541212307\n",
      "Test F2: 0.637369212878993\n",
      "TRAIN: [   0    1    2 ... 1836 1837 1838] TEST: [   4    6   26   29   49   54   61   76   86   99  121  123  140  156\n",
      "  160  172  210  213  227  251  286  300  304  332  337  353  386  398\n",
      "  438  445  461  469  475  498  505  510  514  519  530  542  544  554\n",
      "  572  583  587  588  589  600  614  625  632  663  664  668  689  695\n",
      "  707  709  719  722  752  757  766  775  783  795  805  812  834  894\n",
      "  921  982  984  996 1009 1046 1080 1104 1109 1141 1142 1164 1194 1252\n",
      " 1265 1266 1268 1282 1287 1303 1335 1338 1349 1368 1373 1379 1397 1405\n",
      " 1426 1433 1441 1454 1459 1484 1500 1504 1530 1536 1566 1577 1587 1590\n",
      " 1594 1598 1605 1631 1639 1660 1669 1702 1727 1736 1741 1742 1744 1768\n",
      " 1772 1788 1796 1798 1809 1812]\n",
      "x_train\n",
      "y_train\n"
     ]
    },
    {
     "name": "stderr",
     "output_type": "stream",
     "text": [
      "[Parallel(n_jobs=10)]: Done   2 out of  10 | elapsed:   16.9s remaining:  1.1min\n",
      "[Parallel(n_jobs=10)]: Done  10 out of  10 | elapsed:   17.6s finished\n",
      "[Parallel(n_jobs=10)]: Using backend LokyBackend with 10 concurrent workers.\n",
      "[Parallel(n_jobs=10)]: Done   2 out of  10 | elapsed:    0.2s remaining:    0.9s\n",
      "[Parallel(n_jobs=10)]: Done  10 out of  10 | elapsed:    0.6s finished\n",
      "[Parallel(n_jobs=10)]: Using backend LokyBackend with 10 concurrent workers.\n",
      "[Parallel(n_jobs=10)]: Done   2 out of  10 | elapsed:    0.2s remaining:    1.0s\n",
      "[Parallel(n_jobs=10)]: Done  10 out of  10 | elapsed:    0.7s finished\n",
      "[Parallel(n_jobs=10)]: Using backend LokyBackend with 10 concurrent workers.\n",
      "[Parallel(n_jobs=10)]: Done   2 out of  10 | elapsed:    0.3s remaining:    1.0s\n",
      "[Parallel(n_jobs=10)]: Done  10 out of  10 | elapsed:    0.7s finished\n",
      "[Parallel(n_jobs=10)]: Using backend LokyBackend with 10 concurrent workers.\n"
     ]
    },
    {
     "name": "stdout",
     "output_type": "stream",
     "text": [
      "Accuracy training : 1.000\n"
     ]
    },
    {
     "name": "stderr",
     "output_type": "stream",
     "text": [
      "[Parallel(n_jobs=10)]: Done   2 out of  10 | elapsed:    0.2s remaining:    0.8s\n",
      "[Parallel(n_jobs=10)]: Done  10 out of  10 | elapsed:    0.6s finished\n",
      "[Parallel(n_jobs=10)]: Using backend LokyBackend with 10 concurrent workers.\n"
     ]
    },
    {
     "name": "stdout",
     "output_type": "stream",
     "text": [
      "Accuracy test: 0.477\n",
      "Train acc: 1.0\n",
      "Test acc: 0.4772727272727273\n",
      "Test recall: 0.4772727272727273\n",
      "Test F1: 0.45715236168209805\n",
      "Test F2: 0.4618881060919023\n",
      "TRAIN: [   0    1    2 ... 1836 1837 1838] TEST: [  22   74   81   84   92  108  119  126  128  130  135  144  145  154\n",
      "  167  193  211  236  238  252  256  267  273  312  317  352  388  406\n",
      "  436  452  471  486  499  512  515  540  546  568  601  602  604  605\n",
      "  630  645  650  676  682  696  715  721  726  732  736  737  751  763\n",
      "  781  785  791  817  835  844  850  859  863  879  880  884  887  926\n",
      "  962  968  983  992 1007 1019 1020 1060 1100 1115 1117 1123 1124 1161\n",
      " 1166 1168 1191 1193 1200 1210 1221 1253 1272 1279 1280 1302 1319 1327\n",
      " 1331 1337 1345 1369 1382 1384 1389 1425 1449 1475 1486 1490 1492 1507\n",
      " 1516 1520 1525 1529 1537 1540 1548 1554 1565 1572 1599 1604 1608 1612\n",
      " 1640 1645 1659 1674 1676 1680 1699 1712 1723 1728 1729 1753 1760 1764\n",
      " 1782 1789 1804]\n",
      "x_train\n",
      "y_train\n"
     ]
    },
    {
     "name": "stderr",
     "output_type": "stream",
     "text": [
      "[Parallel(n_jobs=10)]: Done   2 out of  10 | elapsed:   17.1s remaining:  1.1min\n",
      "[Parallel(n_jobs=10)]: Done  10 out of  10 | elapsed:   17.7s finished\n",
      "[Parallel(n_jobs=10)]: Using backend LokyBackend with 10 concurrent workers.\n",
      "[Parallel(n_jobs=10)]: Done   2 out of  10 | elapsed:    0.2s remaining:    0.8s\n",
      "[Parallel(n_jobs=10)]: Done  10 out of  10 | elapsed:    0.6s finished\n",
      "[Parallel(n_jobs=10)]: Using backend LokyBackend with 10 concurrent workers.\n",
      "[Parallel(n_jobs=10)]: Done   2 out of  10 | elapsed:    0.2s remaining:    0.8s\n",
      "[Parallel(n_jobs=10)]: Done  10 out of  10 | elapsed:    0.7s finished\n",
      "[Parallel(n_jobs=10)]: Using backend LokyBackend with 10 concurrent workers.\n",
      "[Parallel(n_jobs=10)]: Done   2 out of  10 | elapsed:    0.3s remaining:    1.1s\n",
      "[Parallel(n_jobs=10)]: Done  10 out of  10 | elapsed:    0.7s finished\n",
      "[Parallel(n_jobs=10)]: Using backend LokyBackend with 10 concurrent workers.\n"
     ]
    },
    {
     "name": "stdout",
     "output_type": "stream",
     "text": [
      "Accuracy training : 1.000\n"
     ]
    },
    {
     "name": "stderr",
     "output_type": "stream",
     "text": [
      "[Parallel(n_jobs=10)]: Done   2 out of  10 | elapsed:    0.2s remaining:    0.8s\n",
      "[Parallel(n_jobs=10)]: Done  10 out of  10 | elapsed:    0.6s finished\n",
      "[Parallel(n_jobs=10)]: Using backend LokyBackend with 10 concurrent workers.\n"
     ]
    },
    {
     "name": "stdout",
     "output_type": "stream",
     "text": [
      "Accuracy test: 0.524\n",
      "Train acc: 1.0\n",
      "Test acc: 0.5244755244755245\n",
      "Test recall: 0.5244755244755245\n",
      "Test F1: 0.5104920623531045\n",
      "Test F2: 0.5135996554738521\n",
      "TRAIN: [   0    1    2 ... 1836 1837 1838] TEST: [   9   25   32   48   53   60   67   72   93  101  105  116  137  139\n",
      "  151  186  191  198  216  218  221  229  230  250  261  268  278  295\n",
      "  308  320  321  322  357  376  404  412  427  446  453  477  480  526\n",
      "  527  552  573  579  608  634  637  649  652  655  661  670  672  678\n",
      "  686  697  717  724  742  744  745  747  753  760  765  767  769  770\n",
      "  819  826  832  883  901  917  920  922  925  931  933  935  940  941\n",
      "  958  961  973  989 1012 1042 1058 1084 1091 1102 1107 1108 1110 1111\n",
      " 1130 1140 1143 1144 1162 1208 1218 1222 1227 1241 1254 1352 1354 1392\n",
      " 1398 1401 1412 1413 1435 1440 1442 1462 1479 1499 1509 1510 1514 1518\n",
      " 1527 1532 1533 1545 1555 1613 1623 1628 1641 1642 1661 1666 1695 1704\n",
      " 1706 1707 1711 1715 1730 1734 1739 1755 1761 1765 1767 1771 1783 1795\n",
      " 1797 1814 1815 1834]\n",
      "x_train\n",
      "y_train\n"
     ]
    },
    {
     "name": "stderr",
     "output_type": "stream",
     "text": [
      "[Parallel(n_jobs=10)]: Done   2 out of  10 | elapsed:   16.0s remaining:  1.1min\n",
      "[Parallel(n_jobs=10)]: Done  10 out of  10 | elapsed:   17.4s finished\n",
      "[Parallel(n_jobs=10)]: Using backend LokyBackend with 10 concurrent workers.\n",
      "[Parallel(n_jobs=10)]: Done   2 out of  10 | elapsed:    0.2s remaining:    0.8s\n",
      "[Parallel(n_jobs=10)]: Done  10 out of  10 | elapsed:    0.6s finished\n",
      "[Parallel(n_jobs=10)]: Using backend LokyBackend with 10 concurrent workers.\n",
      "[Parallel(n_jobs=10)]: Done   2 out of  10 | elapsed:    0.2s remaining:    0.9s\n",
      "[Parallel(n_jobs=10)]: Done  10 out of  10 | elapsed:    0.7s finished\n",
      "[Parallel(n_jobs=10)]: Using backend LokyBackend with 10 concurrent workers.\n",
      "[Parallel(n_jobs=10)]: Done   2 out of  10 | elapsed:    0.3s remaining:    1.0s\n",
      "[Parallel(n_jobs=10)]: Done  10 out of  10 | elapsed:    0.8s finished\n",
      "[Parallel(n_jobs=10)]: Using backend LokyBackend with 10 concurrent workers.\n"
     ]
    },
    {
     "name": "stdout",
     "output_type": "stream",
     "text": [
      "Accuracy training : 1.000\n"
     ]
    },
    {
     "name": "stderr",
     "output_type": "stream",
     "text": [
      "[Parallel(n_jobs=10)]: Done   2 out of  10 | elapsed:    0.2s remaining:    0.8s\n",
      "[Parallel(n_jobs=10)]: Done  10 out of  10 | elapsed:    0.6s finished\n",
      "[Parallel(n_jobs=10)]: Using backend LokyBackend with 10 concurrent workers.\n"
     ]
    },
    {
     "name": "stdout",
     "output_type": "stream",
     "text": [
      "Accuracy test: 0.582\n",
      "Train acc: 1.0\n",
      "Test acc: 0.5822784810126582\n",
      "Test recall: 0.5822784810126582\n",
      "Test F1: 0.5580625237716286\n",
      "Test F2: 0.5647644187384518\n",
      "TRAIN: [   0    1    2 ... 1836 1837 1838] TEST: [   5   13   82  103  127  132  142  187  196  203  209  214  217  219\n",
      "  231  239  240  249  253  264  266  272  281  284  285  293  316  326\n",
      "  343  356  366  375  391  399  431  444  450  466  496  517  561  562\n",
      "  581  596  620  636  660  666  674  677  679  680  681  688  692  713\n",
      "  718  741  749  755  796  799  809  823  838  841  845  846  852  855\n",
      "  858  873  943  949  956  964  965  988 1000 1005 1033 1035 1036 1049\n",
      " 1066 1070 1082 1095 1116 1131 1134 1153 1155 1172 1181 1183 1211 1212\n",
      " 1216 1217 1223 1233 1242 1243 1247 1255 1257 1261 1264 1273 1275 1284\n",
      " 1300 1312 1313 1314 1317 1333 1355 1372 1378 1381 1391 1395 1403 1406\n",
      " 1411 1443 1488 1494 1506 1513 1526 1539 1573 1584 1591 1606 1610 1615\n",
      " 1621 1636 1649 1651 1656 1658 1677 1690 1692 1737 1740 1745 1766 1770\n",
      " 1780 1784 1786 1802 1817 1819 1824 1827]\n",
      "x_train\n",
      "y_train\n"
     ]
    },
    {
     "name": "stderr",
     "output_type": "stream",
     "text": [
      "[Parallel(n_jobs=10)]: Done   2 out of  10 | elapsed:   16.4s remaining:  1.1min\n",
      "[Parallel(n_jobs=10)]: Done  10 out of  10 | elapsed:   17.5s finished\n",
      "[Parallel(n_jobs=10)]: Using backend LokyBackend with 10 concurrent workers.\n",
      "[Parallel(n_jobs=10)]: Done   2 out of  10 | elapsed:    0.2s remaining:    0.8s\n",
      "[Parallel(n_jobs=10)]: Done  10 out of  10 | elapsed:    0.6s finished\n",
      "[Parallel(n_jobs=10)]: Using backend LokyBackend with 10 concurrent workers.\n",
      "[Parallel(n_jobs=10)]: Done   2 out of  10 | elapsed:    0.2s remaining:    0.9s\n",
      "[Parallel(n_jobs=10)]: Done  10 out of  10 | elapsed:    0.7s finished\n",
      "[Parallel(n_jobs=10)]: Using backend LokyBackend with 10 concurrent workers.\n",
      "[Parallel(n_jobs=10)]: Done   2 out of  10 | elapsed:    0.3s remaining:    1.1s\n",
      "[Parallel(n_jobs=10)]: Done  10 out of  10 | elapsed:    0.7s finished\n",
      "[Parallel(n_jobs=10)]: Using backend LokyBackend with 10 concurrent workers.\n"
     ]
    },
    {
     "name": "stdout",
     "output_type": "stream",
     "text": [
      "Accuracy training : 1.000\n"
     ]
    },
    {
     "name": "stderr",
     "output_type": "stream",
     "text": [
      "[Parallel(n_jobs=10)]: Done   2 out of  10 | elapsed:    0.2s remaining:    0.8s\n"
     ]
    },
    {
     "name": "stdout",
     "output_type": "stream",
     "text": [
      "Accuracy test: 0.611\n",
      "Train acc: 1.0\n",
      "Test acc: 0.6111111111111112\n",
      "Test recall: 0.6111111111111112\n",
      "Test F1: 0.6182507356136228\n",
      "Test F2: 0.608527759440436\n",
      "Tiempo: 244.82 segundos\n"
     ]
    },
    {
     "name": "stderr",
     "output_type": "stream",
     "text": [
      "[Parallel(n_jobs=10)]: Done  10 out of  10 | elapsed:    0.6s finished\n"
     ]
    }
   ],
   "source": [
    "start = time.time()\n",
    "\n",
    "# X = df_proc.loc[:, df_proc.columns != \"emotion\"]\n",
    "# y = df_proc[\"emotion\"]\n",
    "logo = LeaveOneGroupOut()\n",
    "logo.get_n_splits(X_train, y_train, groups)\n",
    "for train_index, test_index in logo.split(X_train, y_train, groups):\n",
    "    print(\"TRAIN:\", train_index, \"TEST:\", test_index)\n",
    "    print('x_train')\n",
    "    group_X_train, group_X_test = X_train.iloc[train_index], X_train.iloc[test_index]\n",
    "    print('y_train')\n",
    "    group_y_train, group_y_test = y_train.iloc[train_index], y_train.iloc[test_index]\n",
    "    # print(group_X_train, group_X_test, group_y_train, group_y_test)\n",
    "    \n",
    "    # Train - Fit - Metrics (A array => boxplot)\n",
    "    loaded_model.fit(group_X_train, group_y_train)\n",
    "    group_y_pred_test = loaded_model.predict(group_X_test)\n",
    "    group_y_pred_train = loaded_model.predict(group_X_train)\n",
    "    # evaluación\n",
    "    print(\"Accuracy training : {:.3f}\".format(loaded_model.score(group_X_train, group_y_train)))\n",
    "    print(\"Accuracy test: {:.3f}\".format(loaded_model.score(group_X_test, group_y_test)))\n",
    "\n",
    "    print(\"Train acc: {}\".format(accuracy_score(group_y_train, group_y_pred_train)))\n",
    "    print(\"Test acc: {}\".format(accuracy_score(group_y_test, group_y_pred_test)))\n",
    "    print(\"Test recall: {}\".format(recall_score(group_y_test, group_y_pred_test, average='weighted')))\n",
    "    print(\"Test F1: {}\".format(fbeta_score(group_y_test, group_y_pred_test, beta=1, average='weighted')))\n",
    "    print(\"Test F2: {}\".format(fbeta_score(group_y_test, group_y_pred_test, beta=2, average='weighted')))\n",
    "\n",
    "\n",
    "    groups_accs.append(accuracy_score(group_y_test, group_y_pred_test))\n",
    "    groups_precisions.append(precision_score(group_y_test, group_y_pred_test, average='weighted'))\n",
    "    groups_recalls.append(recall_score(group_y_test, group_y_pred_test, average='weighted'))\n",
    "    groups_f1.append(fbeta_score(group_y_test, group_y_pred_test, beta=1, average='weighted'))\n",
    "    groups_f2.append(fbeta_score(group_y_test, group_y_pred_test, beta=2, average='weighted')    )\n",
    "\n",
    "end = time.time()\n",
    "print(f\"Tiempo: { round(end - start, 2) } segundos\")"
   ]
  },
  {
   "cell_type": "code",
   "execution_count": 152,
   "metadata": {},
   "outputs": [],
   "source": [
    "all_metrics = (\n",
    "    all_metrics\n",
    "    + list(groups_accs)\n",
    "    + list(groups_precisions)\n",
    "    + list(groups_recalls)\n",
    "    + list(groups_f1)\n",
    "    + list(groups_f2)\n",
    ")\n",
    "metric_labels = (\n",
    "    metric_labels\n",
    "    + [\"Accuracy\"] * len(groups_accs)\n",
    "    + [\"Precision\"] * len(groups_precisions)\n",
    "    + [\"Recall\"] * len(groups_recalls)\n",
    "    + [\"F1 Score\"] * len(groups_f1)\n",
    "    + [\"F2 Score\"] * len(groups_f2)\n",
    ")"
   ]
  },
  {
   "cell_type": "code",
   "execution_count": 153,
   "metadata": {},
   "outputs": [
    {
     "data": {
      "text/plain": [
       "120"
      ]
     },
     "execution_count": 153,
     "metadata": {},
     "output_type": "execute_result"
    }
   ],
   "source": [
    "len(all_metrics) # Porque 65?"
   ]
  },
  {
   "cell_type": "code",
   "execution_count": 154,
   "metadata": {
    "scrolled": true
   },
   "outputs": [
    {
     "data": {
      "text/plain": [
       "[0.6558441558441559,\n",
       " 0.6688311688311688,\n",
       " 0.6818181818181818,\n",
       " 0.6339869281045751,\n",
       " 0.6209150326797386,\n",
       " 0.6013071895424836,\n",
       " 0.6405228758169934,\n",
       " 0.5947712418300654,\n",
       " 0.6797385620915033,\n",
       " 0.7124183006535948,\n",
       " 0.6339869281045751,\n",
       " 0.6862745098039216,\n",
       " 0.666643709825528,\n",
       " 0.6700252895291381,\n",
       " 0.6819815109812464,\n",
       " 0.6366526437460694,\n",
       " 0.6197476162182045,\n",
       " 0.6216083286052326,\n",
       " 0.6444914445243486,\n",
       " 0.593683457924944,\n",
       " 0.6804927929204017,\n",
       " 0.7187359275519347,\n",
       " 0.646358637906131,\n",
       " 0.6921507595681171,\n",
       " 0.6558441558441559,\n",
       " 0.6688311688311688,\n",
       " 0.6818181818181818,\n",
       " 0.6339869281045751,\n",
       " 0.6209150326797386,\n",
       " 0.6013071895424836,\n",
       " 0.6405228758169934,\n",
       " 0.5947712418300654,\n",
       " 0.6797385620915033,\n",
       " 0.7124183006535948,\n",
       " 0.6339869281045751,\n",
       " 0.6862745098039216,\n",
       " 0.6575788566937191,\n",
       " 0.6680898236729005,\n",
       " 0.6770787653904536,\n",
       " 0.6206360340380751,\n",
       " 0.6182391319646222,\n",
       " 0.5939544625636062,\n",
       " 0.6404996681342113,\n",
       " 0.5882711598034358,\n",
       " 0.6757959147380868,\n",
       " 0.7081093186749774,\n",
       " 0.6252878460364366,\n",
       " 0.6803601731472355,\n",
       " 0.6557120301060114,\n",
       " 0.6682365958005194,\n",
       " 0.6786280712543908,\n",
       " 0.6248679134926164,\n",
       " 0.6193392954908572,\n",
       " 0.595985462338554,\n",
       " 0.6400363026689978,\n",
       " 0.5908975941299656,\n",
       " 0.6771082365638029,\n",
       " 0.7091246244943874,\n",
       " 0.6270142074403967,\n",
       " 0.6814760858651218,\n",
       " 0.5584415584415584,\n",
       " 0.53125,\n",
       " 0.47468354430379744,\n",
       " 0.6258503401360545,\n",
       " 0.34615384615384615,\n",
       " 0.49044585987261147,\n",
       " 0.4906832298136646,\n",
       " 0.6423841059602649,\n",
       " 0.4772727272727273,\n",
       " 0.5244755244755245,\n",
       " 0.5822784810126582,\n",
       " 0.6111111111111112,\n",
       " 0.5853712968180008,\n",
       " 0.6106224747474748,\n",
       " 0.47803249309853596,\n",
       " 0.6570655552669411,\n",
       " 0.3525964775964776,\n",
       " 0.5528083381586566,\n",
       " 0.5235138701121015,\n",
       " 0.6929524779855906,\n",
       " 0.5133166930820889,\n",
       " 0.5439845181556411,\n",
       " 0.6393748756240428,\n",
       " 0.6679570004614998,\n",
       " 0.5584415584415584,\n",
       " 0.53125,\n",
       " 0.47468354430379744,\n",
       " 0.6258503401360545,\n",
       " 0.34615384615384615,\n",
       " 0.49044585987261147,\n",
       " 0.4906832298136646,\n",
       " 0.6423841059602649,\n",
       " 0.4772727272727273,\n",
       " 0.5244755244755245,\n",
       " 0.5822784810126582,\n",
       " 0.6111111111111112,\n",
       " 0.5495263346805443,\n",
       " 0.5373327788389023,\n",
       " 0.45944892805479176,\n",
       " 0.6167138111519305,\n",
       " 0.3285231931573395,\n",
       " 0.47635751419516964,\n",
       " 0.49144194254368295,\n",
       " 0.6423289541212307,\n",
       " 0.45715236168209805,\n",
       " 0.5104920623531045,\n",
       " 0.5580625237716286,\n",
       " 0.6182507356136228,\n",
       " 0.5496871678689274,\n",
       " 0.5278777719873246,\n",
       " 0.46451349024150956,\n",
       " 0.6160343544002327,\n",
       " 0.3361430572183748,\n",
       " 0.47545176776902176,\n",
       " 0.4869499707185703,\n",
       " 0.637369212878993,\n",
       " 0.4618881060919023,\n",
       " 0.5135996554738521,\n",
       " 0.5647644187384518,\n",
       " 0.608527759440436]"
      ]
     },
     "execution_count": 154,
     "metadata": {},
     "output_type": "execute_result"
    }
   ],
   "source": [
    "all_metrics"
   ]
  },
  {
   "cell_type": "code",
   "execution_count": 155,
   "metadata": {
    "scrolled": false
   },
   "outputs": [
    {
     "name": "stderr",
     "output_type": "stream",
     "text": [
      "/home/User/.local/lib/python3.6/site-packages/seaborn/_decorators.py:43: FutureWarning: Pass the following variables as keyword args: x, y. From version 0.12, the only valid positional argument will be `data`, and passing other arguments without an explicit keyword will result in an error or misinterpretation.\n",
      "  FutureWarning\n"
     ]
    },
    {
     "data": {
      "image/png": "[encoded data removed]",
      "text/plain": [
       "<Figure size 1080x576 with 1 Axes>"
      ]
     },
     "metadata": {
      "needs_background": "light"
     },
     "output_type": "display_data"
    }
   ],
   "source": [
    "hue = [\"Kfold\"] * 60 + [\"Leave-2-speakers\"] * 60\n",
    "fig = plt.figure(figsize=(15, 8))\n",
    "sns.boxplot(metric_labels, all_metrics, hue=hue)\n",
    "\n",
    "fig.savefig(\n",
    "    \"03.02.Bagging_balanced.png\"\n",
    ")"
   ]
  },
  {
   "cell_type": "markdown",
   "metadata": {},
   "source": [
    "## Comparación de modelos\n",
    "\n",
    "C) Realizar la división de datos de la manera que considere más adecuada, teniendo en cuenta el análisis realizado en b), y comparar el desempeño de Random Forests y AdaBoost. Realizar una búsqueda de hiperparámetros para ambos modelos. Para esto, deberá elegirse una métrica de evaluación y justificar la elección. Reportar y analizar la matriz de confusión del mejor modelo, tanto para el caso de audios cantados como hablados.\n",
    "\n",
    "1. Train/Test\n",
    "2. Métrica\n",
    "3. Busqueda hiperparámetros (Cuáles son los hiperparametros? Cual el espacio de búsqueda acotado?)\n",
    "    * Random forest\n",
    "    * Adaboost\n",
    "4. Comparación de modelos\n",
    "    * Matriz de confusión\n",
    "5. Comprar ambos modelos\n",
    "    * Cantados\n",
    "    * Hablados\n",
    "\n",
    "### Métrica"
   ]
  },
  {
   "cell_type": "markdown",
   "metadata": {},
   "source": [
    "f1? o accuracy?"
   ]
  },
  {
   "cell_type": "markdown",
   "metadata": {},
   "source": [
    "### Random Forests\n",
    "\n",
    "Random Forest es una implementación de un algoritmo de *Bagging* que propone como estimadores base a **n_estimators** árboles de decisión. Cada árbol verá un subset distinto de los datos de entrenamiento (bagging, llamado **bootstrap** en los parámetros de sklearn). A su vez, para elegir el mejor split en cada nivel, se tienen en cuenta solo **max_features** atributos, seleccionados al azar. Estas 2 técnicas combinadas llevan a obtener árboles que sean distintos entre si y estén decorrelacionados, lo cual es bueno ya que si un árbol comete errores, probablemente otros no lo cometerán y se compensarán. Cuanto más independientes sean los árboles entre si más reduciremos la varianza."
   ]
  },
  {
   "cell_type": "markdown",
   "metadata": {},
   "source": [
    "random forest pelado"
   ]
  },
  {
   "cell_type": "code",
   "execution_count": 12,
   "metadata": {
    "scrolled": true
   },
   "outputs": [
    {
     "name": "stdout",
     "output_type": "stream",
     "text": [
      "Accuracy training : 1.000\n",
      "Accuracy test: 0.715\n"
     ]
    }
   ],
   "source": [
    "from sklearn.ensemble import RandomForestClassifier\n",
    "\n",
    "rf = RandomForestClassifier(n_estimators=1000, random_state=42)\n",
    "rf.fit(X_train, y_train)\n",
    "print(\"Accuracy training : {:.3f}\".format(rf.score(X_train, y_train)))\n",
    "print(\"Accuracy test: {:.3f}\".format(rf.score(X_test, y_test)))"
   ]
  },
  {
   "cell_type": "code",
   "execution_count": 75,
   "metadata": {},
   "outputs": [],
   "source": [
    "random_model = pickle.load(open('03.04.Random_forest.pkl', 'rb'))"
   ]
  },
  {
   "cell_type": "markdown",
   "metadata": {},
   "source": [
    "clf.best_score_\n",
    "0.6508652471656616 \n",
    "clf.best_params_\n",
    "{'n_estimators': 3050, 'bootstrap': True}"
   ]
  },
  {
   "cell_type": "code",
   "execution_count": 19,
   "metadata": {
    "colab": {
     "base_uri": "https://localhost:8080/",
     "height": 384
    },
    "id": "msbLdTxMlur9",
    "outputId": "9693fbde-50bf-4f1e-e483-3f7ed1b59d1b"
   },
   "outputs": [
    {
     "data": {
      "image/png": "[encoded data removed]",
      "text/plain": [
       "<Figure size 7200x4320 with 1 Axes>"
      ]
     },
     "metadata": {
      "needs_background": "light"
     },
     "output_type": "display_data"
    }
   ],
   "source": [
    "features = [x for i, x in enumerate(df_proc.columns) if i != 8]\n",
    "feat_importances = random_model.feature_importances_\n",
    "\n",
    "plt.figure(figsize=(100, 60))\n",
    "graph_importance = sns.barplot(\n",
    "    y=features,\n",
    "    x=feat_importances,\n",
    "    orient=\"h\",\n",
    "    order=reversed(np.array(features)[np.argsort(feat_importances)]),\n",
    ")\n",
    "\n",
    "\n",
    "graph_importance.figure.savefig(\n",
    "    \"03.04.Random_forest.feature_importante.png\", bbox_inches='tight'\n",
    ")"
   ]
  },
  {
   "cell_type": "code",
   "execution_count": 20,
   "metadata": {},
   "outputs": [
    {
     "name": "stdout",
     "output_type": "stream",
     "text": [
      "Importancia de los predictores en el modelo\n",
      "-------------------------------------------\n"
     ]
    },
    {
     "data": {
      "text/html": [
       "<div>\n",
       "<style scoped>\n",
       "    .dataframe tbody tr th:only-of-type {\n",
       "        vertical-align: middle;\n",
       "    }\n",
       "\n",
       "    .dataframe tbody tr th {\n",
       "        vertical-align: top;\n",
       "    }\n",
       "\n",
       "    .dataframe thead th {\n",
       "        text-align: right;\n",
       "    }\n",
       "</style>\n",
       "<table border=\"1\" class=\"dataframe\">\n",
       "  <thead>\n",
       "    <tr style=\"text-align: right;\">\n",
       "      <th></th>\n",
       "      <th>Predictor</th>\n",
       "      <th>Importancia</th>\n",
       "    </tr>\n",
       "  </thead>\n",
       "  <tbody>\n",
       "    <tr>\n",
       "      <th>67</th>\n",
       "      <td>(s, p, e, c, t, r, a, l, F, l, u, x, V, _, s, ...</td>\n",
       "      <td>0.072617</td>\n",
       "    </tr>\n",
       "    <tr>\n",
       "      <th>6</th>\n",
       "      <td>(F, 0, s, e, m, i, t, o, n, e, F, r, o, m, 2, ...</td>\n",
       "      <td>0.071894</td>\n",
       "    </tr>\n",
       "    <tr>\n",
       "      <th>2</th>\n",
       "      <td>(F, 0, s, e, m, i, t, o, n, e, F, r, o, m, 2, ...</td>\n",
       "      <td>0.028634</td>\n",
       "    </tr>\n",
       "    <tr>\n",
       "      <th>31</th>\n",
       "      <td>(j, i, t, t, e, r, L, o, c, a, l, _, s, m, a, ...</td>\n",
       "      <td>0.027618</td>\n",
       "    </tr>\n",
       "    <tr>\n",
       "      <th>11</th>\n",
       "      <td>(l, o, u, d, n, e, s, s, _, s, m, a, 3, _, a, ...</td>\n",
       "      <td>0.019615</td>\n",
       "    </tr>\n",
       "    <tr>\n",
       "      <th>...</th>\n",
       "      <td>...</td>\n",
       "      <td>...</td>\n",
       "    </tr>\n",
       "    <tr>\n",
       "      <th>27</th>\n",
       "      <td>(m, f, c, c, 3, _, s, m, a, 3, _, a, m, e, a, n)</td>\n",
       "      <td>0.005837</td>\n",
       "    </tr>\n",
       "    <tr>\n",
       "      <th>79</th>\n",
       "      <td>(s, l, o, p, e, U, V, 0, -, 5, 0, 0, _, s, m, ...</td>\n",
       "      <td>0.005278</td>\n",
       "    </tr>\n",
       "    <tr>\n",
       "      <th>23</th>\n",
       "      <td>(m, f, c, c, 1, _, s, m, a, 3, _, a, m, e, a, n)</td>\n",
       "      <td>0.005272</td>\n",
       "    </tr>\n",
       "    <tr>\n",
       "      <th>77</th>\n",
       "      <td>(a, l, p, h, a, R, a, t, i, o, U, V, _, s, m, ...</td>\n",
       "      <td>0.005013</td>\n",
       "    </tr>\n",
       "    <tr>\n",
       "      <th>78</th>\n",
       "      <td>(h, a, m, m, a, r, b, e, r, g, I, n, d, e, x, ...</td>\n",
       "      <td>0.004862</td>\n",
       "    </tr>\n",
       "  </tbody>\n",
       "</table>\n",
       "<p>89 rows × 2 columns</p>\n",
       "</div>"
      ],
      "text/plain": [
       "                                            Predictor  Importancia\n",
       "67  (s, p, e, c, t, r, a, l, F, l, u, x, V, _, s, ...     0.072617\n",
       "6   (F, 0, s, e, m, i, t, o, n, e, F, r, o, m, 2, ...     0.071894\n",
       "2   (F, 0, s, e, m, i, t, o, n, e, F, r, o, m, 2, ...     0.028634\n",
       "31  (j, i, t, t, e, r, L, o, c, a, l, _, s, m, a, ...     0.027618\n",
       "11  (l, o, u, d, n, e, s, s, _, s, m, a, 3, _, a, ...     0.019615\n",
       "..                                                ...          ...\n",
       "27   (m, f, c, c, 3, _, s, m, a, 3, _, a, m, e, a, n)     0.005837\n",
       "79  (s, l, o, p, e, U, V, 0, -, 5, 0, 0, _, s, m, ...     0.005278\n",
       "23   (m, f, c, c, 1, _, s, m, a, 3, _, a, m, e, a, n)     0.005272\n",
       "77  (a, l, p, h, a, R, a, t, i, o, U, V, _, s, m, ...     0.005013\n",
       "78  (h, a, m, m, a, r, b, e, r, g, I, n, d, e, x, ...     0.004862\n",
       "\n",
       "[89 rows x 2 columns]"
      ]
     },
     "execution_count": 20,
     "metadata": {},
     "output_type": "execute_result"
    }
   ],
   "source": [
    "# df_proc.loc[:, df_proc.columns != \"emotion\"],\n",
    "#     df_proc[\"emotion\"],\n",
    "    \n",
    "importancia_predictores = pd.DataFrame(\n",
    "    {\"Predictor\": df_proc.loc[:, df_proc.columns != \"emotion\"], \"Importancia\": random_model.feature_importances_}\n",
    ")\n",
    "print(\"Importancia de los predictores en el modelo\")\n",
    "print(\"-------------------------------------------\")\n",
    "importancia_predictores.sort_values(\"Importancia\", ascending=False)"
   ]
  },
  {
   "cell_type": "code",
   "execution_count": 76,
   "metadata": {
    "scrolled": false
   },
   "outputs": [
    {
     "name": "stdout",
     "output_type": "stream",
     "text": [
      "Accuracy training : 1.000\n",
      "Accuracy test: 0.690\n",
      "Train acc: 1.0\n",
      "Test acc: 0.6900489396411092\n",
      "Test recall: 0.6900489396411092\n",
      "Test F1: 0.6891785572782008\n",
      "Test F2: 0.6893202868263173\n"
     ]
    }
   ],
   "source": [
    "y_pred_test = random_model.predict(X_test)\n",
    "y_pred_train = random_model.predict(X_train)\n",
    "# evaluación\n",
    "print(\"Accuracy training : {:.3f}\".format(random_model.score(X_train, y_train)))\n",
    "print(\"Accuracy test: {:.3f}\".format(random_model.score(X_test, y_test)))\n",
    "print(\"Train acc: {}\".format(accuracy_score(y_train, y_pred_train)))\n",
    "print(\"Test acc: {}\".format(accuracy_score(y_test, y_pred_test)))\n",
    "print(\"Test recall: {}\".format(recall_score(y_test, y_pred_test, average='weighted')))\n",
    "print(\"Test F1: {}\".format(fbeta_score(y_test, y_pred_test, beta=1, average='weighted')))\n",
    "print(\"Test F2: {}\".format(fbeta_score(y_test, y_pred_test, beta=2, average='weighted')))"
   ]
  },
  {
   "cell_type": "code",
   "execution_count": 77,
   "metadata": {},
   "outputs": [
    {
     "data": {
      "image/png": "[encoded data removed]",
      "text/plain": [
       "<Figure size 432x288 with 2 Axes>"
      ]
     },
     "metadata": {
      "needs_background": "light"
     },
     "output_type": "display_data"
    }
   ],
   "source": [
    "ax = plt.subplot()\n",
    "cm = confusion_matrix(y_test, y_pred_test)\n",
    "matriz_n_aria = sns.heatmap(cm, cmap=\"Blues\", annot=True, fmt=\"g\")\n",
    "plt.xlabel(\"Predicted\")\n",
    "plt.ylabel(\"True\")\n",
    "ax.xaxis.set_ticklabels(labels_cm)\n",
    "ax.yaxis.set_ticklabels(labels_cm)\n",
    "\n",
    "matriz_n_aria .figure.savefig(\n",
    "    \"03.04.Random_forest.matriz.png\", bbox_inches='tight'\n",
    ")"
   ]
  },
  {
   "cell_type": "markdown",
   "metadata": {},
   "source": [
    "### AdaBoost\n",
    "En cada iteración construye un stump nuevo y le da más peso a las muestras que fueron clasificadas mal por el anterior stump. De esta manera, en cada iteración se intenta corregir los errores que cometió el anterior clasificador. Una vez armado el ensamble, cada stump tendrá asociado un peso en sus predicciones de acuerdo a qué tan bueno fue clasificando durante el entrenamiento. A continuación les dejamos un video explicativo del funcionamiento del algoritmo:\n",
    "\n",
    "https://www.youtube.com/watch?v=LsK-xG1cLYA&ab_channel=StatQuestwithJoshStarmerStatQuestwithJoshStarmerVerified\n",
    "\n",
    "La implementación de AdaBoost de sklearn nos provee de un meta-estimador para Boosting, al cual le podemos pasar cualquier estimador (por defecto usa un arbol de profundidad 1, un stump):\n",
    "\n",
    "https://scikit-learn.org/stable/modules/generated/sklearn.ensemble.AdaBoostClassifier.html?highlight=adaboost#sklearn.ensemble.AdaBoostClassifier\n",
    "\n",
    "Paper original:\n",
    "https://web.stanford.edu/~hastie/Papers/samme.pdf \n"
   ]
  },
  {
   "cell_type": "code",
   "execution_count": 79,
   "metadata": {},
   "outputs": [],
   "source": [
    "adaboost_model = pickle.load(open('03.05.AdaBoost.pkl', 'rb'))"
   ]
  },
  {
   "cell_type": "markdown",
   "metadata": {},
   "source": [
    "clf.best_score_\n",
    "0.4797936868934203 \n",
    "\n",
    "clf.best_params_\n",
    "{'n_estimators': 1640, 'learning_rate': 0.707}"
   ]
  },
  {
   "cell_type": "code",
   "execution_count": 80,
   "metadata": {},
   "outputs": [
    {
     "name": "stdout",
     "output_type": "stream",
     "text": [
      "Accuracy training : 1.000\n",
      "Accuracy test: 0.501\n",
      "Train acc: 1.0\n",
      "Test acc: 0.5008156606851549\n",
      "Test recall: 0.5008156606851549\n",
      "Test F1: 0.5009272629011612\n",
      "Test F2: 0.5006174668969426\n"
     ]
    }
   ],
   "source": [
    "# matriz de confusión y classification_report\n",
    "y_pred_test = adaboost_model.predict(X_test)\n",
    "y_pred_train = adaboost_model.predict(X_train)\n",
    "\n",
    "# evaluación\n",
    "print(\"Accuracy training : {:.3f}\".format(adaboost_model.score(X_train, y_train)))\n",
    "print(\"Accuracy test: {:.3f}\".format(adaboost_model.score(X_test, y_test)))\n",
    "print(\"Train acc: {}\".format(accuracy_score(y_train, y_pred_train)))\n",
    "print(\"Test acc: {}\".format(accuracy_score(y_test, y_pred_test)))\n",
    "print(\"Test recall: {}\".format(recall_score(y_test, y_pred_test, average='weighted')))\n",
    "print(\"Test F1: {}\".format(fbeta_score(y_test, y_pred_test, beta=1, average='weighted')))\n",
    "print(\"Test F2: {}\".format(fbeta_score(y_test, y_pred_test, beta=2, average='weighted')))"
   ]
  },
  {
   "cell_type": "code",
   "execution_count": 81,
   "metadata": {
    "scrolled": true
   },
   "outputs": [
    {
     "data": {
      "image/png": "[encoded data removed]",
      "text/plain": [
       "<Figure size 432x288 with 2 Axes>"
      ]
     },
     "metadata": {
      "needs_background": "light"
     },
     "output_type": "display_data"
    }
   ],
   "source": [
    "ax = plt.subplot()\n",
    "cm = confusion_matrix(y_test, y_pred_test)\n",
    "matriz_n_aria = sns.heatmap(cm, cmap=\"Blues\", annot=True, fmt=\"g\")\n",
    "plt.xlabel(\"Predicted\")\n",
    "plt.ylabel(\"True\")\n",
    "ax.xaxis.set_ticklabels(labels_cm)\n",
    "ax.yaxis.set_ticklabels(labels_cm)\n",
    "\n",
    "\n",
    "matriz_n_aria.figure.savefig(\n",
    "    \"03.05.Adaboost.matriz.png\", bbox_inches='tight'\n",
    ")"
   ]
  },
  {
   "cell_type": "markdown",
   "metadata": {},
   "source": [
    "### Matriz de confusión\n",
    "\n",
    "Mejor modelo: Random forest\n",
    "\n",
    "Comparación cantados vs speech\n",
    "\n",
    "#### Representatividad de cada categoría\n"
   ]
  },
  {
   "cell_type": "code",
   "execution_count": 57,
   "metadata": {},
   "outputs": [
    {
     "data": {
      "text/plain": [
       "<AxesSubplot:xlabel='emotion'>"
      ]
     },
     "execution_count": 57,
     "metadata": {},
     "output_type": "execute_result"
    },
    {
     "data": {
      "image/png": "[encoded data removed]",
      "text/plain": [
       "<Figure size 432x288 with 1 Axes>"
      ]
     },
     "metadata": {
      "needs_background": "light"
     },
     "output_type": "display_data"
    }
   ],
   "source": [
    "pd.crosstab(df_original['emotion'],df_original['vocal_channel']).plot.bar()"
   ]
  },
  {
   "cell_type": "code",
   "execution_count": 82,
   "metadata": {},
   "outputs": [],
   "source": [
    "confusion_drop_columns = [\n",
    "    \"file_path\",\n",
    "    \"Unnamed: 0\",\n",
    "    \"modality\",\n",
    "#    \"vocal_channel\", # Vocal channel (01 = speech, 02 = song).\n",
    "#     \"emotion\",\n",
    "    \"emotional_intensity\",\n",
    "    \"statement\",\n",
    "    \"repetition\",\n",
    "    \"actor\",\n",
    "]"
   ]
  },
  {
   "cell_type": "code",
   "execution_count": 83,
   "metadata": {
    "scrolled": true
   },
   "outputs": [
    {
     "data": {
      "text/plain": [
       "['vocal_channel',\n",
       " 'emotion',\n",
       " 'F0semitoneFrom27.5Hz_sma3nz_amean',\n",
       " 'F0semitoneFrom27.5Hz_sma3nz_stddevNorm',\n",
       " 'F0semitoneFrom27.5Hz_sma3nz_percentile20.0',\n",
       " 'F0semitoneFrom27.5Hz_sma3nz_percentile50.0',\n",
       " 'F0semitoneFrom27.5Hz_sma3nz_percentile80.0',\n",
       " 'F0semitoneFrom27.5Hz_sma3nz_pctlrange0-2',\n",
       " 'F0semitoneFrom27.5Hz_sma3nz_meanRisingSlope',\n",
       " 'F0semitoneFrom27.5Hz_sma3nz_stddevRisingSlope',\n",
       " 'F0semitoneFrom27.5Hz_sma3nz_meanFallingSlope',\n",
       " 'F0semitoneFrom27.5Hz_sma3nz_stddevFallingSlope',\n",
       " 'loudness_sma3_amean',\n",
       " 'loudness_sma3_stddevNorm',\n",
       " 'loudness_sma3_percentile20.0',\n",
       " 'loudness_sma3_percentile50.0',\n",
       " 'loudness_sma3_percentile80.0',\n",
       " 'loudness_sma3_pctlrange0-2',\n",
       " 'loudness_sma3_meanRisingSlope',\n",
       " 'loudness_sma3_stddevRisingSlope',\n",
       " 'loudness_sma3_meanFallingSlope',\n",
       " 'loudness_sma3_stddevFallingSlope',\n",
       " 'spectralFlux_sma3_amean',\n",
       " 'spectralFlux_sma3_stddevNorm',\n",
       " 'mfcc1_sma3_amean',\n",
       " 'mfcc1_sma3_stddevNorm',\n",
       " 'mfcc2_sma3_amean',\n",
       " 'mfcc2_sma3_stddevNorm',\n",
       " 'mfcc3_sma3_amean',\n",
       " 'mfcc3_sma3_stddevNorm',\n",
       " 'mfcc4_sma3_amean',\n",
       " 'mfcc4_sma3_stddevNorm',\n",
       " 'jitterLocal_sma3nz_amean',\n",
       " 'jitterLocal_sma3nz_stddevNorm',\n",
       " 'shimmerLocaldB_sma3nz_amean',\n",
       " 'shimmerLocaldB_sma3nz_stddevNorm',\n",
       " 'HNRdBACF_sma3nz_amean',\n",
       " 'HNRdBACF_sma3nz_stddevNorm',\n",
       " 'logRelF0-H1-H2_sma3nz_amean',\n",
       " 'logRelF0-H1-H2_sma3nz_stddevNorm',\n",
       " 'logRelF0-H1-A3_sma3nz_amean',\n",
       " 'logRelF0-H1-A3_sma3nz_stddevNorm',\n",
       " 'F1frequency_sma3nz_amean',\n",
       " 'F1frequency_sma3nz_stddevNorm',\n",
       " 'F1bandwidth_sma3nz_amean',\n",
       " 'F1bandwidth_sma3nz_stddevNorm',\n",
       " 'F1amplitudeLogRelF0_sma3nz_amean',\n",
       " 'F1amplitudeLogRelF0_sma3nz_stddevNorm',\n",
       " 'F2frequency_sma3nz_amean',\n",
       " 'F2frequency_sma3nz_stddevNorm',\n",
       " 'F2bandwidth_sma3nz_amean',\n",
       " 'F2bandwidth_sma3nz_stddevNorm',\n",
       " 'F2amplitudeLogRelF0_sma3nz_amean',\n",
       " 'F2amplitudeLogRelF0_sma3nz_stddevNorm',\n",
       " 'F3frequency_sma3nz_amean',\n",
       " 'F3frequency_sma3nz_stddevNorm',\n",
       " 'F3bandwidth_sma3nz_amean',\n",
       " 'F3bandwidth_sma3nz_stddevNorm',\n",
       " 'F3amplitudeLogRelF0_sma3nz_amean',\n",
       " 'F3amplitudeLogRelF0_sma3nz_stddevNorm',\n",
       " 'alphaRatioV_sma3nz_amean',\n",
       " 'alphaRatioV_sma3nz_stddevNorm',\n",
       " 'hammarbergIndexV_sma3nz_amean',\n",
       " 'hammarbergIndexV_sma3nz_stddevNorm',\n",
       " 'slopeV0-500_sma3nz_amean',\n",
       " 'slopeV0-500_sma3nz_stddevNorm',\n",
       " 'slopeV500-1500_sma3nz_amean',\n",
       " 'slopeV500-1500_sma3nz_stddevNorm',\n",
       " 'spectralFluxV_sma3nz_amean',\n",
       " 'spectralFluxV_sma3nz_stddevNorm',\n",
       " 'mfcc1V_sma3nz_amean',\n",
       " 'mfcc1V_sma3nz_stddevNorm',\n",
       " 'mfcc2V_sma3nz_amean',\n",
       " 'mfcc2V_sma3nz_stddevNorm',\n",
       " 'mfcc3V_sma3nz_amean',\n",
       " 'mfcc3V_sma3nz_stddevNorm',\n",
       " 'mfcc4V_sma3nz_amean',\n",
       " 'mfcc4V_sma3nz_stddevNorm',\n",
       " 'alphaRatioUV_sma3nz_amean',\n",
       " 'hammarbergIndexUV_sma3nz_amean',\n",
       " 'slopeUV0-500_sma3nz_amean',\n",
       " 'slopeUV500-1500_sma3nz_amean',\n",
       " 'spectralFluxUV_sma3nz_amean',\n",
       " 'loudnessPeaksPerSec',\n",
       " 'VoicedSegmentsPerSec',\n",
       " 'MeanVoicedSegmentLengthSec',\n",
       " 'StddevVoicedSegmentLengthSec',\n",
       " 'MeanUnvoicedSegmentLength',\n",
       " 'StddevUnvoicedSegmentLength',\n",
       " 'equivalentSoundLevel_dBp']"
      ]
     },
     "execution_count": 83,
     "metadata": {},
     "output_type": "execute_result"
    }
   ],
   "source": [
    "confusion_num_columns = [col for col in df_original.columns if df_original[col].dtype != \"object\" and col not in confusion_drop_columns]\n",
    "confusion_num_columns"
   ]
  },
  {
   "cell_type": "code",
   "execution_count": 84,
   "metadata": {},
   "outputs": [],
   "source": [
    "confusion_proc = df_original[confusion_num_columns]\n",
    "\n",
    "X_train_2, X_test_2, y_train_2, y_test_2 = train_test_split(\n",
    "    confusion_proc.loc[:, confusion_proc.columns != \"emotion\"],\n",
    "    confusion_proc[\"emotion\"],\n",
    "    stratify=df_proc[\"emotion\"],\n",
    "    random_state=66,\n",
    ")"
   ]
  },
  {
   "cell_type": "code",
   "execution_count": 85,
   "metadata": {},
   "outputs": [
    {
     "data": {
      "text/plain": [
       "1    359\n",
       "2    254\n",
       "Name: vocal_channel, dtype: int64"
      ]
     },
     "execution_count": 85,
     "metadata": {},
     "output_type": "execute_result"
    }
   ],
   "source": [
    "X_test_2.vocal_channel.value_counts()\n",
    "# 1 - speech\n",
    "# 2 - son"
   ]
  },
  {
   "cell_type": "code",
   "execution_count": 86,
   "metadata": {},
   "outputs": [],
   "source": [
    "y_speech_pred_test = random_model.predict(X_test_2)"
   ]
  },
  {
   "cell_type": "code",
   "execution_count": 87,
   "metadata": {},
   "outputs": [
    {
     "data": {
      "image/png": "[encoded data removed]",
      "text/plain": [
       "<Figure size 432x288 with 2 Axes>"
      ]
     },
     "metadata": {
      "needs_background": "light"
     },
     "output_type": "display_data"
    }
   ],
   "source": [
    "ax = plt.subplot()\n",
    "cm = confusion_matrix(\n",
    "    y_test_2[X_test_2.vocal_channel == 1],\n",
    "    y_speech_pred_test[X_test_2.vocal_channel == 1],\n",
    ")\n",
    "heat_speech = sns.heatmap(\n",
    "    cm,\n",
    "    cmap=\"Blues\",\n",
    "    annot=True,\n",
    "    fmt=\"g\",\n",
    ")\n",
    "plt.xlabel(\"Predicted\")\n",
    "plt.ylabel(\"True\")\n",
    "ax.xaxis.set_ticklabels(labels_cm)\n",
    "ax.yaxis.set_ticklabels(labels_cm)\n",
    "\n",
    "heat_speech.figure.savefig(\"04.01.Matriz.speech.png\", bbox_inches=\"tight\")"
   ]
  },
  {
   "cell_type": "code",
   "execution_count": 88,
   "metadata": {},
   "outputs": [
    {
     "name": "stdout",
     "output_type": "stream",
     "text": [
      "Accuracy test: 0.618\n",
      "Test F1: 0.4264912075261605\n"
     ]
    }
   ],
   "source": [
    "print(\n",
    "    \"Accuracy test: {:.3f}\".format(\n",
    "        random_model.score(\n",
    "            X_test[X_test_2.vocal_channel == 1], y_test[X_test_2.vocal_channel == 1]\n",
    "        )\n",
    "    )\n",
    ")\n",
    "print(\n",
    "    \"Test F1: {}\".format(\n",
    "        fbeta_score(\n",
    "            y_test[X_test_2.vocal_channel == 1],\n",
    "            y_pred_test[X_test_2.vocal_channel == 1],\n",
    "            beta=1,\n",
    "            average=\"weighted\",\n",
    "        )\n",
    "    )\n",
    ")"
   ]
  },
  {
   "cell_type": "code",
   "execution_count": 90,
   "metadata": {},
   "outputs": [
    {
     "data": {
      "image/png": "[encoded data removed]",
      "text/plain": [
       "<Figure size 432x288 with 2 Axes>"
      ]
     },
     "metadata": {
      "needs_background": "light"
     },
     "output_type": "display_data"
    }
   ],
   "source": [
    "ax = plt.subplot()\n",
    "cm = confusion_matrix(\n",
    "    y_test_2[X_test_2.vocal_channel == 2],\n",
    "    y_speech_pred_test[X_test_2.vocal_channel == 2],\n",
    ")\n",
    "heat_song = sns.heatmap(cm, cmap=\"Blues\", annot=True, fmt=\"g\")\n",
    "plt.xlabel(\"Predicted\")\n",
    "plt.ylabel(\"True\")\n",
    "ax.xaxis.set_ticklabels(labels_cm[:-2])\n",
    "ax.yaxis.set_ticklabels(labels_cm[:-2])\n",
    "\n",
    "heat_song.figure.savefig(\"04.01.Matriz.song.png\", bbox_inches=\"tight\")"
   ]
  },
  {
   "cell_type": "code",
   "execution_count": 63,
   "metadata": {},
   "outputs": [
    {
     "name": "stdout",
     "output_type": "stream",
     "text": [
      "Accuracy test: 0.791\n",
      "Test F1: 0.6109237034757022\n"
     ]
    }
   ],
   "source": [
    "print(\n",
    "    \"Accuracy test: {:.3f}\".format(\n",
    "        random_model.score(\n",
    "            X_test[X_test_2.vocal_channel == 2], y_test[X_test_2.vocal_channel == 2]\n",
    "        )\n",
    "    )\n",
    ")\n",
    "print(\n",
    "    \"Test F1: {}\".format(\n",
    "        fbeta_score(\n",
    "            y_test[X_test_2.vocal_channel == 2],\n",
    "            y_pred_test[X_test_2.vocal_channel == 2],\n",
    "            beta=1,\n",
    "            average=\"weighted\",\n",
    "        )\n",
    "    )\n",
    ")"
   ]
  }
 ],
 "metadata": {
  "kernelspec": {
   "display_name": "Python 3",
   "language": "python",
   "name": "python3"
  },
  "language_info": {
   "codemirror_mode": {
    "name": "ipython",
    "version": 3
   },
   "file_extension": ".py",
   "mimetype": "text/x-python",
   "name": "python",
   "nbconvert_exporter": "python",
   "pygments_lexer": "ipython3",
   "version": "3.6.9"
  }
 },
 "nbformat": 4,
 "nbformat_minor": 2
}
