{
 "cells": [
  {
   "cell_type": "code",
   "execution_count": 2,
   "metadata": {},
   "outputs": [],
   "source": [
    "import datetime\n",
    "import IPython\n",
    "import math\n",
    "import numpy as np\n",
    "import matplotlib.pyplot as plt\n",
    "import pandas as pd\n",
    "import seaborn as sns\n",
    "import sweetviz as sv\n",
    "import time\n",
    "from matplotlib import pyplot\n",
    "from numpy import mean\n",
    "from numpy import std\n",
    "from urllib.parse import urlparse"
   ]
  },
  {
   "cell_type": "code",
   "execution_count": 3,
   "metadata": {},
   "outputs": [],
   "source": [
    "import pickle"
   ]
  },
  {
   "cell_type": "code",
   "execution_count": 4,
   "metadata": {},
   "outputs": [],
   "source": [
    "df_original = pd.read_csv(\"01.df.procesado.csv\")\n",
    "# df_original = pd.read_csv(\"https://raw.githubusercontent.com/blukitas/AA-2021/main/TPs/02.TP/01.df.procesado.csv\")"
   ]
  },
  {
   "cell_type": "code",
   "execution_count": 5,
   "metadata": {},
   "outputs": [
    {
     "data": {
      "text/plain": [
       "(2452, 99)"
      ]
     },
     "execution_count": 5,
     "metadata": {},
     "output_type": "execute_result"
    }
   ],
   "source": [
    "df_original.shape"
   ]
  },
  {
   "cell_type": "code",
   "execution_count": 6,
   "metadata": {
    "scrolled": true
   },
   "outputs": [
    {
     "data": {
      "text/plain": [
       "Unnamed: 0                        int64\n",
       "file_path                        object\n",
       "modality                          int64\n",
       "vocal_channel                     int64\n",
       "emotion                           int64\n",
       "                                 ...   \n",
       "MeanVoicedSegmentLengthSec      float64\n",
       "StddevVoicedSegmentLengthSec    float64\n",
       "MeanUnvoicedSegmentLength       float64\n",
       "StddevUnvoicedSegmentLength     float64\n",
       "equivalentSoundLevel_dBp        float64\n",
       "Length: 99, dtype: object"
      ]
     },
     "execution_count": 6,
     "metadata": {},
     "output_type": "execute_result"
    }
   ],
   "source": [
    "df_original.dtypes"
   ]
  },
  {
   "cell_type": "code",
   "execution_count": 7,
   "metadata": {
    "scrolled": true
   },
   "outputs": [
    {
     "data": {
      "text/html": [
       "<div>\n",
       "<style scoped>\n",
       "    .dataframe tbody tr th:only-of-type {\n",
       "        vertical-align: middle;\n",
       "    }\n",
       "\n",
       "    .dataframe tbody tr th {\n",
       "        vertical-align: top;\n",
       "    }\n",
       "\n",
       "    .dataframe thead th {\n",
       "        text-align: right;\n",
       "    }\n",
       "</style>\n",
       "<table border=\"1\" class=\"dataframe\">\n",
       "  <thead>\n",
       "    <tr style=\"text-align: right;\">\n",
       "      <th></th>\n",
       "      <th>Unnamed: 0</th>\n",
       "      <th>file_path</th>\n",
       "      <th>modality</th>\n",
       "      <th>vocal_channel</th>\n",
       "      <th>emotion</th>\n",
       "      <th>emotional_intensity</th>\n",
       "      <th>statement</th>\n",
       "      <th>repetition</th>\n",
       "      <th>actor</th>\n",
       "      <th>start</th>\n",
       "      <th>...</th>\n",
       "      <th>slopeUV0-500_sma3nz_amean</th>\n",
       "      <th>slopeUV500-1500_sma3nz_amean</th>\n",
       "      <th>spectralFluxUV_sma3nz_amean</th>\n",
       "      <th>loudnessPeaksPerSec</th>\n",
       "      <th>VoicedSegmentsPerSec</th>\n",
       "      <th>MeanVoicedSegmentLengthSec</th>\n",
       "      <th>StddevVoicedSegmentLengthSec</th>\n",
       "      <th>MeanUnvoicedSegmentLength</th>\n",
       "      <th>StddevUnvoicedSegmentLength</th>\n",
       "      <th>equivalentSoundLevel_dBp</th>\n",
       "    </tr>\n",
       "  </thead>\n",
       "  <tbody>\n",
       "    <tr>\n",
       "      <th>0</th>\n",
       "      <td>0</td>\n",
       "      <td>./audios/ravdess/Actor_23/03-01-07-02-02-01-23...</td>\n",
       "      <td>3</td>\n",
       "      <td>1</td>\n",
       "      <td>7</td>\n",
       "      <td>2</td>\n",
       "      <td>2</td>\n",
       "      <td>1</td>\n",
       "      <td>23</td>\n",
       "      <td>0 days 00:00:00</td>\n",
       "      <td>...</td>\n",
       "      <td>0.075190</td>\n",
       "      <td>0.014015</td>\n",
       "      <td>0.022255</td>\n",
       "      <td>2.150538</td>\n",
       "      <td>1.089918</td>\n",
       "      <td>0.2825</td>\n",
       "      <td>0.126763</td>\n",
       "      <td>0.4900</td>\n",
       "      <td>0.397291</td>\n",
       "      <td>-36.658245</td>\n",
       "    </tr>\n",
       "    <tr>\n",
       "      <th>1</th>\n",
       "      <td>1</td>\n",
       "      <td>./audios/ravdess/Actor_23/03-02-03-02-02-01-23...</td>\n",
       "      <td>3</td>\n",
       "      <td>2</td>\n",
       "      <td>3</td>\n",
       "      <td>2</td>\n",
       "      <td>2</td>\n",
       "      <td>1</td>\n",
       "      <td>23</td>\n",
       "      <td>0 days 00:00:00</td>\n",
       "      <td>...</td>\n",
       "      <td>0.020998</td>\n",
       "      <td>0.009869</td>\n",
       "      <td>0.018871</td>\n",
       "      <td>1.492537</td>\n",
       "      <td>0.646552</td>\n",
       "      <td>0.8200</td>\n",
       "      <td>0.277248</td>\n",
       "      <td>0.5275</td>\n",
       "      <td>0.438770</td>\n",
       "      <td>-29.391884</td>\n",
       "    </tr>\n",
       "    <tr>\n",
       "      <th>2</th>\n",
       "      <td>2</td>\n",
       "      <td>./audios/ravdess/Actor_23/03-01-04-01-02-01-23...</td>\n",
       "      <td>3</td>\n",
       "      <td>1</td>\n",
       "      <td>4</td>\n",
       "      <td>1</td>\n",
       "      <td>2</td>\n",
       "      <td>1</td>\n",
       "      <td>23</td>\n",
       "      <td>0 days 00:00:00</td>\n",
       "      <td>...</td>\n",
       "      <td>0.047365</td>\n",
       "      <td>0.011048</td>\n",
       "      <td>0.011381</td>\n",
       "      <td>2.247191</td>\n",
       "      <td>0.569801</td>\n",
       "      <td>0.5900</td>\n",
       "      <td>0.160000</td>\n",
       "      <td>0.7600</td>\n",
       "      <td>0.296985</td>\n",
       "      <td>-43.332924</td>\n",
       "    </tr>\n",
       "    <tr>\n",
       "      <th>3</th>\n",
       "      <td>3</td>\n",
       "      <td>./audios/ravdess/Actor_23/03-02-04-02-02-01-23...</td>\n",
       "      <td>3</td>\n",
       "      <td>2</td>\n",
       "      <td>4</td>\n",
       "      <td>2</td>\n",
       "      <td>2</td>\n",
       "      <td>1</td>\n",
       "      <td>23</td>\n",
       "      <td>0 days 00:00:00</td>\n",
       "      <td>...</td>\n",
       "      <td>0.041743</td>\n",
       "      <td>0.012340</td>\n",
       "      <td>0.007390</td>\n",
       "      <td>1.394422</td>\n",
       "      <td>0.603622</td>\n",
       "      <td>0.9300</td>\n",
       "      <td>0.885701</td>\n",
       "      <td>0.5275</td>\n",
       "      <td>0.420260</td>\n",
       "      <td>-37.549572</td>\n",
       "    </tr>\n",
       "    <tr>\n",
       "      <th>4</th>\n",
       "      <td>4</td>\n",
       "      <td>./audios/ravdess/Actor_23/03-01-02-02-02-02-23...</td>\n",
       "      <td>3</td>\n",
       "      <td>1</td>\n",
       "      <td>2</td>\n",
       "      <td>2</td>\n",
       "      <td>2</td>\n",
       "      <td>2</td>\n",
       "      <td>23</td>\n",
       "      <td>0 days 00:00:00</td>\n",
       "      <td>...</td>\n",
       "      <td>0.053580</td>\n",
       "      <td>0.011590</td>\n",
       "      <td>0.005245</td>\n",
       "      <td>1.535088</td>\n",
       "      <td>0.886918</td>\n",
       "      <td>0.3875</td>\n",
       "      <td>0.206079</td>\n",
       "      <td>0.5740</td>\n",
       "      <td>0.424999</td>\n",
       "      <td>-43.261425</td>\n",
       "    </tr>\n",
       "  </tbody>\n",
       "</table>\n",
       "<p>5 rows × 99 columns</p>\n",
       "</div>"
      ],
      "text/plain": [
       "   Unnamed: 0                                          file_path  modality  \\\n",
       "0           0  ./audios/ravdess/Actor_23/03-01-07-02-02-01-23...         3   \n",
       "1           1  ./audios/ravdess/Actor_23/03-02-03-02-02-01-23...         3   \n",
       "2           2  ./audios/ravdess/Actor_23/03-01-04-01-02-01-23...         3   \n",
       "3           3  ./audios/ravdess/Actor_23/03-02-04-02-02-01-23...         3   \n",
       "4           4  ./audios/ravdess/Actor_23/03-01-02-02-02-02-23...         3   \n",
       "\n",
       "   vocal_channel  emotion  emotional_intensity  statement  repetition  actor  \\\n",
       "0              1        7                    2          2           1     23   \n",
       "1              2        3                    2          2           1     23   \n",
       "2              1        4                    1          2           1     23   \n",
       "3              2        4                    2          2           1     23   \n",
       "4              1        2                    2          2           2     23   \n",
       "\n",
       "             start  ... slopeUV0-500_sma3nz_amean  \\\n",
       "0  0 days 00:00:00  ...                  0.075190   \n",
       "1  0 days 00:00:00  ...                  0.020998   \n",
       "2  0 days 00:00:00  ...                  0.047365   \n",
       "3  0 days 00:00:00  ...                  0.041743   \n",
       "4  0 days 00:00:00  ...                  0.053580   \n",
       "\n",
       "   slopeUV500-1500_sma3nz_amean  spectralFluxUV_sma3nz_amean  \\\n",
       "0                      0.014015                     0.022255   \n",
       "1                      0.009869                     0.018871   \n",
       "2                      0.011048                     0.011381   \n",
       "3                      0.012340                     0.007390   \n",
       "4                      0.011590                     0.005245   \n",
       "\n",
       "   loudnessPeaksPerSec  VoicedSegmentsPerSec  MeanVoicedSegmentLengthSec  \\\n",
       "0             2.150538              1.089918                      0.2825   \n",
       "1             1.492537              0.646552                      0.8200   \n",
       "2             2.247191              0.569801                      0.5900   \n",
       "3             1.394422              0.603622                      0.9300   \n",
       "4             1.535088              0.886918                      0.3875   \n",
       "\n",
       "   StddevVoicedSegmentLengthSec  MeanUnvoicedSegmentLength  \\\n",
       "0                      0.126763                     0.4900   \n",
       "1                      0.277248                     0.5275   \n",
       "2                      0.160000                     0.7600   \n",
       "3                      0.885701                     0.5275   \n",
       "4                      0.206079                     0.5740   \n",
       "\n",
       "   StddevUnvoicedSegmentLength  equivalentSoundLevel_dBp  \n",
       "0                     0.397291                -36.658245  \n",
       "1                     0.438770                -29.391884  \n",
       "2                     0.296985                -43.332924  \n",
       "3                     0.420260                -37.549572  \n",
       "4                     0.424999                -43.261425  \n",
       "\n",
       "[5 rows x 99 columns]"
      ]
     },
     "execution_count": 7,
     "metadata": {},
     "output_type": "execute_result"
    }
   ],
   "source": [
    "df_original.head()"
   ]
  },
  {
   "cell_type": "code",
   "execution_count": 8,
   "metadata": {},
   "outputs": [
    {
     "data": {
      "text/plain": [
       "<BarContainer object of 24 artists>"
      ]
     },
     "execution_count": 8,
     "metadata": {},
     "output_type": "execute_result"
    },
    {
     "data": {
      "image/png": "[encoded data removed]",
      "text/plain": [
       "<Figure size 432x288 with 1 Axes>"
      ]
     },
     "metadata": {
      "needs_background": "light"
     },
     "output_type": "display_data"
    }
   ],
   "source": [
    "plt.bar(\n",
    "    df_original.groupby([\"actor\"]).file_path.count().index,\n",
    "    df_original.groupby([\"actor\"]).file_path.count(),\n",
    ")"
   ]
  },
  {
   "cell_type": "code",
   "execution_count": 21,
   "metadata": {},
   "outputs": [
    {
     "name": "stderr",
     "output_type": "stream",
     "text": [
      "/usr/local/lib/python3.6/dist-packages/ipykernel_launcher.py:7: UserWarning: FixedFormatter should only be used together with FixedLocator\n",
      "  import sys\n"
     ]
    },
    {
     "data": {
      "text/plain": [
       "[Text(0.0, 0, ''),\n",
       " Text(1.0, 0, 'Neutral'),\n",
       " Text(2.0, 0, 'Calm'),\n",
       " Text(3.0, 0, 'Happy'),\n",
       " Text(4.0, 0, 'Sad'),\n",
       " Text(5.0, 0, 'Angry'),\n",
       " Text(6.0, 0, 'Fear.'),\n",
       " Text(7.0, 0, 'Disg.'),\n",
       " Text(8.0, 0, 'Surpr.'),\n",
       " Text(9.0, 0, '')]"
      ]
     },
     "execution_count": 21,
     "metadata": {},
     "output_type": "execute_result"
    },
    {
     "data": {
      "image/png": "[encoded data removed]",
      "text/plain": [
       "<Figure size 432x288 with 1 Axes>"
      ]
     },
     "metadata": {
      "needs_background": "light"
     },
     "output_type": "display_data"
    }
   ],
   "source": [
    "ax = plt.subplot()\n",
    "plt.bar(\n",
    "    df_original.groupby([\"emotion\"]).file_path.count().index,\n",
    "    df_original.groupby([\"emotion\"]).file_path.count(),\n",
    ")\n",
    "\n",
    "ax.xaxis.set_ticklabels([\"\", \"Neutral\", \"Calm\", \"Happy\", \"Sad\", \"Angry\", \"Fear.\", \"Disg.\", \"Surpr.\"])\n"
   ]
  },
  {
   "cell_type": "code",
   "execution_count": 10,
   "metadata": {
    "scrolled": true
   },
   "outputs": [
    {
     "data": {
      "text/plain": [
       "<BarContainer object of 2 artists>"
      ]
     },
     "execution_count": 10,
     "metadata": {},
     "output_type": "execute_result"
    },
    {
     "data": {
      "image/png": "[encoded data removed]",
      "text/plain": [
       "<Figure size 432x288 with 1 Axes>"
      ]
     },
     "metadata": {
      "needs_background": "light"
     },
     "output_type": "display_data"
    }
   ],
   "source": [
    "plt.bar(\n",
    "    df_original.groupby([\"vocal_channel\"]).file_path.count().index,\n",
    "    df_original.groupby([\"vocal_channel\"]).file_path.count(),\n",
    ")"
   ]
  },
  {
   "cell_type": "code",
   "execution_count": 11,
   "metadata": {
    "scrolled": true
   },
   "outputs": [
    {
     "data": {
      "text/plain": [
       "Index(['Unnamed: 0', 'file_path', 'modality', 'vocal_channel', 'emotion',\n",
       "       'emotional_intensity', 'statement', 'repetition', 'actor', 'start',\n",
       "       'end', 'F0semitoneFrom27.5Hz_sma3nz_amean',\n",
       "       'F0semitoneFrom27.5Hz_sma3nz_stddevNorm',\n",
       "       'F0semitoneFrom27.5Hz_sma3nz_percentile20.0',\n",
       "       'F0semitoneFrom27.5Hz_sma3nz_percentile50.0',\n",
       "       'F0semitoneFrom27.5Hz_sma3nz_percentile80.0',\n",
       "       'F0semitoneFrom27.5Hz_sma3nz_pctlrange0-2',\n",
       "       'F0semitoneFrom27.5Hz_sma3nz_meanRisingSlope',\n",
       "       'F0semitoneFrom27.5Hz_sma3nz_stddevRisingSlope',\n",
       "       'F0semitoneFrom27.5Hz_sma3nz_meanFallingSlope',\n",
       "       'F0semitoneFrom27.5Hz_sma3nz_stddevFallingSlope', 'loudness_sma3_amean',\n",
       "       'loudness_sma3_stddevNorm', 'loudness_sma3_percentile20.0',\n",
       "       'loudness_sma3_percentile50.0', 'loudness_sma3_percentile80.0',\n",
       "       'loudness_sma3_pctlrange0-2', 'loudness_sma3_meanRisingSlope',\n",
       "       'loudness_sma3_stddevRisingSlope', 'loudness_sma3_meanFallingSlope',\n",
       "       'loudness_sma3_stddevFallingSlope', 'spectralFlux_sma3_amean',\n",
       "       'spectralFlux_sma3_stddevNorm', 'mfcc1_sma3_amean',\n",
       "       'mfcc1_sma3_stddevNorm', 'mfcc2_sma3_amean', 'mfcc2_sma3_stddevNorm',\n",
       "       'mfcc3_sma3_amean', 'mfcc3_sma3_stddevNorm', 'mfcc4_sma3_amean',\n",
       "       'mfcc4_sma3_stddevNorm', 'jitterLocal_sma3nz_amean',\n",
       "       'jitterLocal_sma3nz_stddevNorm', 'shimmerLocaldB_sma3nz_amean',\n",
       "       'shimmerLocaldB_sma3nz_stddevNorm', 'HNRdBACF_sma3nz_amean',\n",
       "       'HNRdBACF_sma3nz_stddevNorm', 'logRelF0-H1-H2_sma3nz_amean',\n",
       "       'logRelF0-H1-H2_sma3nz_stddevNorm', 'logRelF0-H1-A3_sma3nz_amean',\n",
       "       'logRelF0-H1-A3_sma3nz_stddevNorm', 'F1frequency_sma3nz_amean',\n",
       "       'F1frequency_sma3nz_stddevNorm', 'F1bandwidth_sma3nz_amean',\n",
       "       'F1bandwidth_sma3nz_stddevNorm', 'F1amplitudeLogRelF0_sma3nz_amean',\n",
       "       'F1amplitudeLogRelF0_sma3nz_stddevNorm', 'F2frequency_sma3nz_amean',\n",
       "       'F2frequency_sma3nz_stddevNorm', 'F2bandwidth_sma3nz_amean',\n",
       "       'F2bandwidth_sma3nz_stddevNorm', 'F2amplitudeLogRelF0_sma3nz_amean',\n",
       "       'F2amplitudeLogRelF0_sma3nz_stddevNorm', 'F3frequency_sma3nz_amean',\n",
       "       'F3frequency_sma3nz_stddevNorm', 'F3bandwidth_sma3nz_amean',\n",
       "       'F3bandwidth_sma3nz_stddevNorm', 'F3amplitudeLogRelF0_sma3nz_amean',\n",
       "       'F3amplitudeLogRelF0_sma3nz_stddevNorm', 'alphaRatioV_sma3nz_amean',\n",
       "       'alphaRatioV_sma3nz_stddevNorm', 'hammarbergIndexV_sma3nz_amean',\n",
       "       'hammarbergIndexV_sma3nz_stddevNorm', 'slopeV0-500_sma3nz_amean',\n",
       "       'slopeV0-500_sma3nz_stddevNorm', 'slopeV500-1500_sma3nz_amean',\n",
       "       'slopeV500-1500_sma3nz_stddevNorm', 'spectralFluxV_sma3nz_amean',\n",
       "       'spectralFluxV_sma3nz_stddevNorm', 'mfcc1V_sma3nz_amean',\n",
       "       'mfcc1V_sma3nz_stddevNorm', 'mfcc2V_sma3nz_amean',\n",
       "       'mfcc2V_sma3nz_stddevNorm', 'mfcc3V_sma3nz_amean',\n",
       "       'mfcc3V_sma3nz_stddevNorm', 'mfcc4V_sma3nz_amean',\n",
       "       'mfcc4V_sma3nz_stddevNorm', 'alphaRatioUV_sma3nz_amean',\n",
       "       'hammarbergIndexUV_sma3nz_amean', 'slopeUV0-500_sma3nz_amean',\n",
       "       'slopeUV500-1500_sma3nz_amean', 'spectralFluxUV_sma3nz_amean',\n",
       "       'loudnessPeaksPerSec', 'VoicedSegmentsPerSec',\n",
       "       'MeanVoicedSegmentLengthSec', 'StddevVoicedSegmentLengthSec',\n",
       "       'MeanUnvoicedSegmentLength', 'StddevUnvoicedSegmentLength',\n",
       "       'equivalentSoundLevel_dBp'],\n",
       "      dtype='object')"
      ]
     },
     "execution_count": 11,
     "metadata": {},
     "output_type": "execute_result"
    }
   ],
   "source": [
    "df_original.columns"
   ]
  },
  {
   "cell_type": "code",
   "execution_count": 23,
   "metadata": {},
   "outputs": [
    {
     "data": {
      "text/plain": [
       "<AxesSubplot:xlabel='emotion'>"
      ]
     },
     "execution_count": 23,
     "metadata": {},
     "output_type": "execute_result"
    },
    {
     "data": {
      "image/png": "[encoded data removed]",
      "text/plain": [
       "<Figure size 432x288 with 1 Axes>"
      ]
     },
     "metadata": {
      "needs_background": "light"
     },
     "output_type": "display_data"
    }
   ],
   "source": [
    "pd.crosstab(df_original['emotion'],df_original['vocal_channel']).plot.bar()"
   ]
  },
  {
   "cell_type": "code",
   "execution_count": 12,
   "metadata": {
    "scrolled": true
   },
   "outputs": [],
   "source": [
    "# analize_report = sv.analyze(df_original)\n",
    "# analize_report.show_html(\"analize.html\", open_browser=True)"
   ]
  },
  {
   "cell_type": "code",
   "execution_count": 13,
   "metadata": {},
   "outputs": [],
   "source": [
    "# IPython.display.HTML(\"02.Analisis.exploratorio.html\")"
   ]
  },
  {
   "cell_type": "markdown",
   "metadata": {},
   "source": [
    "### Categóricos"
   ]
  },
  {
   "cell_type": "code",
   "execution_count": 14,
   "metadata": {},
   "outputs": [
    {
     "data": {
      "text/html": [
       "<div>\n",
       "<style scoped>\n",
       "    .dataframe tbody tr th:only-of-type {\n",
       "        vertical-align: middle;\n",
       "    }\n",
       "\n",
       "    .dataframe tbody tr th {\n",
       "        vertical-align: top;\n",
       "    }\n",
       "\n",
       "    .dataframe thead th {\n",
       "        text-align: right;\n",
       "    }\n",
       "</style>\n",
       "<table border=\"1\" class=\"dataframe\">\n",
       "  <thead>\n",
       "    <tr style=\"text-align: right;\">\n",
       "      <th></th>\n",
       "      <th>file_path</th>\n",
       "      <th>start</th>\n",
       "      <th>end</th>\n",
       "    </tr>\n",
       "  </thead>\n",
       "  <tbody>\n",
       "    <tr>\n",
       "      <th>count</th>\n",
       "      <td>2452</td>\n",
       "      <td>2452</td>\n",
       "      <td>2452</td>\n",
       "    </tr>\n",
       "    <tr>\n",
       "      <th>unique</th>\n",
       "      <td>2452</td>\n",
       "      <td>1</td>\n",
       "      <td>157</td>\n",
       "    </tr>\n",
       "    <tr>\n",
       "      <th>top</th>\n",
       "      <td>./audios/ravdess/Actor_01/03-01-06-02-02-01-01...</td>\n",
       "      <td>0 days 00:00:00</td>\n",
       "      <td>0 days 00:00:03.503499999</td>\n",
       "    </tr>\n",
       "    <tr>\n",
       "      <th>freq</th>\n",
       "      <td>1</td>\n",
       "      <td>2452</td>\n",
       "      <td>67</td>\n",
       "    </tr>\n",
       "  </tbody>\n",
       "</table>\n",
       "</div>"
      ],
      "text/plain": [
       "                                                file_path            start  \\\n",
       "count                                                2452             2452   \n",
       "unique                                               2452                1   \n",
       "top     ./audios/ravdess/Actor_01/03-01-06-02-02-01-01...  0 days 00:00:00   \n",
       "freq                                                    1             2452   \n",
       "\n",
       "                              end  \n",
       "count                        2452  \n",
       "unique                        157  \n",
       "top     0 days 00:00:03.503499999  \n",
       "freq                           67  "
      ]
     },
     "execution_count": 14,
     "metadata": {},
     "output_type": "execute_result"
    }
   ],
   "source": [
    "round(df_original.describe(exclude=[\"float\", \"int64\"]), 2)"
   ]
  }
 ],
 "metadata": {
  "kernelspec": {
   "display_name": "Python 3",
   "language": "python",
   "name": "python3"
  },
  "language_info": {
   "codemirror_mode": {
    "name": "ipython",
    "version": 3
   },
   "file_extension": ".py",
   "mimetype": "text/x-python",
   "name": "python",
   "nbconvert_exporter": "python",
   "pygments_lexer": "ipython3",
   "version": "3.6.9"
  }
 },
 "nbformat": 4,
 "nbformat_minor": 2
}
