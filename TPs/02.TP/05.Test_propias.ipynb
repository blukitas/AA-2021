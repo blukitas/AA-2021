{
 "cells": [
  {
   "cell_type": "markdown",
   "metadata": {
    "id": "7ejoNk2RTghk"
   },
   "source": [
    "# Preparación del entorno y carga de datos"
   ]
  },
  {
   "cell_type": "code",
   "execution_count": 2,
   "metadata": {
    "colab": {
     "base_uri": "https://localhost:8080/"
    },
    "id": "0a6HQ9JVDJCp",
    "outputId": "94fe65e3-8209-48fd-ec05-914ecd28cc47",
    "scrolled": true
   },
   "outputs": [
    {
     "name": "stdout",
     "output_type": "stream",
     "text": [
      "/bin/sh: sudo: command not found\n",
      "/bin/sh: sudo: command not found\n",
      "Defaulting to user installation because normal site-packages is not writeable\n",
      "Requirement already satisfied: opensmile in /home/User/.local/lib/python3.6/site-packages (2.0.2)\n",
      "Requirement already satisfied: audiofile in /home/User/.local/lib/python3.6/site-packages (from opensmile) (0.4.2)\n",
      "Requirement already satisfied: pandas in /home/User/.local/lib/python3.6/site-packages (from opensmile) (1.1.5)\n",
      "Requirement already satisfied: audeer in /home/User/.local/lib/python3.6/site-packages (from opensmile) (1.16.0)\n",
      "Requirement already satisfied: tqdm in /home/User/.local/lib/python3.6/site-packages (from audeer->opensmile) (4.61.0)\n",
      "Requirement already satisfied: sox in /home/User/.local/lib/python3.6/site-packages (from audiofile->opensmile) (1.4.1)\n",
      "Requirement already satisfied: numpy in /usr/local/lib/python3.6/dist-packages (from audiofile->opensmile) (1.19.5)\n",
      "Requirement already satisfied: soundfile in /home/User/.local/lib/python3.6/site-packages (from audiofile->opensmile) (0.10.3.post1)\n",
      "Requirement already satisfied: pytz>=2017.2 in /home/User/.local/lib/python3.6/site-packages (from pandas->opensmile) (2021.1)\n",
      "Requirement already satisfied: python-dateutil>=2.7.3 in /usr/local/lib/python3.6/dist-packages (from pandas->opensmile) (2.8.1)\n",
      "Requirement already satisfied: six>=1.5 in /usr/local/lib/python3.6/dist-packages (from python-dateutil>=2.7.3->pandas->opensmile) (1.15.0)\n",
      "Requirement already satisfied: cffi>=1.0 in /usr/local/lib/python3.6/dist-packages (from soundfile->audiofile->opensmile) (1.14.4)\n",
      "Requirement already satisfied: pycparser in /usr/local/lib/python3.6/dist-packages (from cffi>=1.0->soundfile->audiofile->opensmile) (2.20)\n",
      "\u001b[33mWARNING: You are using pip version 21.1.2; however, version 21.1.3 is available.\n",
      "You should consider upgrading via the '/usr/bin/python3 -m pip install --upgrade pip' command.\u001b[0m\n"
     ]
    }
   ],
   "source": [
    "!sudo apt-get install unzip\n",
    "!sudo apt-get install sox\n",
    "!pip install opensmile"
   ]
  },
  {
   "cell_type": "code",
   "execution_count": 17,
   "metadata": {},
   "outputs": [],
   "source": [
    "from pathlib import Path\n",
    "import matplotlib.pyplot as plt\n",
    "import numpy as np\n",
    "import glob\n",
    "import os\n",
    "import opensmile\n",
    "import pandas as pd\n",
    "import pickle\n",
    "import time\n",
    "import tqdm\n",
    "from pathlib import Path\n",
    "import sox "
   ]
  },
  {
   "cell_type": "code",
   "execution_count": 4,
   "metadata": {},
   "outputs": [],
   "source": [
    "from sklearn.ensemble import RandomForestClassifier\n",
    "from sklearn.model_selection import train_test_split\n",
    "import seaborn as sns\n",
    "from sklearn.metrics import (\n",
    "    roc_curve,\n",
    "    make_scorer,\n",
    "    accuracy_score,\n",
    "    fbeta_score,\n",
    "    precision_score,\n",
    "    recall_score,\n",
    "    f1_score,\n",
    "    classification_report,\n",
    "    confusion_matrix,\n",
    ")\n",
    "from sklearn.ensemble import AdaBoostClassifier\n",
    "from sklearn.tree import DecisionTreeClassifier"
   ]
  },
  {
   "cell_type": "markdown",
   "metadata": {
    "id": "Bnazn8RS-nRZ"
   },
   "source": [
    "## Instancias a dataset a predecir"
   ]
  },
  {
   "cell_type": "code",
   "execution_count": 11,
   "metadata": {
    "colab": {
     "base_uri": "https://localhost:8080/"
    },
    "id": "w7R_K4fMgE-u",
    "outputId": "62991d9b-20e2-4f52-8e9e-d6fb2d1ca7a7",
    "scrolled": true
   },
   "outputs": [
    {
     "name": "stdout",
     "output_type": "stream",
     "text": [
      "mkdir: cannot create directory ‘audios’: File exists\n",
      "Archive:  ./Propios/audios_propios.zip\n",
      "  inflating: ./Propios/ravdess_propios/03-01-01-01-01-01-05.wav  \n",
      "  inflating: ./Propios/ravdess_propios/03-01-01-01-02-01-04.wav  \n",
      "  inflating: ./Propios/ravdess_propios/03-01-01-01-02-01-05.wav  \n",
      "  inflating: ./Propios/ravdess_propios/03-01-02-01-01-01-06.wav  \n",
      "  inflating: ./Propios/ravdess_propios/03-01-02-01-02-01-06.wav  \n",
      "  inflating: ./Propios/ravdess_propios/03-01-03-01-01-01-01.wav  \n",
      "  inflating: ./Propios/ravdess_propios/03-01-03-01-01-01-02.wav  \n",
      "  inflating: ./Propios/ravdess_propios/03-01-03-01-01-01-03.wav  \n",
      "  inflating: ./Propios/ravdess_propios/03-01-03-01-01-01-04.wav  \n",
      "  inflating: ./Propios/ravdess_propios/03-01-03-01-01-01-05.wav  \n",
      "  inflating: ./Propios/ravdess_propios/03-01-03-01-01-01-06.wav  \n",
      "  inflating: ./Propios/ravdess_propios/03-01-03-01-02-01-01.wav  \n",
      "  inflating: ./Propios/ravdess_propios/03-01-03-01-02-01-02.wav  \n",
      "  inflating: ./Propios/ravdess_propios/03-01-03-01-02-01-03.wav  \n",
      "  inflating: ./Propios/ravdess_propios/03-01-03-01-02-01-04.wav  \n",
      "  inflating: ./Propios/ravdess_propios/03-01-03-01-02-01-05.wav  \n",
      "  inflating: ./Propios/ravdess_propios/03-01-03-01-02-01-06.wav  \n",
      "  inflating: ./Propios/ravdess_propios/03-01-04-01-01-01-01.wav  \n",
      "  inflating: ./Propios/ravdess_propios/03-01-04-01-01-01-02.wav  \n",
      "  inflating: ./Propios/ravdess_propios/03-01-04-01-01-01-03.wav  \n",
      "  inflating: ./Propios/ravdess_propios/03-01-04-01-02-01-01.wav  \n",
      "  inflating: ./Propios/ravdess_propios/03-01-04-01-02-01-02.wav  \n",
      "  inflating: ./Propios/ravdess_propios/03-01-04-01-02-01-03.wav  \n",
      "  inflating: ./Propios/ravdess_propios/03-01-05-01-02-01-04.wav  \n",
      "  inflating: ./Propios/ravdess_propios/03-01-05-02-01-01-01.wav  \n",
      "  inflating: ./Propios/ravdess_propios/03-01-05-02-01-01-02.wav  \n",
      "  inflating: ./Propios/ravdess_propios/03-01-05-02-01-01-03.wav  \n",
      "  inflating: ./Propios/ravdess_propios/03-01-05-02-02-01-01.wav  \n",
      "  inflating: ./Propios/ravdess_propios/03-01-05-02-02-01-02.wav  \n",
      "  inflating: ./Propios/ravdess_propios/03-01-05-02-02-01-03.wav  \n",
      "  inflating: ./Propios/ravdess_propios/03-01-07-01-01-01-04.wav  \n",
      "  inflating: ./Propios/ravdess_propios/03-01-08-01-01-01-01.wav  \n",
      "  inflating: ./Propios/ravdess_propios/03-01-08-01-01-01-02.wav  \n",
      "  inflating: ./Propios/ravdess_propios/03-01-08-01-01-01-03.wav  \n",
      "  inflating: ./Propios/ravdess_propios/03-01-08-01-01-01-04.wav  \n",
      "  inflating: ./Propios/ravdess_propios/03-01-08-01-01-01-05.wav  \n",
      "  inflating: ./Propios/ravdess_propios/03-01-08-01-01-01-06.wav  \n",
      "  inflating: ./Propios/ravdess_propios/03-01-08-01-02-01-01.wav  \n",
      "  inflating: ./Propios/ravdess_propios/03-01-08-01-02-01-02.wav  \n",
      "  inflating: ./Propios/ravdess_propios/03-01-08-01-02-01-03.wav  \n",
      "  inflating: ./Propios/ravdess_propios/03-01-08-01-02-01-05.wav  \n",
      "  inflating: ./Propios/ravdess_propios/03-01-08-01-02-01-06.wav  \n"
     ]
    }
   ],
   "source": [
    "!unzip ./Propios/audios_propios.zip -d ./Propios/ravdess_propios"
   ]
  },
  {
   "cell_type": "markdown",
   "metadata": {
    "id": "5_f1Mzp8HNzT"
   },
   "source": [
    "**Recorrer estructuras de archivos y extraer metadata**"
   ]
  },
  {
   "cell_type": "code",
   "execution_count": 13,
   "metadata": {
    "id": "vL-Bn6VBHOq_"
   },
   "outputs": [],
   "source": [
    "ravdess = []\n",
    "for file_path in glob.glob('./Propios/ravdess_propios/*.wav'):\n",
    "    filename = Path(file_path).stem\n",
    "    filename_parts = filename.split('-')\n",
    "    metadata = {'file_path': file_path,\n",
    "              'modality': filename_parts[0],\n",
    "              'vocal_channel': filename_parts[1],\n",
    "              'emotion': filename_parts[2],\n",
    "              'emotional_intensity': filename_parts[3],\n",
    "              'statement': filename_parts[4],\n",
    "              'repetition': filename_parts[5],\n",
    "              'actor': filename_parts[6]}\n",
    "    ravdess.append(metadata)\n",
    "\n",
    "df_ravdess_propios = pd.DataFrame(ravdess)"
   ]
  },
  {
   "cell_type": "code",
   "execution_count": 19,
   "metadata": {
    "colab": {
     "base_uri": "https://localhost:8080/"
    },
    "id": "1xDfuHv8H-xL",
    "outputId": "0e416ca7-21f0-47ac-ee81-59348402d70b",
    "scrolled": true
   },
   "outputs": [
    {
     "name": "stdout",
     "output_type": "stream",
     "text": [
      "./Propios/ravdess_propios/03-01-08-01-02-01-05.wav\n",
      "channel: 1\n",
      "./Propios/ravdess_propios/03-01-08-01-01-01-01.wav\n",
      "channel: 2\n",
      "./Propios/ravdess_propios/03-01-05-02-02-01-03.wav\n",
      "channel: 2\n",
      "./Propios/ravdess_propios/03-01-05-02-01-01-01.wav\n",
      "channel: 2\n",
      "./Propios/ravdess_propios/03-01-08-01-01-01-05.wav\n",
      "channel: 1\n",
      "./Propios/ravdess_propios/03-01-03-01-01-01-06.wav\n",
      "channel: 1\n",
      "./Propios/ravdess_propios/03-01-08-01-02-01-06.wav\n",
      "channel: 1\n",
      "./Propios/ravdess_propios/03-01-08-01-01-01-06.wav\n",
      "channel: 1\n",
      "./Propios/ravdess_propios/03-01-08-01-01-01-03.wav\n",
      "channel: 2\n",
      "./Propios/ravdess_propios/03-01-03-01-01-01-02.wav\n",
      "channel: 2\n",
      "./Propios/ravdess_propios/03-01-07-01-01-01-04.wav\n",
      "channel: 1\n",
      "./Propios/ravdess_propios/03-01-04-01-01-01-02.wav\n",
      "channel: 2\n",
      "./Propios/ravdess_propios/03-01-03-01-02-01-02.wav\n",
      "channel: 2\n",
      "./Propios/ravdess_propios/03-01-03-01-02-01-06.wav\n",
      "channel: 1\n",
      "./Propios/ravdess_propios/03-01-05-02-01-01-02.wav\n",
      "channel: 2\n",
      "./Propios/ravdess_propios/03-01-08-01-02-01-01.wav\n",
      "channel: 2\n",
      "./Propios/ravdess_propios/03-01-05-02-01-01-03.wav\n",
      "channel: 2\n",
      "./Propios/ravdess_propios/03-01-03-01-02-01-01.wav\n",
      "channel: 2\n",
      "./Propios/ravdess_propios/03-01-05-02-02-01-02.wav\n",
      "channel: 2\n",
      "./Propios/ravdess_propios/03-01-03-01-02-01-03.wav\n",
      "channel: 2\n",
      "./Propios/ravdess_propios/03-01-08-01-01-01-02.wav\n",
      "channel: 2\n",
      "./Propios/ravdess_propios/03-01-03-01-01-01-03.wav\n",
      "channel: 2\n",
      "./Propios/ravdess_propios/03-01-01-01-01-01-05.wav\n",
      "channel: 1\n",
      "./Propios/ravdess_propios/03-01-02-01-01-01-06.wav\n",
      "channel: 1\n",
      "./Propios/ravdess_propios/03-01-05-01-02-01-04.wav\n",
      "channel: 1\n",
      "./Propios/ravdess_propios/03-01-03-01-02-01-05.wav\n",
      "channel: 1\n",
      "./Propios/ravdess_propios/03-01-03-01-02-01-04.wav\n",
      "channel: 1\n",
      "./Propios/ravdess_propios/03-01-04-01-01-01-03.wav\n",
      "channel: 2\n",
      "./Propios/ravdess_propios/03-01-08-01-02-01-02.wav\n",
      "channel: 2\n",
      "./Propios/ravdess_propios/03-01-05-02-02-01-01.wav\n",
      "channel: 2\n",
      "./Propios/ravdess_propios/03-01-04-01-02-01-01.wav\n",
      "channel: 2\n",
      "./Propios/ravdess_propios/03-01-02-01-02-01-06.wav\n",
      "channel: 1\n",
      "./Propios/ravdess_propios/03-01-04-01-01-01-01.wav\n",
      "channel: 2\n",
      "./Propios/ravdess_propios/03-01-01-01-02-01-04.wav\n",
      "channel: 1\n",
      "./Propios/ravdess_propios/03-01-04-01-02-01-02.wav\n",
      "channel: 2\n",
      "./Propios/ravdess_propios/03-01-01-01-02-01-05.wav\n",
      "channel: 1\n",
      "./Propios/ravdess_propios/03-01-08-01-02-01-03.wav\n",
      "channel: 2\n",
      "./Propios/ravdess_propios/03-01-03-01-01-01-01.wav\n",
      "channel: 2\n",
      "./Propios/ravdess_propios/03-01-08-01-01-01-04.wav\n",
      "channel: 1\n",
      "./Propios/ravdess_propios/03-01-04-01-02-01-03.wav\n",
      "channel: 2\n",
      "./Propios/ravdess_propios/03-01-03-01-01-01-04.wav\n",
      "channel: 1\n",
      "./Propios/ravdess_propios/03-01-03-01-01-01-05.wav\n",
      "channel: 1\n",
      "Tiempo: 10.31 segundos\n"
     ]
    }
   ],
   "source": [
    "start = time.time()\n",
    "\n",
    "feat_aux = []\n",
    "for j in os.listdir(\"./Propios/ravdess_propios\"):\n",
    "    filename = \"./Propios/ravdess_propios/\" + j\n",
    "    print(\"./Propios/ravdess_propios/\" + j)\n",
    "\n",
    "    ch = sox.file_info.channels(filename)\n",
    "    print(f\"channel: {ch}\")\n",
    "    smile = opensmile.Smile(\n",
    "        feature_set=opensmile.FeatureSet.eGeMAPSv02,\n",
    "        feature_level=opensmile.FeatureLevel.Functionals,\n",
    "        num_channels=ch\n",
    "    )\n",
    "\n",
    "    feats = smile.process_file(filename)\n",
    "    feats = feats.reset_index()\n",
    "    feat_aux.append(feats)\n",
    "\n",
    "end = time.time()\n",
    "print(f\"Tiempo: { round(end - start, 2) } segundos\")"
   ]
  },
  {
   "cell_type": "code",
   "execution_count": 20,
   "metadata": {
    "colab": {
     "base_uri": "https://localhost:8080/"
    },
    "id": "Sd3g9CqVHkgh",
    "outputId": "0f01fee2-7d73-4afa-9536-faabaa5f23a5"
   },
   "outputs": [
    {
     "data": {
      "text/plain": [
       "(42, 8)"
      ]
     },
     "execution_count": 20,
     "metadata": {},
     "output_type": "execute_result"
    }
   ],
   "source": [
    "df_ravdess_propios.shape"
   ]
  },
  {
   "cell_type": "markdown",
   "metadata": {
    "id": "r5q5cWanHNIP"
   },
   "source": [
    "**Calculamos los atributos de alto nivel (Functionals)**"
   ]
  },
  {
   "cell_type": "code",
   "execution_count": 21,
   "metadata": {
    "id": "XnhRy_ERN48j"
   },
   "outputs": [],
   "source": [
    "df_feats = pd.concat(feat_aux)\n",
    "df_feats = df_feats.rename(columns={'file': 'file_path'})"
   ]
  },
  {
   "cell_type": "code",
   "execution_count": 22,
   "metadata": {
    "colab": {
     "base_uri": "https://localhost:8080/",
     "height": 353
    },
    "id": "jVmYZlJfN6bS",
    "outputId": "0c0856ec-76b2-4f57-99c5-504b7a036d1d"
   },
   "outputs": [
    {
     "data": {
      "text/html": [
       "<div>\n",
       "<style scoped>\n",
       "    .dataframe tbody tr th:only-of-type {\n",
       "        vertical-align: middle;\n",
       "    }\n",
       "\n",
       "    .dataframe tbody tr th {\n",
       "        vertical-align: top;\n",
       "    }\n",
       "\n",
       "    .dataframe thead th {\n",
       "        text-align: right;\n",
       "    }\n",
       "</style>\n",
       "<table border=\"1\" class=\"dataframe\">\n",
       "  <thead>\n",
       "    <tr style=\"text-align: right;\">\n",
       "      <th></th>\n",
       "      <th>file_path</th>\n",
       "      <th>start</th>\n",
       "      <th>end</th>\n",
       "      <th>F0semitoneFrom27.5Hz_sma3nz_amean</th>\n",
       "      <th>F0semitoneFrom27.5Hz_sma3nz_stddevNorm</th>\n",
       "      <th>F0semitoneFrom27.5Hz_sma3nz_percentile20.0</th>\n",
       "      <th>F0semitoneFrom27.5Hz_sma3nz_percentile50.0</th>\n",
       "      <th>F0semitoneFrom27.5Hz_sma3nz_percentile80.0</th>\n",
       "      <th>F0semitoneFrom27.5Hz_sma3nz_pctlrange0-2</th>\n",
       "      <th>F0semitoneFrom27.5Hz_sma3nz_meanRisingSlope</th>\n",
       "      <th>...</th>\n",
       "      <th>slopeUV0-500_sma3nz_amean-1</th>\n",
       "      <th>slopeUV500-1500_sma3nz_amean-1</th>\n",
       "      <th>spectralFluxUV_sma3nz_amean-1</th>\n",
       "      <th>loudnessPeaksPerSec-1</th>\n",
       "      <th>VoicedSegmentsPerSec-1</th>\n",
       "      <th>MeanVoicedSegmentLengthSec-1</th>\n",
       "      <th>StddevVoicedSegmentLengthSec-1</th>\n",
       "      <th>MeanUnvoicedSegmentLength-1</th>\n",
       "      <th>StddevUnvoicedSegmentLength-1</th>\n",
       "      <th>equivalentSoundLevel_dBp-1</th>\n",
       "    </tr>\n",
       "  </thead>\n",
       "  <tbody>\n",
       "    <tr>\n",
       "      <th>0</th>\n",
       "      <td>./Propios/ravdess_propios/03-01-08-01-02-01-05...</td>\n",
       "      <td>0 days</td>\n",
       "      <td>0 days 00:00:05.472000</td>\n",
       "      <td>38.585224</td>\n",
       "      <td>0.101418</td>\n",
       "      <td>35.463207</td>\n",
       "      <td>38.217197</td>\n",
       "      <td>40.764786</td>\n",
       "      <td>5.301579</td>\n",
       "      <td>31.868803</td>\n",
       "      <td>...</td>\n",
       "      <td>NaN</td>\n",
       "      <td>NaN</td>\n",
       "      <td>NaN</td>\n",
       "      <td>NaN</td>\n",
       "      <td>NaN</td>\n",
       "      <td>NaN</td>\n",
       "      <td>NaN</td>\n",
       "      <td>NaN</td>\n",
       "      <td>NaN</td>\n",
       "      <td>NaN</td>\n",
       "    </tr>\n",
       "    <tr>\n",
       "      <th>0</th>\n",
       "      <td>./Propios/ravdess_propios/03-01-08-01-01-01-01...</td>\n",
       "      <td>0 days</td>\n",
       "      <td>0 days 00:00:04.689342404</td>\n",
       "      <td>NaN</td>\n",
       "      <td>NaN</td>\n",
       "      <td>NaN</td>\n",
       "      <td>NaN</td>\n",
       "      <td>NaN</td>\n",
       "      <td>NaN</td>\n",
       "      <td>NaN</td>\n",
       "      <td>...</td>\n",
       "      <td>0.012248</td>\n",
       "      <td>-0.000712</td>\n",
       "      <td>0.399740</td>\n",
       "      <td>2.355460</td>\n",
       "      <td>3.260870</td>\n",
       "      <td>0.172667</td>\n",
       "      <td>0.325443</td>\n",
       "      <td>0.112667</td>\n",
       "      <td>0.116703</td>\n",
       "      <td>-18.135742</td>\n",
       "    </tr>\n",
       "    <tr>\n",
       "      <th>0</th>\n",
       "      <td>./Propios/ravdess_propios/03-01-05-02-02-01-03...</td>\n",
       "      <td>0 days</td>\n",
       "      <td>0 days 00:00:04.400000</td>\n",
       "      <td>NaN</td>\n",
       "      <td>NaN</td>\n",
       "      <td>NaN</td>\n",
       "      <td>NaN</td>\n",
       "      <td>NaN</td>\n",
       "      <td>NaN</td>\n",
       "      <td>NaN</td>\n",
       "      <td>...</td>\n",
       "      <td>0.013234</td>\n",
       "      <td>-0.010790</td>\n",
       "      <td>0.445838</td>\n",
       "      <td>3.189066</td>\n",
       "      <td>2.309469</td>\n",
       "      <td>0.347000</td>\n",
       "      <td>0.338587</td>\n",
       "      <td>0.091429</td>\n",
       "      <td>0.104667</td>\n",
       "      <td>-16.105972</td>\n",
       "    </tr>\n",
       "    <tr>\n",
       "      <th>0</th>\n",
       "      <td>./Propios/ravdess_propios/03-01-05-02-01-01-01...</td>\n",
       "      <td>0 days</td>\n",
       "      <td>0 days 00:00:04.582766440</td>\n",
       "      <td>NaN</td>\n",
       "      <td>NaN</td>\n",
       "      <td>NaN</td>\n",
       "      <td>NaN</td>\n",
       "      <td>NaN</td>\n",
       "      <td>NaN</td>\n",
       "      <td>NaN</td>\n",
       "      <td>...</td>\n",
       "      <td>0.022259</td>\n",
       "      <td>-0.000362</td>\n",
       "      <td>0.230240</td>\n",
       "      <td>2.407002</td>\n",
       "      <td>2.433628</td>\n",
       "      <td>0.224545</td>\n",
       "      <td>0.298888</td>\n",
       "      <td>0.151667</td>\n",
       "      <td>0.195185</td>\n",
       "      <td>-20.174620</td>\n",
       "    </tr>\n",
       "    <tr>\n",
       "      <th>0</th>\n",
       "      <td>./Propios/ravdess_propios/03-01-08-01-01-01-05...</td>\n",
       "      <td>0 days</td>\n",
       "      <td>0 days 00:00:06.120000</td>\n",
       "      <td>36.163647</td>\n",
       "      <td>0.161040</td>\n",
       "      <td>33.768730</td>\n",
       "      <td>38.291878</td>\n",
       "      <td>40.268578</td>\n",
       "      <td>6.499847</td>\n",
       "      <td>232.620514</td>\n",
       "      <td>...</td>\n",
       "      <td>NaN</td>\n",
       "      <td>NaN</td>\n",
       "      <td>NaN</td>\n",
       "      <td>NaN</td>\n",
       "      <td>NaN</td>\n",
       "      <td>NaN</td>\n",
       "      <td>NaN</td>\n",
       "      <td>NaN</td>\n",
       "      <td>NaN</td>\n",
       "      <td>NaN</td>\n",
       "    </tr>\n",
       "  </tbody>\n",
       "</table>\n",
       "<p>5 rows × 267 columns</p>\n",
       "</div>"
      ],
      "text/plain": [
       "                                           file_path  start  \\\n",
       "0  ./Propios/ravdess_propios/03-01-08-01-02-01-05... 0 days   \n",
       "0  ./Propios/ravdess_propios/03-01-08-01-01-01-01... 0 days   \n",
       "0  ./Propios/ravdess_propios/03-01-05-02-02-01-03... 0 days   \n",
       "0  ./Propios/ravdess_propios/03-01-05-02-01-01-01... 0 days   \n",
       "0  ./Propios/ravdess_propios/03-01-08-01-01-01-05... 0 days   \n",
       "\n",
       "                        end  F0semitoneFrom27.5Hz_sma3nz_amean  \\\n",
       "0    0 days 00:00:05.472000                          38.585224   \n",
       "0 0 days 00:00:04.689342404                                NaN   \n",
       "0    0 days 00:00:04.400000                                NaN   \n",
       "0 0 days 00:00:04.582766440                                NaN   \n",
       "0    0 days 00:00:06.120000                          36.163647   \n",
       "\n",
       "   F0semitoneFrom27.5Hz_sma3nz_stddevNorm  \\\n",
       "0                                0.101418   \n",
       "0                                     NaN   \n",
       "0                                     NaN   \n",
       "0                                     NaN   \n",
       "0                                0.161040   \n",
       "\n",
       "   F0semitoneFrom27.5Hz_sma3nz_percentile20.0  \\\n",
       "0                                   35.463207   \n",
       "0                                         NaN   \n",
       "0                                         NaN   \n",
       "0                                         NaN   \n",
       "0                                   33.768730   \n",
       "\n",
       "   F0semitoneFrom27.5Hz_sma3nz_percentile50.0  \\\n",
       "0                                   38.217197   \n",
       "0                                         NaN   \n",
       "0                                         NaN   \n",
       "0                                         NaN   \n",
       "0                                   38.291878   \n",
       "\n",
       "   F0semitoneFrom27.5Hz_sma3nz_percentile80.0  \\\n",
       "0                                   40.764786   \n",
       "0                                         NaN   \n",
       "0                                         NaN   \n",
       "0                                         NaN   \n",
       "0                                   40.268578   \n",
       "\n",
       "   F0semitoneFrom27.5Hz_sma3nz_pctlrange0-2  \\\n",
       "0                                  5.301579   \n",
       "0                                       NaN   \n",
       "0                                       NaN   \n",
       "0                                       NaN   \n",
       "0                                  6.499847   \n",
       "\n",
       "   F0semitoneFrom27.5Hz_sma3nz_meanRisingSlope  ...  \\\n",
       "0                                    31.868803  ...   \n",
       "0                                          NaN  ...   \n",
       "0                                          NaN  ...   \n",
       "0                                          NaN  ...   \n",
       "0                                   232.620514  ...   \n",
       "\n",
       "   slopeUV0-500_sma3nz_amean-1  slopeUV500-1500_sma3nz_amean-1  \\\n",
       "0                          NaN                             NaN   \n",
       "0                     0.012248                       -0.000712   \n",
       "0                     0.013234                       -0.010790   \n",
       "0                     0.022259                       -0.000362   \n",
       "0                          NaN                             NaN   \n",
       "\n",
       "   spectralFluxUV_sma3nz_amean-1  loudnessPeaksPerSec-1  \\\n",
       "0                            NaN                    NaN   \n",
       "0                       0.399740               2.355460   \n",
       "0                       0.445838               3.189066   \n",
       "0                       0.230240               2.407002   \n",
       "0                            NaN                    NaN   \n",
       "\n",
       "   VoicedSegmentsPerSec-1  MeanVoicedSegmentLengthSec-1  \\\n",
       "0                     NaN                           NaN   \n",
       "0                3.260870                      0.172667   \n",
       "0                2.309469                      0.347000   \n",
       "0                2.433628                      0.224545   \n",
       "0                     NaN                           NaN   \n",
       "\n",
       "   StddevVoicedSegmentLengthSec-1  MeanUnvoicedSegmentLength-1  \\\n",
       "0                             NaN                          NaN   \n",
       "0                        0.325443                     0.112667   \n",
       "0                        0.338587                     0.091429   \n",
       "0                        0.298888                     0.151667   \n",
       "0                             NaN                          NaN   \n",
       "\n",
       "   StddevUnvoicedSegmentLength-1  equivalentSoundLevel_dBp-1  \n",
       "0                            NaN                         NaN  \n",
       "0                       0.116703                  -18.135742  \n",
       "0                       0.104667                  -16.105972  \n",
       "0                       0.195185                  -20.174620  \n",
       "0                            NaN                         NaN  \n",
       "\n",
       "[5 rows x 267 columns]"
      ]
     },
     "execution_count": 22,
     "metadata": {},
     "output_type": "execute_result"
    }
   ],
   "source": [
    "df_feats.head()"
   ]
  },
  {
   "cell_type": "code",
   "execution_count": 38,
   "metadata": {
    "id": "V0BuM9-5OJ_I"
   },
   "outputs": [],
   "source": [
    "df_propios = pd.merge(df_ravdess_propios,df_feats, on=\"file_path\", how=\"left\")"
   ]
  },
  {
   "cell_type": "code",
   "execution_count": 39,
   "metadata": {
    "colab": {
     "base_uri": "https://localhost:8080/"
    },
    "id": "O_P9RRzRR7gd",
    "outputId": "15d45e39-02b1-40b1-a4e5-d4b65d4c9593",
    "scrolled": true
   },
   "outputs": [
    {
     "data": {
      "text/plain": [
       "['start',\n",
       " 'end',\n",
       " 'F0semitoneFrom27.5Hz_sma3nz_amean',\n",
       " 'F0semitoneFrom27.5Hz_sma3nz_stddevNorm',\n",
       " 'F0semitoneFrom27.5Hz_sma3nz_percentile20.0',\n",
       " 'F0semitoneFrom27.5Hz_sma3nz_percentile50.0',\n",
       " 'F0semitoneFrom27.5Hz_sma3nz_percentile80.0',\n",
       " 'F0semitoneFrom27.5Hz_sma3nz_pctlrange0-2',\n",
       " 'F0semitoneFrom27.5Hz_sma3nz_meanRisingSlope',\n",
       " 'F0semitoneFrom27.5Hz_sma3nz_stddevRisingSlope',\n",
       " 'F0semitoneFrom27.5Hz_sma3nz_meanFallingSlope',\n",
       " 'F0semitoneFrom27.5Hz_sma3nz_stddevFallingSlope',\n",
       " 'loudness_sma3_amean',\n",
       " 'loudness_sma3_stddevNorm',\n",
       " 'loudness_sma3_percentile20.0',\n",
       " 'loudness_sma3_percentile50.0',\n",
       " 'loudness_sma3_percentile80.0',\n",
       " 'loudness_sma3_pctlrange0-2',\n",
       " 'loudness_sma3_meanRisingSlope',\n",
       " 'loudness_sma3_stddevRisingSlope',\n",
       " 'loudness_sma3_meanFallingSlope',\n",
       " 'loudness_sma3_stddevFallingSlope',\n",
       " 'spectralFlux_sma3_amean',\n",
       " 'spectralFlux_sma3_stddevNorm',\n",
       " 'mfcc1_sma3_amean',\n",
       " 'mfcc1_sma3_stddevNorm',\n",
       " 'mfcc2_sma3_amean',\n",
       " 'mfcc2_sma3_stddevNorm',\n",
       " 'mfcc3_sma3_amean',\n",
       " 'mfcc3_sma3_stddevNorm',\n",
       " 'mfcc4_sma3_amean',\n",
       " 'mfcc4_sma3_stddevNorm',\n",
       " 'jitterLocal_sma3nz_amean',\n",
       " 'jitterLocal_sma3nz_stddevNorm',\n",
       " 'shimmerLocaldB_sma3nz_amean',\n",
       " 'shimmerLocaldB_sma3nz_stddevNorm',\n",
       " 'HNRdBACF_sma3nz_amean',\n",
       " 'HNRdBACF_sma3nz_stddevNorm',\n",
       " 'logRelF0-H1-H2_sma3nz_amean',\n",
       " 'logRelF0-H1-H2_sma3nz_stddevNorm',\n",
       " 'logRelF0-H1-A3_sma3nz_amean',\n",
       " 'logRelF0-H1-A3_sma3nz_stddevNorm',\n",
       " 'F1frequency_sma3nz_amean',\n",
       " 'F1frequency_sma3nz_stddevNorm',\n",
       " 'F1bandwidth_sma3nz_amean',\n",
       " 'F1bandwidth_sma3nz_stddevNorm',\n",
       " 'F1amplitudeLogRelF0_sma3nz_amean',\n",
       " 'F1amplitudeLogRelF0_sma3nz_stddevNorm',\n",
       " 'F2frequency_sma3nz_amean',\n",
       " 'F2frequency_sma3nz_stddevNorm',\n",
       " 'F2bandwidth_sma3nz_amean',\n",
       " 'F2bandwidth_sma3nz_stddevNorm',\n",
       " 'F2amplitudeLogRelF0_sma3nz_amean',\n",
       " 'F2amplitudeLogRelF0_sma3nz_stddevNorm',\n",
       " 'F3frequency_sma3nz_amean',\n",
       " 'F3frequency_sma3nz_stddevNorm',\n",
       " 'F3bandwidth_sma3nz_amean',\n",
       " 'F3bandwidth_sma3nz_stddevNorm',\n",
       " 'F3amplitudeLogRelF0_sma3nz_amean',\n",
       " 'F3amplitudeLogRelF0_sma3nz_stddevNorm',\n",
       " 'alphaRatioV_sma3nz_amean',\n",
       " 'alphaRatioV_sma3nz_stddevNorm',\n",
       " 'hammarbergIndexV_sma3nz_amean',\n",
       " 'hammarbergIndexV_sma3nz_stddevNorm',\n",
       " 'slopeV0-500_sma3nz_amean',\n",
       " 'slopeV0-500_sma3nz_stddevNorm',\n",
       " 'slopeV500-1500_sma3nz_amean',\n",
       " 'slopeV500-1500_sma3nz_stddevNorm',\n",
       " 'spectralFluxV_sma3nz_amean',\n",
       " 'spectralFluxV_sma3nz_stddevNorm',\n",
       " 'mfcc1V_sma3nz_amean',\n",
       " 'mfcc1V_sma3nz_stddevNorm',\n",
       " 'mfcc2V_sma3nz_amean',\n",
       " 'mfcc2V_sma3nz_stddevNorm',\n",
       " 'mfcc3V_sma3nz_amean',\n",
       " 'mfcc3V_sma3nz_stddevNorm',\n",
       " 'mfcc4V_sma3nz_amean',\n",
       " 'mfcc4V_sma3nz_stddevNorm',\n",
       " 'alphaRatioUV_sma3nz_amean',\n",
       " 'hammarbergIndexUV_sma3nz_amean',\n",
       " 'slopeUV0-500_sma3nz_amean',\n",
       " 'slopeUV500-1500_sma3nz_amean',\n",
       " 'spectralFluxUV_sma3nz_amean',\n",
       " 'loudnessPeaksPerSec',\n",
       " 'VoicedSegmentsPerSec',\n",
       " 'MeanVoicedSegmentLengthSec',\n",
       " 'StddevVoicedSegmentLengthSec',\n",
       " 'MeanUnvoicedSegmentLength',\n",
       " 'StddevUnvoicedSegmentLength',\n",
       " 'equivalentSoundLevel_dBp',\n",
       " 'F0semitoneFrom27.5Hz_sma3nz_amean-0',\n",
       " 'F0semitoneFrom27.5Hz_sma3nz_stddevNorm-0',\n",
       " 'F0semitoneFrom27.5Hz_sma3nz_percentile20.0-0',\n",
       " 'F0semitoneFrom27.5Hz_sma3nz_percentile50.0-0',\n",
       " 'F0semitoneFrom27.5Hz_sma3nz_percentile80.0-0',\n",
       " 'F0semitoneFrom27.5Hz_sma3nz_pctlrange0-2-0',\n",
       " 'F0semitoneFrom27.5Hz_sma3nz_meanRisingSlope-0',\n",
       " 'F0semitoneFrom27.5Hz_sma3nz_stddevRisingSlope-0',\n",
       " 'F0semitoneFrom27.5Hz_sma3nz_meanFallingSlope-0',\n",
       " 'F0semitoneFrom27.5Hz_sma3nz_stddevFallingSlope-0',\n",
       " 'loudness_sma3_amean-0',\n",
       " 'loudness_sma3_stddevNorm-0',\n",
       " 'loudness_sma3_percentile20.0-0',\n",
       " 'loudness_sma3_percentile50.0-0',\n",
       " 'loudness_sma3_percentile80.0-0',\n",
       " 'loudness_sma3_pctlrange0-2-0',\n",
       " 'loudness_sma3_meanRisingSlope-0',\n",
       " 'loudness_sma3_stddevRisingSlope-0',\n",
       " 'loudness_sma3_meanFallingSlope-0',\n",
       " 'loudness_sma3_stddevFallingSlope-0',\n",
       " 'spectralFlux_sma3_amean-0',\n",
       " 'spectralFlux_sma3_stddevNorm-0',\n",
       " 'mfcc1_sma3_amean-0',\n",
       " 'mfcc1_sma3_stddevNorm-0',\n",
       " 'mfcc2_sma3_amean-0',\n",
       " 'mfcc2_sma3_stddevNorm-0',\n",
       " 'mfcc3_sma3_amean-0',\n",
       " 'mfcc3_sma3_stddevNorm-0',\n",
       " 'mfcc4_sma3_amean-0',\n",
       " 'mfcc4_sma3_stddevNorm-0',\n",
       " 'jitterLocal_sma3nz_amean-0',\n",
       " 'jitterLocal_sma3nz_stddevNorm-0',\n",
       " 'shimmerLocaldB_sma3nz_amean-0',\n",
       " 'shimmerLocaldB_sma3nz_stddevNorm-0',\n",
       " 'HNRdBACF_sma3nz_amean-0',\n",
       " 'HNRdBACF_sma3nz_stddevNorm-0',\n",
       " 'logRelF0-H1-H2_sma3nz_amean-0',\n",
       " 'logRelF0-H1-H2_sma3nz_stddevNorm-0',\n",
       " 'logRelF0-H1-A3_sma3nz_amean-0',\n",
       " 'logRelF0-H1-A3_sma3nz_stddevNorm-0',\n",
       " 'F1frequency_sma3nz_amean-0',\n",
       " 'F1frequency_sma3nz_stddevNorm-0',\n",
       " 'F1bandwidth_sma3nz_amean-0',\n",
       " 'F1bandwidth_sma3nz_stddevNorm-0',\n",
       " 'F1amplitudeLogRelF0_sma3nz_amean-0',\n",
       " 'F1amplitudeLogRelF0_sma3nz_stddevNorm-0',\n",
       " 'F2frequency_sma3nz_amean-0',\n",
       " 'F2frequency_sma3nz_stddevNorm-0',\n",
       " 'F2bandwidth_sma3nz_amean-0',\n",
       " 'F2bandwidth_sma3nz_stddevNorm-0',\n",
       " 'F2amplitudeLogRelF0_sma3nz_amean-0',\n",
       " 'F2amplitudeLogRelF0_sma3nz_stddevNorm-0',\n",
       " 'F3frequency_sma3nz_amean-0',\n",
       " 'F3frequency_sma3nz_stddevNorm-0',\n",
       " 'F3bandwidth_sma3nz_amean-0',\n",
       " 'F3bandwidth_sma3nz_stddevNorm-0',\n",
       " 'F3amplitudeLogRelF0_sma3nz_amean-0',\n",
       " 'F3amplitudeLogRelF0_sma3nz_stddevNorm-0',\n",
       " 'alphaRatioV_sma3nz_amean-0',\n",
       " 'alphaRatioV_sma3nz_stddevNorm-0',\n",
       " 'hammarbergIndexV_sma3nz_amean-0',\n",
       " 'hammarbergIndexV_sma3nz_stddevNorm-0',\n",
       " 'slopeV0-500_sma3nz_amean-0',\n",
       " 'slopeV0-500_sma3nz_stddevNorm-0',\n",
       " 'slopeV500-1500_sma3nz_amean-0',\n",
       " 'slopeV500-1500_sma3nz_stddevNorm-0',\n",
       " 'spectralFluxV_sma3nz_amean-0',\n",
       " 'spectralFluxV_sma3nz_stddevNorm-0',\n",
       " 'mfcc1V_sma3nz_amean-0',\n",
       " 'mfcc1V_sma3nz_stddevNorm-0',\n",
       " 'mfcc2V_sma3nz_amean-0',\n",
       " 'mfcc2V_sma3nz_stddevNorm-0',\n",
       " 'mfcc3V_sma3nz_amean-0',\n",
       " 'mfcc3V_sma3nz_stddevNorm-0',\n",
       " 'mfcc4V_sma3nz_amean-0',\n",
       " 'mfcc4V_sma3nz_stddevNorm-0',\n",
       " 'alphaRatioUV_sma3nz_amean-0',\n",
       " 'hammarbergIndexUV_sma3nz_amean-0',\n",
       " 'slopeUV0-500_sma3nz_amean-0',\n",
       " 'slopeUV500-1500_sma3nz_amean-0',\n",
       " 'spectralFluxUV_sma3nz_amean-0',\n",
       " 'loudnessPeaksPerSec-0',\n",
       " 'VoicedSegmentsPerSec-0',\n",
       " 'MeanVoicedSegmentLengthSec-0',\n",
       " 'StddevVoicedSegmentLengthSec-0',\n",
       " 'MeanUnvoicedSegmentLength-0',\n",
       " 'StddevUnvoicedSegmentLength-0',\n",
       " 'equivalentSoundLevel_dBp-0',\n",
       " 'F0semitoneFrom27.5Hz_sma3nz_amean-1',\n",
       " 'F0semitoneFrom27.5Hz_sma3nz_stddevNorm-1',\n",
       " 'F0semitoneFrom27.5Hz_sma3nz_percentile20.0-1',\n",
       " 'F0semitoneFrom27.5Hz_sma3nz_percentile50.0-1',\n",
       " 'F0semitoneFrom27.5Hz_sma3nz_percentile80.0-1',\n",
       " 'F0semitoneFrom27.5Hz_sma3nz_pctlrange0-2-1',\n",
       " 'F0semitoneFrom27.5Hz_sma3nz_meanRisingSlope-1',\n",
       " 'F0semitoneFrom27.5Hz_sma3nz_stddevRisingSlope-1',\n",
       " 'F0semitoneFrom27.5Hz_sma3nz_meanFallingSlope-1',\n",
       " 'F0semitoneFrom27.5Hz_sma3nz_stddevFallingSlope-1',\n",
       " 'loudness_sma3_amean-1',\n",
       " 'loudness_sma3_stddevNorm-1',\n",
       " 'loudness_sma3_percentile20.0-1',\n",
       " 'loudness_sma3_percentile50.0-1',\n",
       " 'loudness_sma3_percentile80.0-1',\n",
       " 'loudness_sma3_pctlrange0-2-1',\n",
       " 'loudness_sma3_meanRisingSlope-1',\n",
       " 'loudness_sma3_stddevRisingSlope-1',\n",
       " 'loudness_sma3_meanFallingSlope-1',\n",
       " 'loudness_sma3_stddevFallingSlope-1',\n",
       " 'spectralFlux_sma3_amean-1',\n",
       " 'spectralFlux_sma3_stddevNorm-1',\n",
       " 'mfcc1_sma3_amean-1',\n",
       " 'mfcc1_sma3_stddevNorm-1',\n",
       " 'mfcc2_sma3_amean-1',\n",
       " 'mfcc2_sma3_stddevNorm-1',\n",
       " 'mfcc3_sma3_amean-1',\n",
       " 'mfcc3_sma3_stddevNorm-1',\n",
       " 'mfcc4_sma3_amean-1',\n",
       " 'mfcc4_sma3_stddevNorm-1',\n",
       " 'jitterLocal_sma3nz_amean-1',\n",
       " 'jitterLocal_sma3nz_stddevNorm-1',\n",
       " 'shimmerLocaldB_sma3nz_amean-1',\n",
       " 'shimmerLocaldB_sma3nz_stddevNorm-1',\n",
       " 'HNRdBACF_sma3nz_amean-1',\n",
       " 'HNRdBACF_sma3nz_stddevNorm-1',\n",
       " 'logRelF0-H1-H2_sma3nz_amean-1',\n",
       " 'logRelF0-H1-H2_sma3nz_stddevNorm-1',\n",
       " 'logRelF0-H1-A3_sma3nz_amean-1',\n",
       " 'logRelF0-H1-A3_sma3nz_stddevNorm-1',\n",
       " 'F1frequency_sma3nz_amean-1',\n",
       " 'F1frequency_sma3nz_stddevNorm-1',\n",
       " 'F1bandwidth_sma3nz_amean-1',\n",
       " 'F1bandwidth_sma3nz_stddevNorm-1',\n",
       " 'F1amplitudeLogRelF0_sma3nz_amean-1',\n",
       " 'F1amplitudeLogRelF0_sma3nz_stddevNorm-1',\n",
       " 'F2frequency_sma3nz_amean-1',\n",
       " 'F2frequency_sma3nz_stddevNorm-1',\n",
       " 'F2bandwidth_sma3nz_amean-1',\n",
       " 'F2bandwidth_sma3nz_stddevNorm-1',\n",
       " 'F2amplitudeLogRelF0_sma3nz_amean-1',\n",
       " 'F2amplitudeLogRelF0_sma3nz_stddevNorm-1',\n",
       " 'F3frequency_sma3nz_amean-1',\n",
       " 'F3frequency_sma3nz_stddevNorm-1',\n",
       " 'F3bandwidth_sma3nz_amean-1',\n",
       " 'F3bandwidth_sma3nz_stddevNorm-1',\n",
       " 'F3amplitudeLogRelF0_sma3nz_amean-1',\n",
       " 'F3amplitudeLogRelF0_sma3nz_stddevNorm-1',\n",
       " 'alphaRatioV_sma3nz_amean-1',\n",
       " 'alphaRatioV_sma3nz_stddevNorm-1',\n",
       " 'hammarbergIndexV_sma3nz_amean-1',\n",
       " 'hammarbergIndexV_sma3nz_stddevNorm-1',\n",
       " 'slopeV0-500_sma3nz_amean-1',\n",
       " 'slopeV0-500_sma3nz_stddevNorm-1',\n",
       " 'slopeV500-1500_sma3nz_amean-1',\n",
       " 'slopeV500-1500_sma3nz_stddevNorm-1',\n",
       " 'spectralFluxV_sma3nz_amean-1',\n",
       " 'spectralFluxV_sma3nz_stddevNorm-1',\n",
       " 'mfcc1V_sma3nz_amean-1',\n",
       " 'mfcc1V_sma3nz_stddevNorm-1',\n",
       " 'mfcc2V_sma3nz_amean-1',\n",
       " 'mfcc2V_sma3nz_stddevNorm-1',\n",
       " 'mfcc3V_sma3nz_amean-1',\n",
       " 'mfcc3V_sma3nz_stddevNorm-1',\n",
       " 'mfcc4V_sma3nz_amean-1',\n",
       " 'mfcc4V_sma3nz_stddevNorm-1',\n",
       " 'alphaRatioUV_sma3nz_amean-1',\n",
       " 'hammarbergIndexUV_sma3nz_amean-1',\n",
       " 'slopeUV0-500_sma3nz_amean-1',\n",
       " 'slopeUV500-1500_sma3nz_amean-1',\n",
       " 'spectralFluxUV_sma3nz_amean-1',\n",
       " 'loudnessPeaksPerSec-1',\n",
       " 'VoicedSegmentsPerSec-1',\n",
       " 'MeanVoicedSegmentLengthSec-1',\n",
       " 'StddevVoicedSegmentLengthSec-1',\n",
       " 'MeanUnvoicedSegmentLength-1',\n",
       " 'StddevUnvoicedSegmentLength-1',\n",
       " 'equivalentSoundLevel_dBp-1']"
      ]
     },
     "execution_count": 39,
     "metadata": {},
     "output_type": "execute_result"
    }
   ],
   "source": [
    "num_columns = [col for col in df_propios.columns if df_propios[col].dtype != \"object\"]\n",
    "num_columns"
   ]
  },
  {
   "cell_type": "code",
   "execution_count": 40,
   "metadata": {
    "colab": {
     "base_uri": "https://localhost:8080/"
    },
    "id": "2dQkYj90ORdU",
    "outputId": "e59c5bc7-760a-46c4-f78b-7b4205d6f2d9"
   },
   "outputs": [
    {
     "data": {
      "text/plain": [
       "(42, 274)"
      ]
     },
     "execution_count": 40,
     "metadata": {},
     "output_type": "execute_result"
    }
   ],
   "source": [
    "df_propios.shape"
   ]
  },
  {
   "cell_type": "code",
   "execution_count": 43,
   "metadata": {
    "id": "kadlV4d7R0JU"
   },
   "outputs": [],
   "source": [
    "drop_columns = [\n",
    "    \"file_path\",\n",
    "    \"start\",\n",
    "    \"end\",\n",
    "#     \"Unnamed: 0\",\n",
    "#     'Unnamed: 0.1',\n",
    "    \"modality\",# 03 = audio-only\n",
    "    \"vocal_channel\", # (01 = speech, 02 = song).\n",
    "#     \"emotion\",\n",
    "    \"emotional_intensity\", #(01 = normal, 02 = strong)\n",
    "    \"statement\", #(01 = \"Kids are talking by the door\", 02 = \"Dogs are sitting by the door\").\n",
    "    \"repetition\", #(01 = 1st repetition, 02 = 2nd repetition).\n",
    "    \"actor\", #(01 to 24. Odd numbered actors are male, even numbered actors are female).\n",
    "]"
   ]
  },
  {
   "cell_type": "code",
   "execution_count": 44,
   "metadata": {
    "id": "VbZiwy6bQev4"
   },
   "outputs": [],
   "source": [
    "df_propios = df_propios.drop(drop_columns, axis = 1)\n",
    "# df_propios.to_csv('05.01.df_propios.csv')"
   ]
  },
  {
   "cell_type": "code",
   "execution_count": 131,
   "metadata": {
    "id": "MpLlEEC8WGLU"
   },
   "outputs": [],
   "source": [
    "df_propios = pd.read_csv(\"05.01.df_propios.csv\")"
   ]
  },
  {
   "cell_type": "code",
   "execution_count": 145,
   "metadata": {},
   "outputs": [
    {
     "data": {
      "text/plain": [
       "<BarContainer object of 7 artists>"
      ]
     },
     "execution_count": 145,
     "metadata": {},
     "output_type": "execute_result"
    },
    {
     "data": {
      "image/png": "[encoded data removed]",
      "text/plain": [
       "<Figure size 432x288 with 1 Axes>"
      ]
     },
     "metadata": {
      "needs_background": "light"
     },
     "output_type": "display_data"
    }
   ],
   "source": [
    "plt.bar(\n",
    "    df_propios.groupby([\"emotion\"]).loudness_sma3_amean.count().index,\n",
    "    df_propios.groupby([\"emotion\"]).loudness_sma3_amean.count(),\n",
    ")"
   ]
  },
  {
   "cell_type": "code",
   "execution_count": 132,
   "metadata": {
    "id": "UxG99vy1VeUc"
   },
   "outputs": [],
   "source": [
    "x_propios = df_propios.loc[:, df_propios.columns != \"emotion\"]"
   ]
  },
  {
   "cell_type": "code",
   "execution_count": 133,
   "metadata": {
    "id": "fHgFmx1oVSv4"
   },
   "outputs": [],
   "source": [
    "y_propios = np.int64(df_propios[\"emotion\"])"
   ]
  },
  {
   "cell_type": "code",
   "execution_count": 134,
   "metadata": {
    "id": "HmAqBJYlZHWy"
   },
   "outputs": [],
   "source": [
    "drop_columns = [\n",
    "    \"file_path\",\n",
    "    \"start\",\n",
    "    \"end\",\n",
    "    \"Unnamed: 0\",\n",
    "    'Unnamed: 0.1',\n",
    "    \"modality\",# 03 = audio-only\n",
    "    \"vocal_channel\", # (01 = speech, 02 = song).\n",
    "#     \"emotion\",\n",
    "    \"emotional_intensity\", #(01 = normal, 02 = strong)\n",
    "    \"statement\", #(01 = \"Kids are talking by the door\", 02 = \"Dogs are sitting by the door\").\n",
    "    \"repetition\", #(01 = 1st repetition, 02 = 2nd repetition).\n",
    "    \"actor\", #(01 to 24. Odd numbered actors are male, even numbered actors are female).\n",
    "]"
   ]
  },
  {
   "cell_type": "code",
   "execution_count": 150,
   "metadata": {},
   "outputs": [],
   "source": [
    "df_propios = df_propios.drop([\"Unnamed: 0\"], axis = 1)"
   ]
  },
  {
   "cell_type": "markdown",
   "metadata": {
    "id": "r53f5jdAVhhY"
   },
   "source": [
    "## Dataset original"
   ]
  },
  {
   "cell_type": "code",
   "execution_count": 167,
   "metadata": {},
   "outputs": [],
   "source": [
    "df_original = pd.read_csv(\"01.df.procesado.csv\")"
   ]
  },
  {
   "cell_type": "code",
   "execution_count": 168,
   "metadata": {
    "scrolled": true
   },
   "outputs": [
    {
     "data": {
      "text/html": [
       "<div>\n",
       "<style scoped>\n",
       "    .dataframe tbody tr th:only-of-type {\n",
       "        vertical-align: middle;\n",
       "    }\n",
       "\n",
       "    .dataframe tbody tr th {\n",
       "        vertical-align: top;\n",
       "    }\n",
       "\n",
       "    .dataframe thead th {\n",
       "        text-align: right;\n",
       "    }\n",
       "</style>\n",
       "<table border=\"1\" class=\"dataframe\">\n",
       "  <thead>\n",
       "    <tr style=\"text-align: right;\">\n",
       "      <th></th>\n",
       "      <th>Unnamed: 0</th>\n",
       "      <th>file_path</th>\n",
       "      <th>modality</th>\n",
       "      <th>vocal_channel</th>\n",
       "      <th>emotion</th>\n",
       "      <th>emotional_intensity</th>\n",
       "      <th>statement</th>\n",
       "      <th>repetition</th>\n",
       "      <th>actor</th>\n",
       "      <th>start</th>\n",
       "      <th>...</th>\n",
       "      <th>slopeUV0-500_sma3nz_amean</th>\n",
       "      <th>slopeUV500-1500_sma3nz_amean</th>\n",
       "      <th>spectralFluxUV_sma3nz_amean</th>\n",
       "      <th>loudnessPeaksPerSec</th>\n",
       "      <th>VoicedSegmentsPerSec</th>\n",
       "      <th>MeanVoicedSegmentLengthSec</th>\n",
       "      <th>StddevVoicedSegmentLengthSec</th>\n",
       "      <th>MeanUnvoicedSegmentLength</th>\n",
       "      <th>StddevUnvoicedSegmentLength</th>\n",
       "      <th>equivalentSoundLevel_dBp</th>\n",
       "    </tr>\n",
       "  </thead>\n",
       "  <tbody>\n",
       "    <tr>\n",
       "      <th>0</th>\n",
       "      <td>0</td>\n",
       "      <td>./audios/ravdess/Actor_23/03-01-07-02-02-01-23...</td>\n",
       "      <td>3</td>\n",
       "      <td>1</td>\n",
       "      <td>7</td>\n",
       "      <td>2</td>\n",
       "      <td>2</td>\n",
       "      <td>1</td>\n",
       "      <td>23</td>\n",
       "      <td>0 days 00:00:00</td>\n",
       "      <td>...</td>\n",
       "      <td>0.075190</td>\n",
       "      <td>0.014015</td>\n",
       "      <td>0.022255</td>\n",
       "      <td>2.150538</td>\n",
       "      <td>1.089918</td>\n",
       "      <td>0.282500</td>\n",
       "      <td>0.126763</td>\n",
       "      <td>0.490000</td>\n",
       "      <td>0.397291</td>\n",
       "      <td>-36.658245</td>\n",
       "    </tr>\n",
       "    <tr>\n",
       "      <th>1</th>\n",
       "      <td>1</td>\n",
       "      <td>./audios/ravdess/Actor_23/03-02-03-02-02-01-23...</td>\n",
       "      <td>3</td>\n",
       "      <td>2</td>\n",
       "      <td>3</td>\n",
       "      <td>2</td>\n",
       "      <td>2</td>\n",
       "      <td>1</td>\n",
       "      <td>23</td>\n",
       "      <td>0 days 00:00:00</td>\n",
       "      <td>...</td>\n",
       "      <td>0.020998</td>\n",
       "      <td>0.009869</td>\n",
       "      <td>0.018871</td>\n",
       "      <td>1.492537</td>\n",
       "      <td>0.646552</td>\n",
       "      <td>0.820000</td>\n",
       "      <td>0.277248</td>\n",
       "      <td>0.527500</td>\n",
       "      <td>0.438770</td>\n",
       "      <td>-29.391884</td>\n",
       "    </tr>\n",
       "    <tr>\n",
       "      <th>2</th>\n",
       "      <td>2</td>\n",
       "      <td>./audios/ravdess/Actor_23/03-01-04-01-02-01-23...</td>\n",
       "      <td>3</td>\n",
       "      <td>1</td>\n",
       "      <td>4</td>\n",
       "      <td>1</td>\n",
       "      <td>2</td>\n",
       "      <td>1</td>\n",
       "      <td>23</td>\n",
       "      <td>0 days 00:00:00</td>\n",
       "      <td>...</td>\n",
       "      <td>0.047365</td>\n",
       "      <td>0.011048</td>\n",
       "      <td>0.011381</td>\n",
       "      <td>2.247191</td>\n",
       "      <td>0.569801</td>\n",
       "      <td>0.590000</td>\n",
       "      <td>0.160000</td>\n",
       "      <td>0.760000</td>\n",
       "      <td>0.296985</td>\n",
       "      <td>-43.332924</td>\n",
       "    </tr>\n",
       "    <tr>\n",
       "      <th>3</th>\n",
       "      <td>3</td>\n",
       "      <td>./audios/ravdess/Actor_23/03-02-04-02-02-01-23...</td>\n",
       "      <td>3</td>\n",
       "      <td>2</td>\n",
       "      <td>4</td>\n",
       "      <td>2</td>\n",
       "      <td>2</td>\n",
       "      <td>1</td>\n",
       "      <td>23</td>\n",
       "      <td>0 days 00:00:00</td>\n",
       "      <td>...</td>\n",
       "      <td>0.041743</td>\n",
       "      <td>0.012340</td>\n",
       "      <td>0.007390</td>\n",
       "      <td>1.394422</td>\n",
       "      <td>0.603622</td>\n",
       "      <td>0.930000</td>\n",
       "      <td>0.885701</td>\n",
       "      <td>0.527500</td>\n",
       "      <td>0.420260</td>\n",
       "      <td>-37.549572</td>\n",
       "    </tr>\n",
       "    <tr>\n",
       "      <th>4</th>\n",
       "      <td>4</td>\n",
       "      <td>./audios/ravdess/Actor_23/03-01-02-02-02-02-23...</td>\n",
       "      <td>3</td>\n",
       "      <td>1</td>\n",
       "      <td>2</td>\n",
       "      <td>2</td>\n",
       "      <td>2</td>\n",
       "      <td>2</td>\n",
       "      <td>23</td>\n",
       "      <td>0 days 00:00:00</td>\n",
       "      <td>...</td>\n",
       "      <td>0.053580</td>\n",
       "      <td>0.011590</td>\n",
       "      <td>0.005245</td>\n",
       "      <td>1.535088</td>\n",
       "      <td>0.886918</td>\n",
       "      <td>0.387500</td>\n",
       "      <td>0.206079</td>\n",
       "      <td>0.574000</td>\n",
       "      <td>0.424999</td>\n",
       "      <td>-43.261425</td>\n",
       "    </tr>\n",
       "    <tr>\n",
       "      <th>...</th>\n",
       "      <td>...</td>\n",
       "      <td>...</td>\n",
       "      <td>...</td>\n",
       "      <td>...</td>\n",
       "      <td>...</td>\n",
       "      <td>...</td>\n",
       "      <td>...</td>\n",
       "      <td>...</td>\n",
       "      <td>...</td>\n",
       "      <td>...</td>\n",
       "      <td>...</td>\n",
       "      <td>...</td>\n",
       "      <td>...</td>\n",
       "      <td>...</td>\n",
       "      <td>...</td>\n",
       "      <td>...</td>\n",
       "      <td>...</td>\n",
       "      <td>...</td>\n",
       "      <td>...</td>\n",
       "      <td>...</td>\n",
       "      <td>...</td>\n",
       "    </tr>\n",
       "    <tr>\n",
       "      <th>2447</th>\n",
       "      <td>2447</td>\n",
       "      <td>./audios/ravdess/Actor_22/03-02-02-02-02-01-22...</td>\n",
       "      <td>3</td>\n",
       "      <td>2</td>\n",
       "      <td>2</td>\n",
       "      <td>2</td>\n",
       "      <td>2</td>\n",
       "      <td>1</td>\n",
       "      <td>22</td>\n",
       "      <td>0 days 00:00:00</td>\n",
       "      <td>...</td>\n",
       "      <td>0.098631</td>\n",
       "      <td>0.014208</td>\n",
       "      <td>0.011939</td>\n",
       "      <td>1.257862</td>\n",
       "      <td>0.633914</td>\n",
       "      <td>1.045000</td>\n",
       "      <td>1.346189</td>\n",
       "      <td>0.408000</td>\n",
       "      <td>0.423386</td>\n",
       "      <td>-33.219906</td>\n",
       "    </tr>\n",
       "    <tr>\n",
       "      <th>2448</th>\n",
       "      <td>2448</td>\n",
       "      <td>./audios/ravdess/Actor_22/03-02-01-01-02-02-22...</td>\n",
       "      <td>3</td>\n",
       "      <td>2</td>\n",
       "      <td>1</td>\n",
       "      <td>1</td>\n",
       "      <td>2</td>\n",
       "      <td>2</td>\n",
       "      <td>22</td>\n",
       "      <td>0 days 00:00:00</td>\n",
       "      <td>...</td>\n",
       "      <td>0.063631</td>\n",
       "      <td>0.011066</td>\n",
       "      <td>0.007059</td>\n",
       "      <td>1.890756</td>\n",
       "      <td>0.636943</td>\n",
       "      <td>0.863333</td>\n",
       "      <td>0.839259</td>\n",
       "      <td>0.512500</td>\n",
       "      <td>0.468955</td>\n",
       "      <td>-33.061134</td>\n",
       "    </tr>\n",
       "    <tr>\n",
       "      <th>2449</th>\n",
       "      <td>2449</td>\n",
       "      <td>./audios/ravdess/Actor_22/03-01-06-02-02-02-22...</td>\n",
       "      <td>3</td>\n",
       "      <td>1</td>\n",
       "      <td>6</td>\n",
       "      <td>2</td>\n",
       "      <td>2</td>\n",
       "      <td>2</td>\n",
       "      <td>22</td>\n",
       "      <td>0 days 00:00:00</td>\n",
       "      <td>...</td>\n",
       "      <td>0.061096</td>\n",
       "      <td>0.006023</td>\n",
       "      <td>0.019152</td>\n",
       "      <td>2.228412</td>\n",
       "      <td>0.847458</td>\n",
       "      <td>0.490000</td>\n",
       "      <td>0.074833</td>\n",
       "      <td>0.663333</td>\n",
       "      <td>0.407458</td>\n",
       "      <td>-29.857113</td>\n",
       "    </tr>\n",
       "    <tr>\n",
       "      <th>2450</th>\n",
       "      <td>2450</td>\n",
       "      <td>./audios/ravdess/Actor_22/03-02-02-02-02-02-22...</td>\n",
       "      <td>3</td>\n",
       "      <td>2</td>\n",
       "      <td>2</td>\n",
       "      <td>2</td>\n",
       "      <td>2</td>\n",
       "      <td>2</td>\n",
       "      <td>22</td>\n",
       "      <td>0 days 00:00:00</td>\n",
       "      <td>...</td>\n",
       "      <td>0.076382</td>\n",
       "      <td>0.012524</td>\n",
       "      <td>0.007605</td>\n",
       "      <td>2.079395</td>\n",
       "      <td>0.763359</td>\n",
       "      <td>0.762500</td>\n",
       "      <td>0.600432</td>\n",
       "      <td>0.522500</td>\n",
       "      <td>0.453673</td>\n",
       "      <td>-35.297977</td>\n",
       "    </tr>\n",
       "    <tr>\n",
       "      <th>2451</th>\n",
       "      <td>2451</td>\n",
       "      <td>./audios/ravdess/Actor_22/03-01-04-01-01-02-22...</td>\n",
       "      <td>3</td>\n",
       "      <td>1</td>\n",
       "      <td>4</td>\n",
       "      <td>1</td>\n",
       "      <td>1</td>\n",
       "      <td>2</td>\n",
       "      <td>22</td>\n",
       "      <td>0 days 00:00:00</td>\n",
       "      <td>...</td>\n",
       "      <td>0.061844</td>\n",
       "      <td>0.008044</td>\n",
       "      <td>0.008713</td>\n",
       "      <td>2.168022</td>\n",
       "      <td>1.373626</td>\n",
       "      <td>0.272000</td>\n",
       "      <td>0.198232</td>\n",
       "      <td>0.361667</td>\n",
       "      <td>0.452969</td>\n",
       "      <td>-45.019146</td>\n",
       "    </tr>\n",
       "  </tbody>\n",
       "</table>\n",
       "<p>2452 rows × 99 columns</p>\n",
       "</div>"
      ],
      "text/plain": [
       "      Unnamed: 0                                          file_path  modality  \\\n",
       "0              0  ./audios/ravdess/Actor_23/03-01-07-02-02-01-23...         3   \n",
       "1              1  ./audios/ravdess/Actor_23/03-02-03-02-02-01-23...         3   \n",
       "2              2  ./audios/ravdess/Actor_23/03-01-04-01-02-01-23...         3   \n",
       "3              3  ./audios/ravdess/Actor_23/03-02-04-02-02-01-23...         3   \n",
       "4              4  ./audios/ravdess/Actor_23/03-01-02-02-02-02-23...         3   \n",
       "...          ...                                                ...       ...   \n",
       "2447        2447  ./audios/ravdess/Actor_22/03-02-02-02-02-01-22...         3   \n",
       "2448        2448  ./audios/ravdess/Actor_22/03-02-01-01-02-02-22...         3   \n",
       "2449        2449  ./audios/ravdess/Actor_22/03-01-06-02-02-02-22...         3   \n",
       "2450        2450  ./audios/ravdess/Actor_22/03-02-02-02-02-02-22...         3   \n",
       "2451        2451  ./audios/ravdess/Actor_22/03-01-04-01-01-02-22...         3   \n",
       "\n",
       "      vocal_channel  emotion  emotional_intensity  statement  repetition  \\\n",
       "0                 1        7                    2          2           1   \n",
       "1                 2        3                    2          2           1   \n",
       "2                 1        4                    1          2           1   \n",
       "3                 2        4                    2          2           1   \n",
       "4                 1        2                    2          2           2   \n",
       "...             ...      ...                  ...        ...         ...   \n",
       "2447              2        2                    2          2           1   \n",
       "2448              2        1                    1          2           2   \n",
       "2449              1        6                    2          2           2   \n",
       "2450              2        2                    2          2           2   \n",
       "2451              1        4                    1          1           2   \n",
       "\n",
       "      actor            start  ... slopeUV0-500_sma3nz_amean  \\\n",
       "0        23  0 days 00:00:00  ...                  0.075190   \n",
       "1        23  0 days 00:00:00  ...                  0.020998   \n",
       "2        23  0 days 00:00:00  ...                  0.047365   \n",
       "3        23  0 days 00:00:00  ...                  0.041743   \n",
       "4        23  0 days 00:00:00  ...                  0.053580   \n",
       "...     ...              ...  ...                       ...   \n",
       "2447     22  0 days 00:00:00  ...                  0.098631   \n",
       "2448     22  0 days 00:00:00  ...                  0.063631   \n",
       "2449     22  0 days 00:00:00  ...                  0.061096   \n",
       "2450     22  0 days 00:00:00  ...                  0.076382   \n",
       "2451     22  0 days 00:00:00  ...                  0.061844   \n",
       "\n",
       "      slopeUV500-1500_sma3nz_amean  spectralFluxUV_sma3nz_amean  \\\n",
       "0                         0.014015                     0.022255   \n",
       "1                         0.009869                     0.018871   \n",
       "2                         0.011048                     0.011381   \n",
       "3                         0.012340                     0.007390   \n",
       "4                         0.011590                     0.005245   \n",
       "...                            ...                          ...   \n",
       "2447                      0.014208                     0.011939   \n",
       "2448                      0.011066                     0.007059   \n",
       "2449                      0.006023                     0.019152   \n",
       "2450                      0.012524                     0.007605   \n",
       "2451                      0.008044                     0.008713   \n",
       "\n",
       "      loudnessPeaksPerSec  VoicedSegmentsPerSec  MeanVoicedSegmentLengthSec  \\\n",
       "0                2.150538              1.089918                    0.282500   \n",
       "1                1.492537              0.646552                    0.820000   \n",
       "2                2.247191              0.569801                    0.590000   \n",
       "3                1.394422              0.603622                    0.930000   \n",
       "4                1.535088              0.886918                    0.387500   \n",
       "...                   ...                   ...                         ...   \n",
       "2447             1.257862              0.633914                    1.045000   \n",
       "2448             1.890756              0.636943                    0.863333   \n",
       "2449             2.228412              0.847458                    0.490000   \n",
       "2450             2.079395              0.763359                    0.762500   \n",
       "2451             2.168022              1.373626                    0.272000   \n",
       "\n",
       "      StddevVoicedSegmentLengthSec  MeanUnvoicedSegmentLength  \\\n",
       "0                         0.126763                   0.490000   \n",
       "1                         0.277248                   0.527500   \n",
       "2                         0.160000                   0.760000   \n",
       "3                         0.885701                   0.527500   \n",
       "4                         0.206079                   0.574000   \n",
       "...                            ...                        ...   \n",
       "2447                      1.346189                   0.408000   \n",
       "2448                      0.839259                   0.512500   \n",
       "2449                      0.074833                   0.663333   \n",
       "2450                      0.600432                   0.522500   \n",
       "2451                      0.198232                   0.361667   \n",
       "\n",
       "      StddevUnvoicedSegmentLength  equivalentSoundLevel_dBp  \n",
       "0                        0.397291                -36.658245  \n",
       "1                        0.438770                -29.391884  \n",
       "2                        0.296985                -43.332924  \n",
       "3                        0.420260                -37.549572  \n",
       "4                        0.424999                -43.261425  \n",
       "...                           ...                       ...  \n",
       "2447                     0.423386                -33.219906  \n",
       "2448                     0.468955                -33.061134  \n",
       "2449                     0.407458                -29.857113  \n",
       "2450                     0.453673                -35.297977  \n",
       "2451                     0.452969                -45.019146  \n",
       "\n",
       "[2452 rows x 99 columns]"
      ]
     },
     "execution_count": 168,
     "metadata": {},
     "output_type": "execute_result"
    }
   ],
   "source": [
    "df_original"
   ]
  },
  {
   "cell_type": "code",
   "execution_count": 169,
   "metadata": {},
   "outputs": [],
   "source": [
    "drop_columns = [\n",
    "    \"file_path\",\n",
    "    \"start\",\n",
    "    \"end\",\n",
    "    \"Unnamed: 0\",\n",
    "#     'Unnamed: 0.1',\n",
    "    \"modality\",# 03 = audio-only\n",
    "    \"vocal_channel\", # (01 = speech, 02 = song).\n",
    "#     \"emotion\",\n",
    "    \"emotional_intensity\", #(01 = normal, 02 = strong)\n",
    "    \"statement\", #(01 = \"Kids are talking by the door\", 02 = \"Dogs are sitting by the door\").\n",
    "    \"repetition\", #(01 = 1st repetition, 02 = 2nd repetition).\n",
    "#     \"actor\", #(01 to 24. Odd numbered actors are male, even numbered actors are female).\n",
    "]"
   ]
  },
  {
   "cell_type": "code",
   "execution_count": 170,
   "metadata": {},
   "outputs": [],
   "source": [
    "df_original = df_original.drop(drop_columns, axis = 1)"
   ]
  },
  {
   "cell_type": "code",
   "execution_count": 171,
   "metadata": {},
   "outputs": [
    {
     "data": {
      "text/plain": [
       "<BarContainer object of 8 artists>"
      ]
     },
     "execution_count": 171,
     "metadata": {},
     "output_type": "execute_result"
    },
    {
     "data": {
      "image/png": "[encoded data removed]",
      "text/plain": [
       "<Figure size 432x288 with 1 Axes>"
      ]
     },
     "metadata": {
      "needs_background": "light"
     },
     "output_type": "display_data"
    }
   ],
   "source": [
    "plt.bar(\n",
    "    df_original.groupby([\"emotion\"]).loudness_sma3_amean.count().index,\n",
    "    df_original.groupby([\"emotion\"]).loudness_sma3_amean.count(),\n",
    ")"
   ]
  },
  {
   "cell_type": "markdown",
   "metadata": {
    "id": "WSEB-70qTnHq"
   },
   "source": [
    "# Entrenando el mejor modelo (RF)"
   ]
  },
  {
   "cell_type": "markdown",
   "metadata": {
    "id": "9gOVZCDoq1Dq"
   },
   "source": [
    "Al comparar las performance del bagging , el AdaBoost y el Random Forest se obtuvo un mejor desempeño por parte del RF con los siguientes hiperparámetros:"
   ]
  },
  {
   "cell_type": "code",
   "execution_count": 172,
   "metadata": {
    "id": "2MKKhN5aL5BC"
   },
   "outputs": [],
   "source": [
    "rf = RandomForestClassifier(n_estimators=3050, bootstrap=True, random_state=42)"
   ]
  },
  {
   "cell_type": "code",
   "execution_count": 173,
   "metadata": {},
   "outputs": [
    {
     "data": {
      "text/plain": [
       "(42, 89)"
      ]
     },
     "execution_count": 173,
     "metadata": {},
     "output_type": "execute_result"
    }
   ],
   "source": [
    "df_propios.shape"
   ]
  },
  {
   "cell_type": "code",
   "execution_count": 174,
   "metadata": {
    "id": "tznidUpMQ6q_",
    "scrolled": true
   },
   "outputs": [],
   "source": [
    "X_train, x_test, y_train, y_test = train_test_split(\n",
    "    df_original.loc[:, df_original.columns != \"emotion\"],\n",
    "    df_original[\"emotion\"],\n",
    "    stratify=df_original[\"emotion\"],\n",
    "    random_state=66,\n",
    ")"
   ]
  },
  {
   "cell_type": "code",
   "execution_count": 175,
   "metadata": {
    "colab": {
     "base_uri": "https://localhost:8080/"
    },
    "id": "V45dg4B9YfSV",
    "outputId": "94e844d0-51d7-4be5-e0b1-90df70203899"
   },
   "outputs": [
    {
     "data": {
      "text/plain": [
       "RandomForestClassifier(n_estimators=3050, random_state=42)"
      ]
     },
     "execution_count": 175,
     "metadata": {},
     "output_type": "execute_result"
    }
   ],
   "source": [
    "rf.fit(X_train, y_train)"
   ]
  },
  {
   "cell_type": "markdown",
   "metadata": {
    "id": "OcsgWy0mTp6r"
   },
   "source": [
    "# Resultados"
   ]
  },
  {
   "cell_type": "code",
   "execution_count": 176,
   "metadata": {
    "id": "xsxWjw_ysp05"
   },
   "outputs": [],
   "source": [
    "y_pred_propios = rf.predict(x_propios)"
   ]
  },
  {
   "cell_type": "code",
   "execution_count": 181,
   "metadata": {
    "id": "ggKXGZHE-5b0"
   },
   "outputs": [],
   "source": [
    "# labels_cm = ['Neu.', 'Calm','Hap.','Sad','Angry','Fear.','Disg.','Surpr.']\n",
    "labels_cm = ['Neu.', 'Calm','Hap.','Sad','Angry','Fear.','Disg.','Surpr.']\n"
   ]
  },
  {
   "cell_type": "code",
   "execution_count": 178,
   "metadata": {},
   "outputs": [
    {
     "data": {
      "text/plain": [
       "{1: 3, 2: 2, 3: 12, 4: 6, 5: 7, 7: 1, 8: 11}"
      ]
     },
     "execution_count": 178,
     "metadata": {},
     "output_type": "execute_result"
    }
   ],
   "source": [
    "unique, counts = np.unique(y_propios, return_counts=True)\n",
    "dict(zip(unique, counts))"
   ]
  },
  {
   "cell_type": "code",
   "execution_count": 179,
   "metadata": {},
   "outputs": [
    {
     "data": {
      "text/plain": [
       "{3: 4, 4: 2, 5: 24, 6: 10, 7: 2}"
      ]
     },
     "execution_count": 179,
     "metadata": {},
     "output_type": "execute_result"
    }
   ],
   "source": [
    "unique, counts = np.unique(y_pred_propios, return_counts=True)\n",
    "dict(zip(unique, counts))"
   ]
  },
  {
   "cell_type": "code",
   "execution_count": 182,
   "metadata": {
    "colab": {
     "base_uri": "https://localhost:8080/",
     "height": 466
    },
    "id": "izgj3TccV9gM",
    "outputId": "2181598c-e11a-4083-82e4-6c6ff7923a17"
   },
   "outputs": [
    {
     "data": {
      "text/plain": [
       "[Text(0, 0.5, 'Neu.'),\n",
       " Text(0, 1.5, 'Calm'),\n",
       " Text(0, 2.5, 'Hap.'),\n",
       " Text(0, 3.5, 'Sad'),\n",
       " Text(0, 4.5, 'Angry'),\n",
       " Text(0, 5.5, 'Fear.'),\n",
       " Text(0, 6.5, 'Disg.'),\n",
       " Text(0, 7.5, 'Surpr.')]"
      ]
     },
     "execution_count": 182,
     "metadata": {},
     "output_type": "execute_result"
    },
    {
     "data": {
      "image/png": "[encoded data removed]",
      "text/plain": [
       "<Figure size 432x288 with 2 Axes>"
      ]
     },
     "metadata": {
      "needs_background": "light"
     },
     "output_type": "display_data"
    }
   ],
   "source": [
    "ax = plt.subplot()\n",
    "cm = confusion_matrix(y_propios, y_pred_propios)\n",
    "sns.heatmap(cm, cmap=\"Blues\", annot=True, fmt=\"g\")\n",
    "plt.xlabel(\"Predicted\")\n",
    "plt.ylabel(\"True\")\n",
    "ax.set_title(\"Random Forest (Accuracy: 0.19 - F1: 0.10)\")\n",
    "ax.xaxis.set_ticklabels(labels_cm)\n",
    "ax.yaxis.set_ticklabels(labels_cm)"
   ]
  },
  {
   "cell_type": "code",
   "execution_count": 183,
   "metadata": {
    "colab": {
     "base_uri": "https://localhost:8080/"
    },
    "id": "Imf_GPMoYGDb",
    "outputId": "a52408cc-2b51-426e-daf4-c2af9b38bc8e"
   },
   "outputs": [
    {
     "name": "stdout",
     "output_type": "stream",
     "text": [
      "              precision    recall  f1-score   support\n",
      "\n",
      "           1       0.00      0.00      0.00         3\n",
      "           2       0.00      0.00      0.00         2\n",
      "           3       0.00      0.00      0.00        12\n",
      "           4       0.00      0.00      0.00         6\n",
      "           5       0.29      1.00      0.45         7\n",
      "           6       0.00      0.00      0.00         0\n",
      "           7       0.00      0.00      0.00         1\n",
      "           8       0.00      0.00      0.00        11\n",
      "\n",
      "    accuracy                           0.17        42\n",
      "   macro avg       0.04      0.12      0.06        42\n",
      "weighted avg       0.05      0.17      0.08        42\n",
      "\n"
     ]
    },
    {
     "name": "stderr",
     "output_type": "stream",
     "text": [
      "/home/User/.local/lib/python3.6/site-packages/sklearn/metrics/_classification.py:1248: UndefinedMetricWarning: Precision and F-score are ill-defined and being set to 0.0 in labels with no predicted samples. Use `zero_division` parameter to control this behavior.\n",
      "  _warn_prf(average, modifier, msg_start, len(result))\n",
      "/home/User/.local/lib/python3.6/site-packages/sklearn/metrics/_classification.py:1248: UndefinedMetricWarning: Recall and F-score are ill-defined and being set to 0.0 in labels with no true samples. Use `zero_division` parameter to control this behavior.\n",
      "  _warn_prf(average, modifier, msg_start, len(result))\n",
      "/home/User/.local/lib/python3.6/site-packages/sklearn/metrics/_classification.py:1248: UndefinedMetricWarning: Precision and F-score are ill-defined and being set to 0.0 in labels with no predicted samples. Use `zero_division` parameter to control this behavior.\n",
      "  _warn_prf(average, modifier, msg_start, len(result))\n",
      "/home/User/.local/lib/python3.6/site-packages/sklearn/metrics/_classification.py:1248: UndefinedMetricWarning: Recall and F-score are ill-defined and being set to 0.0 in labels with no true samples. Use `zero_division` parameter to control this behavior.\n",
      "  _warn_prf(average, modifier, msg_start, len(result))\n",
      "/home/User/.local/lib/python3.6/site-packages/sklearn/metrics/_classification.py:1248: UndefinedMetricWarning: Precision and F-score are ill-defined and being set to 0.0 in labels with no predicted samples. Use `zero_division` parameter to control this behavior.\n",
      "  _warn_prf(average, modifier, msg_start, len(result))\n",
      "/home/User/.local/lib/python3.6/site-packages/sklearn/metrics/_classification.py:1248: UndefinedMetricWarning: Recall and F-score are ill-defined and being set to 0.0 in labels with no true samples. Use `zero_division` parameter to control this behavior.\n",
      "  _warn_prf(average, modifier, msg_start, len(result))\n"
     ]
    }
   ],
   "source": [
    "print(classification_report(y_propios, y_pred_propios))"
   ]
  },
  {
   "cell_type": "markdown",
   "metadata": {
    "id": "MCcAA4EbnAKo"
   },
   "source": [
    "## Probando con Adaboost"
   ]
  },
  {
   "cell_type": "code",
   "execution_count": 184,
   "metadata": {
    "colab": {
     "base_uri": "https://localhost:8080/"
    },
    "id": "rL-FOKE2r0ic",
    "outputId": "5be24427-96a5-4561-b534-2ba48cd604d2"
   },
   "outputs": [
    {
     "data": {
      "text/plain": [
       "AdaBoostClassifier(base_estimator=DecisionTreeClassifier(class_weight='balanced'),\n",
       "                   learning_rate=0.707, n_estimators=1640)"
      ]
     },
     "execution_count": 184,
     "metadata": {},
     "output_type": "execute_result"
    }
   ],
   "source": [
    "best_adaboost = AdaBoostClassifier(\n",
    "    DecisionTreeClassifier(class_weight=\"balanced\"),\n",
    "    n_estimators=1640,\n",
    "    learning_rate=0.707,\n",
    ")\n",
    "best_adaboost.fit(X_train, y_train)"
   ]
  },
  {
   "cell_type": "code",
   "execution_count": 185,
   "metadata": {
    "id": "0oh9lXigsW7u"
   },
   "outputs": [],
   "source": [
    "y_pred_propios_ada = best_adaboost.predict(x_propios)"
   ]
  },
  {
   "cell_type": "code",
   "execution_count": 186,
   "metadata": {
    "colab": {
     "base_uri": "https://localhost:8080/"
    },
    "id": "_8gtXENJtNgS",
    "outputId": "e4dce837-e523-45cc-a467-44d7eac092e3"
   },
   "outputs": [
    {
     "name": "stdout",
     "output_type": "stream",
     "text": [
      "              precision    recall  f1-score   support\n",
      "\n",
      "           1       0.00      0.00      0.00         3\n",
      "           2       0.00      0.00      0.00         2\n",
      "           3       0.00      0.00      0.00        12\n",
      "           4       0.00      0.00      0.00         6\n",
      "           5       0.25      0.71      0.37         7\n",
      "           6       0.00      0.00      0.00         0\n",
      "           7       0.00      0.00      0.00         1\n",
      "           8       0.00      0.00      0.00        11\n",
      "\n",
      "    accuracy                           0.12        42\n",
      "   macro avg       0.03      0.09      0.05        42\n",
      "weighted avg       0.04      0.12      0.06        42\n",
      "\n"
     ]
    },
    {
     "name": "stderr",
     "output_type": "stream",
     "text": [
      "/home/User/.local/lib/python3.6/site-packages/sklearn/metrics/_classification.py:1248: UndefinedMetricWarning: Precision and F-score are ill-defined and being set to 0.0 in labels with no predicted samples. Use `zero_division` parameter to control this behavior.\n",
      "  _warn_prf(average, modifier, msg_start, len(result))\n",
      "/home/User/.local/lib/python3.6/site-packages/sklearn/metrics/_classification.py:1248: UndefinedMetricWarning: Recall and F-score are ill-defined and being set to 0.0 in labels with no true samples. Use `zero_division` parameter to control this behavior.\n",
      "  _warn_prf(average, modifier, msg_start, len(result))\n",
      "/home/User/.local/lib/python3.6/site-packages/sklearn/metrics/_classification.py:1248: UndefinedMetricWarning: Precision and F-score are ill-defined and being set to 0.0 in labels with no predicted samples. Use `zero_division` parameter to control this behavior.\n",
      "  _warn_prf(average, modifier, msg_start, len(result))\n",
      "/home/User/.local/lib/python3.6/site-packages/sklearn/metrics/_classification.py:1248: UndefinedMetricWarning: Recall and F-score are ill-defined and being set to 0.0 in labels with no true samples. Use `zero_division` parameter to control this behavior.\n",
      "  _warn_prf(average, modifier, msg_start, len(result))\n",
      "/home/User/.local/lib/python3.6/site-packages/sklearn/metrics/_classification.py:1248: UndefinedMetricWarning: Precision and F-score are ill-defined and being set to 0.0 in labels with no predicted samples. Use `zero_division` parameter to control this behavior.\n",
      "  _warn_prf(average, modifier, msg_start, len(result))\n",
      "/home/User/.local/lib/python3.6/site-packages/sklearn/metrics/_classification.py:1248: UndefinedMetricWarning: Recall and F-score are ill-defined and being set to 0.0 in labels with no true samples. Use `zero_division` parameter to control this behavior.\n",
      "  _warn_prf(average, modifier, msg_start, len(result))\n"
     ]
    }
   ],
   "source": [
    "print(classification_report(y_propios, y_pred_propios_ada))"
   ]
  },
  {
   "cell_type": "code",
   "execution_count": 187,
   "metadata": {
    "colab": {
     "base_uri": "https://localhost:8080/",
     "height": 466
    },
    "id": "bNfUfwWutJnK",
    "outputId": "4c2346a3-f925-4b67-da5c-72c8539fdfe6"
   },
   "outputs": [
    {
     "data": {
      "text/plain": [
       "[Text(0, 0.5, 'Neu.'),\n",
       " Text(0, 1.5, 'Calm'),\n",
       " Text(0, 2.5, 'Hap.'),\n",
       " Text(0, 3.5, 'Sad'),\n",
       " Text(0, 4.5, 'Angry'),\n",
       " Text(0, 5.5, 'Fear.'),\n",
       " Text(0, 6.5, 'Disg.'),\n",
       " Text(0, 7.5, 'Surpr.')]"
      ]
     },
     "execution_count": 187,
     "metadata": {},
     "output_type": "execute_result"
    },
    {
     "data": {
      "image/png": "[encoded data removed]",
      "text/plain": [
       "<Figure size 432x288 with 2 Axes>"
      ]
     },
     "metadata": {
      "needs_background": "light"
     },
     "output_type": "display_data"
    }
   ],
   "source": [
    "ax = plt.subplot()\n",
    "cm = confusion_matrix(y_propios, y_pred_propios_ada)\n",
    "sns.heatmap(cm, cmap=\"Blues\", annot=True, fmt=\"g\")\n",
    "plt.xlabel(\"Predicted\")\n",
    "plt.ylabel(\"True\")\n",
    "ax.set_title(\"AdaBoost \\n Accuracy: 0.14 \\n F1: 0.12\")\n",
    "ax.xaxis.set_ticklabels(labels_cm)\n",
    "ax.yaxis.set_ticklabels(labels_cm)"
   ]
  },
  {
   "cell_type": "code",
   "execution_count": 188,
   "metadata": {
    "colab": {
     "base_uri": "https://localhost:8080/"
    },
    "id": "uQvzT5XOvTsU",
    "outputId": "a94b9d30-b10b-46d3-c754-9768c53ddc63"
   },
   "outputs": [
    {
     "data": {
      "text/plain": [
       "AdaBoostClassifier(base_estimator=DecisionTreeClassifier(class_weight='balanced'),\n",
       "                   learning_rate=0.707, n_estimators=1640)"
      ]
     },
     "execution_count": 188,
     "metadata": {},
     "output_type": "execute_result"
    }
   ],
   "source": [
    "best_adaboost"
   ]
  }
 ],
 "metadata": {
  "colab": {
   "collapsed_sections": [],
   "name": "05 Test grabaciones propias.ipynb",
   "provenance": []
  },
  "kernelspec": {
   "display_name": "Python 3",
   "language": "python",
   "name": "python3"
  },
  "language_info": {
   "codemirror_mode": {
    "name": "ipython",
    "version": 3
   },
   "file_extension": ".py",
   "mimetype": "text/x-python",
   "name": "python",
   "nbconvert_exporter": "python",
   "pygments_lexer": "ipython3",
   "version": "3.6.9"
  }
 },
 "nbformat": 4,
 "nbformat_minor": 1
}
